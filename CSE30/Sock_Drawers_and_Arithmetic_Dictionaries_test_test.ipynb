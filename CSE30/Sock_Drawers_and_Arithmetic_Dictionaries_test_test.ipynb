{
  "cells": [
    {
      "cell_type": "markdown",
      "metadata": {
        "id": "lzNzZjQIellY"
      },
      "source": [
        "Before you turn this problem in, make sure everything runs as expected. First, **restart the kernel** (in the menubar, select Kernel$\\rightarrow$Restart) and then **run all cells** (in the menubar, select Cell$\\rightarrow$Run All).\n",
        "\n",
        "Make sure you fill in any place that says `YOUR CODE HERE` or \"YOUR ANSWER HERE\", as well as your name and collaborators below:"
      ]
    },
    {
      "cell_type": "code",
      "execution_count": null,
      "metadata": {
        "id": "e8LapAQbellb"
      },
      "outputs": [],
      "source": [
        "NAME = \"\"\n",
        "COLLABORATORS = \"\""
      ]
    },
    {
      "cell_type": "markdown",
      "metadata": {
        "id": "TapAQCI6ellb"
      },
      "source": [
        "---"
      ]
    },
    {
      "cell_type": "markdown",
      "metadata": {
        "deletable": false,
        "editable": false,
        "nbgrader": {
          "cell_type": "markdown",
          "checksum": "eb39e67345fade1c51d5634065de6be1",
          "grade": false,
          "grade_id": "cell-ad0f29739531948f",
          "locked": true,
          "schema_version": 3,
          "solution": false
        },
        "id": "1GRw9qVNellc"
      },
      "source": [
        "# Designing a Class: Sock Drawers and Arithmetic Dictionaries\n",
        "\n",
        "Copyright Luca de Alfaro, 2019-2021. \n",
        "License: [CC-BY-NC-ND](https://creativecommons.org/licenses/by-nc-nd/4.0/)."
      ]
    },
    {
      "cell_type": "markdown",
      "metadata": {
        "deletable": false,
        "editable": false,
        "nbgrader": {
          "cell_type": "markdown",
          "checksum": "a7f6b8e9c6c3d16c924cd243de294c28",
          "grade": false,
          "grade_id": "cell-8eadc2cb2940b543",
          "locked": true,
          "schema_version": 3,
          "solution": false,
          "task": false
        },
        "id": "tUNfH6PAellc"
      },
      "source": [
        "# CSE 30 Winter 2022 - Homework 6\n",
        "\n",
        "\n",
        "### Instructions\n",
        "\n",
        "Please disregard the YOUR NAME and COLLABORATORS above.  They are put there atomatically by the grading tool.\n",
        "You can find instructions on how to work on a homework on Canvas.  Here is a short summary: \n",
        "\n",
        "### Submitting your work\n",
        "\n",
        "To submit your work: \n",
        "\n",
        "* First, click on \"Runtime > Restart and run all\", and check that you get no errors.  This enables you to catch any error you might have introduced, and not noticed, due to your running cells out of order. \n",
        "* Second, download the notebook in .ipynb format (File > Download .ipynb) and upload the .ipynb file to [this form](https://docs.google.com/forms/d/e/1FAIpQLSeQbqeNXt4yQuJQAlcW_etZOAhMGNgRlDIgasxpxGoOZb32yA/viewform?usp=sf_link).\n",
        "* This homework is due on **Monday, 31 January 2022** by 11:59pm.\n",
        "\n",
        "You can submit multiple times; the last submission before the deadline is the one that counts.\n",
        "\n",
        "### Homework format\n",
        "\n",
        "For each question in this notebook, there is: \n",
        "\n",
        "* A text description of the problem. \n",
        "* One or more places where you have to insert your solution.  You need to complete every place marked: \n",
        "\n",
        "    `# YOUR CODE HERE`\n",
        "    \n",
        "    and you should not modify any other place. \n",
        "* One or more test cells.  Each cell is worth some number of points, marked at the top.  You should not modify these tests cells.  The tests pass if no error is printed out: when there is a statement that says, for instance: \n",
        "\n",
        "    `assert x == 2`\n",
        "    \n",
        "    then the test passes if `x` has value 2, and fails otherwise.  You can insert a `print(x)` (for this case!) somewhere if you want to debug your work; it is up to you.  \n",
        "    \n",
        "### Notes:\n",
        "\n",
        "* Your code will be tested both according to the tests you can see (the `assert` statements you can see), _and_ additional tests.  This prevents you from hard-coding the answer to the particular questions posed.  Your code should solve the _general_ intended case, not hard-code the particular answer for the values used in the tests. \n",
        "\n",
        "* **Please do not delete or add cells!** The test is autograded, and if you modify the test by adding or deleting cells, even if you re-add cells you delete, you may not receive credit. \n",
        "\n",
        "* **Please do not import modules that are not part of the [standard library](https://docs.python.org/3/library/index.html).** You do not need any, and they will likely not available in the grading environment, leading your code to fail. \n",
        "\n",
        "* **If you are inactive too long, your notebook might get disconnected from the back-end.** Your work is never lost, but you have to re-run all the cells before you continue. \n",
        "\n",
        "* You can write out print statements in your code, to help you test/debug it. But remember: the code is graded on the basis of what it outputs or returns, not on the basis of what it prints.\n",
        "\n",
        "* **TAs and tutors have access to this notebook,** so if you let them know you need their help, they can look at your work and give you advice. \n",
        "\n",
        "### Grading\n",
        "\n",
        "Each cell where there are tests is worth a certain number of points.  You get the points allocated to a cell only if you pass _all_ the tests in the cell. \n",
        "\n",
        "The tests in a cell include both the tests you can see, and other, similar, tests that are used for grading only.  Therefore, you cannot hard-code the solutions: you really have to solve the essence of the problem, to receive the points in a cell. \n",
        "\n",
        "### Code of Conduct\n",
        "\n",
        "* Work on the test yourself, alone. \n",
        "* You can search documentation on the web, on sites such as the Python documentation sites, Stackoverflow, and similar, and you can use the results. \n",
        "* You cannot share your work with others or solicit their help."
      ]
    },
    {
      "cell_type": "markdown",
      "metadata": {
        "deletable": false,
        "editable": false,
        "nbgrader": {
          "cell_type": "markdown",
          "checksum": "06634aaa5440fbfbe3ede356b84da28b",
          "grade": false,
          "grade_id": "cell-9a4719a216d2d27a",
          "locked": true,
          "schema_version": 3,
          "solution": false
        },
        "id": "nQ0TDV7_elld"
      },
      "source": [
        "## A Sock Drawer\n",
        "\n",
        "Let us model a sock drawer.  How does a sock drawer work?  Well, when you do the washing, you end up with a bunch of socks, and you just put them in the drawer. So one operation is \"put sock in drawer\".  The other thing you typically do is look for two matching socks.  For simplicity, we will have only one attribute that we use to match socks: their color.  So the operations, in detail, are: \n",
        "\n",
        "* `add_sock`: adds a sock of a given color\n",
        "* `get_pair`: ask if there is a pair of a given color, and if so, remove it\n",
        "* `available_colors`: returns the set of colors for which there is at least a pair. \n",
        "\n",
        "Of course, you could also devise other operations, but these seem to be the basic ones.  \n",
        "\n"
      ]
    },
    {
      "cell_type": "markdown",
      "metadata": {
        "deletable": false,
        "editable": false,
        "nbgrader": {
          "cell_type": "markdown",
          "checksum": "5fc19d582ee4164bfb79c68c52a5aa17",
          "grade": false,
          "grade_id": "cell-1aa2ac354871f902",
          "locked": true,
          "schema_version": 3,
          "solution": false
        },
        "id": "_TrJ9ii1elld"
      },
      "source": [
        "Here is how we plan to use the sock drawer: \n",
        "\n",
        "    # Creates a sock drawer and puts some socks in it. \n",
        "    sd = SockDrawer()\n",
        "    sd.add_sock(\"red\")\n",
        "    sd.add_sock(\"green\")\n",
        "    sd.add_sock(\"red\")\n",
        "    \n",
        "    # Gets the available colors\n",
        "    colors = sd.available_colors\n",
        "    \n",
        "    # Picks a possible color\n",
        "    import random \n",
        "    color = random.choice(list(colors))\n",
        "\n",
        "    # And a sock of that color. \n",
        "    sock = sd.get_pair(color)\n",
        "    print(\"gotten sock:\", sock, \"of color:\", color)"
      ]
    },
    {
      "cell_type": "markdown",
      "metadata": {
        "deletable": false,
        "editable": false,
        "nbgrader": {
          "cell_type": "markdown",
          "checksum": "f4e8ee3f50b10d32212c49117b804463",
          "grade": false,
          "grade_id": "cell-837ceb7848d6c79",
          "locked": true,
          "schema_version": 3,
          "solution": false
        },
        "id": "aSZ3ksfoelle"
      },
      "source": [
        "An aside: why does `available_colors` return a set and not a list? \n",
        "For two reasons.  First, returning a set makes clear (and indeed, enforces) that every color should appear only once in the return result. \n",
        "Second, in sets, the order of elements is irrelevant.  If we used a list, rather than a set, in any unit test suite we would have to: \n",
        "\n",
        "* Check that every element appears only once in the list; \n",
        "* sort the list of results before comparing it with the expected results, to ensure that different orders of elements in the returned list do not cause the test to fail. \n",
        "\n",
        "In general, it is quite important to choose as types for variables or return values, a type that expresses as best as possible the intended properties of the value.\n",
        "\n",
        "Another thing: we want to define `available_colors` so that it is a _property_ rather than a method.  In this way, for a sock drawer `d`, we will be able to write `d.available_colors` rather than `d.available_colors()`.  It is a small difference, but in my opinion it does make the code look a little bit cleaner. "
      ]
    },
    {
      "cell_type": "markdown",
      "metadata": {
        "deletable": false,
        "editable": false,
        "nbgrader": {
          "cell_type": "markdown",
          "checksum": "3ef970f43a3f3768c699cf25f3105993",
          "grade": false,
          "grade_id": "cell-774c3819fd0e0d",
          "locked": true,
          "schema_version": 3,
          "solution": false
        },
        "id": "2zRiaObLellf"
      },
      "source": [
        "What is a good implementation?  At first, one may consider simply implementing the drawer as a list of socks, where each sock is represented by its color.  This is simple enough at first:"
      ]
    },
    {
      "cell_type": "code",
      "execution_count": null,
      "metadata": {
        "deletable": false,
        "editable": false,
        "nbgrader": {
          "cell_type": "code",
          "checksum": "9fec10e5ee3c01578d03c4a896124a01",
          "grade": false,
          "grade_id": "cell-e550a5f2c3848ea5",
          "locked": true,
          "schema_version": 3,
          "solution": false
        },
        "id": "vERMxTGdellf"
      },
      "outputs": [],
      "source": [
        "class SockDrawer(object):\n",
        "\n",
        "    def __init__(self):\n",
        "        self.drawer = []\n",
        "\n",
        "    def add_sock(self, color):\n",
        "        \"\"\"Adds a sock of the given color to the drawer.\"\"\"\n",
        "        self.drawer.append(color)\n",
        "\n",
        "    def get_pair(self, color):\n",
        "        \"\"\"Returns False if there is no pair of the given color, and True\n",
        "        if there is.  In the latter case, it removes the pair from the drawer.\"\"\"\n",
        "        if self.drawer.count(color) >= 2:\n",
        "            self.drawer.remove(color)\n",
        "            self.drawer.remove(color)\n",
        "            return True\n",
        "        else:\n",
        "            return False\n",
        "\n",
        "    @property\n",
        "    def available_colors(self):\n",
        "        \"\"\"Lists the colors for which we have at least two socks available.\"\"\"\n",
        "        colors = set()\n",
        "        for el in self.drawer:\n",
        "            if self.drawer.count(el) >= 2:\n",
        "                colors.add(el)\n",
        "        return colors\n"
      ]
    },
    {
      "cell_type": "markdown",
      "metadata": {
        "deletable": false,
        "editable": false,
        "nbgrader": {
          "cell_type": "markdown",
          "checksum": "32b9f4535876ae599f2f70ad558b6dc2",
          "grade": false,
          "grade_id": "cell-cd5a5aba12610522",
          "locked": true,
          "schema_version": 3,
          "solution": false
        },
        "id": "kEoVKBANellf"
      },
      "source": [
        "Let us give this a spin, with our intended use:"
      ]
    },
    {
      "cell_type": "code",
      "execution_count": null,
      "metadata": {
        "deletable": false,
        "editable": false,
        "nbgrader": {
          "cell_type": "code",
          "checksum": "eaad6c2a91dbc69b5f904b70a61c6bbd",
          "grade": false,
          "grade_id": "cell-a5b7edadc409d833",
          "locked": true,
          "schema_version": 3,
          "solution": false
        },
        "colab": {
          "base_uri": "https://localhost:8080/"
        },
        "id": "Hq5dX7Lfellg",
        "outputId": "ddac3ac8-d1d4-4f33-aac1-64036e5c51e2"
      },
      "outputs": [
        {
          "output_type": "stream",
          "name": "stdout",
          "text": [
            "gotten sock: True of color: red\n"
          ]
        }
      ],
      "source": [
        "# Creates a sock drawer and puts some socks in it.\n",
        "sd = SockDrawer()\n",
        "sd.add_sock(\"red\")\n",
        "sd.add_sock(\"green\")\n",
        "sd.add_sock(\"red\")\n",
        "\n",
        "# Gets the available colors\n",
        "colors = sd.available_colors\n",
        "\n",
        "# Picks a possible color\n",
        "import random\n",
        "color = random.choice(list(colors))\n",
        "\n",
        "# And a sock of that color.\n",
        "sock = sd.get_pair(color)\n",
        "print(\"gotten sock:\", sock, \"of color:\", color)\n"
      ]
    },
    {
      "cell_type": "markdown",
      "metadata": {
        "deletable": false,
        "editable": false,
        "nbgrader": {
          "cell_type": "markdown",
          "checksum": "8f1792f2b7d308d7a1ca49221c3fa41a",
          "grade": false,
          "grade_id": "cell-e170965d89d5add7",
          "locked": true,
          "schema_version": 3,
          "solution": false
        },
        "id": "71KIzn5tellg"
      },
      "source": [
        "There shouldn't be any more sock pairs available:"
      ]
    },
    {
      "cell_type": "code",
      "execution_count": null,
      "metadata": {
        "deletable": false,
        "editable": false,
        "nbgrader": {
          "cell_type": "code",
          "checksum": "bccbe90230501a735dc5673eae740647",
          "grade": false,
          "grade_id": "cell-a96a78efad2ae640",
          "locked": true,
          "schema_version": 3,
          "solution": false
        },
        "colab": {
          "base_uri": "https://localhost:8080/"
        },
        "id": "HI3OGxh5ellg",
        "outputId": "d71113d7-8465-4ad1-a81f-bf141f1ac4f6"
      },
      "outputs": [
        {
          "output_type": "execute_result",
          "data": {
            "text/plain": [
              "set()"
            ]
          },
          "metadata": {},
          "execution_count": 370
        }
      ],
      "source": [
        "sd.available_colors\n"
      ]
    },
    {
      "cell_type": "markdown",
      "metadata": {
        "deletable": false,
        "editable": false,
        "nbgrader": {
          "cell_type": "markdown",
          "checksum": "0bc26a0303279c64c618699fc66c456d",
          "grade": false,
          "grade_id": "cell-717b67196263b5eb",
          "locked": true,
          "schema_version": 3,
          "solution": false
        },
        "id": "L7QpoTuKellg"
      },
      "source": [
        "In the above implementation, `@property` is a [_decorator_](https://wiki.python.org/moin/PythonDecorators).  From the practical point of view, the [`@property` decorator](https://docs.python.org/3/library/functions.html#property) enables us to access the available colors of a sock drawer `sd` via `sd.available_colors` rather than `sd.available_colors()`: that is, it makes what is in truth a method call look like a variable access.  Big deal, you might say; all it does is it removes the need for parentheses!  True, but the eye also wants its part. \n",
        "\n",
        "In general, Python decorators are functions that take an input a function (the function just below them), and return another function; we will have occasion of seeing more of them later, and for the moment this short introduction shall suffice. "
      ]
    },
    {
      "cell_type": "markdown",
      "metadata": {
        "deletable": false,
        "editable": false,
        "nbgrader": {
          "cell_type": "markdown",
          "checksum": "e8b6c63fd8d2514326f7a641c279bb73",
          "grade": false,
          "grade_id": "cell-dfa194e92c258995",
          "locked": true,
          "schema_version": 3,
          "solution": false
        },
        "id": "VaMoLF4tellg"
      },
      "source": [
        "Before we proceed further, let us write a function that puts the class through some tests.  We write this as a function taking the class as an argument (yes, in Python classes can be passed as arguments to functions).  In this way, when we define another (perhaps better) class that implements the sock drawer, we can test it using the same tests. "
      ]
    },
    {
      "cell_type": "code",
      "execution_count": null,
      "metadata": {
        "deletable": false,
        "editable": false,
        "nbgrader": {
          "cell_type": "code",
          "checksum": "9c6d7fb3329c2f563f39b4bc26f9139d",
          "grade": false,
          "grade_id": "cell-a79c64f8eb12e6bd",
          "locked": true,
          "schema_version": 3,
          "solution": false
        },
        "id": "7_fhMvamellh"
      },
      "outputs": [],
      "source": [
        "#@title Let's define a testing helper.\n",
        "\n",
        "def check_equal(x, y, msg=None):\n",
        "    if x != y:\n",
        "        if msg is None:\n",
        "            print(\"Error:\")\n",
        "        else:\n",
        "            print(\"Error in\", msg, \":\")\n",
        "        print(\"    Your answer was:\", x)\n",
        "        print(\"    Correct answer: \", y)\n",
        "    assert x == y, \"%r and %r are different\" % (x, y)\n"
      ]
    },
    {
      "cell_type": "code",
      "execution_count": null,
      "metadata": {
        "deletable": false,
        "editable": false,
        "nbgrader": {
          "cell_type": "code",
          "checksum": "39f0ebd597d651d7dd5b81a24303ff0a",
          "grade": false,
          "grade_id": "cell-ceb856cc85f7daf9",
          "locked": true,
          "schema_version": 3,
          "solution": false
        },
        "id": "4QJaikLnellh"
      },
      "outputs": [],
      "source": [
        "def test_drawer(c):\n",
        "    \"\"\"Tests a drawer class c.\"\"\"\n",
        "    d = c()\n",
        "    d.add_sock('red')\n",
        "    d.add_sock('red')\n",
        "    d.add_sock('red')\n",
        "    d.add_sock('green')\n",
        "    check_equal(d.available_colors, {'red'})\n",
        "    check_equal(d.get_pair('red'), True)\n",
        "    check_equal(d.get_pair('green'), False)\n",
        "    check_equal(d.get_pair('red'), False)\n",
        "    d.add_sock('blue')\n",
        "    d.add_sock('blue')\n",
        "    d.add_sock('blue')\n",
        "    d.add_sock('red')\n",
        "    check_equal(d.available_colors, {'red', 'blue'})\n"
      ]
    },
    {
      "cell_type": "code",
      "execution_count": null,
      "metadata": {
        "deletable": false,
        "editable": false,
        "nbgrader": {
          "cell_type": "code",
          "checksum": "a2a9a82b39f45a8d8b60d5671955d2fc",
          "grade": false,
          "grade_id": "cell-551a87783737ea7",
          "locked": true,
          "schema_version": 3,
          "solution": false
        },
        "id": "PWbVVvJMellh"
      },
      "outputs": [],
      "source": [
        "test_drawer(SockDrawer)\n"
      ]
    },
    {
      "cell_type": "markdown",
      "metadata": {
        "deletable": false,
        "editable": false,
        "nbgrader": {
          "cell_type": "markdown",
          "checksum": "5d52083c74b90a8e19a37b6a496babdf",
          "grade": false,
          "grade_id": "cell-7bbe483baa559db6",
          "locked": true,
          "schema_version": 3,
          "solution": false
        },
        "id": "889iIYGlellh"
      },
      "source": [
        "I always find it a bit anticlimatic when all the tests pass, and all you get for this accomplishment is... nothing.  Yes, we could define a `PatOnTheBack` exception and raise it, but that will be for another time. \n",
        "\n",
        "Rather, let us discuss why the above implementation of a sock drawer is not great. \n",
        "A list keeps elements in a ... list.  So if you need to count the number of times in which an element occurs, you need to traverse the list.  The method count() is faster than the do-it-yourself solution `len([x for x in self.drawer if x == color])`,  as it is implemented natively, but it is still slow.  On top of that, once having counted the number of colors, if the chosen color appears more than once in `get_pair`, we call remove() _twice_ to remove it.  This is just esthetically terrible. We go over the list three times, each time unable to make use of the information we found the previous time. \n",
        "\n",
        "In the big scheme of things, the implementation might be fine.  \"Going over the list\" takes time proportional to the length of the list (it is a _linear-time_ operation), and unless a person has a very large number of socks, the performance may never become a bottleneck.  What is really disturbing, to me at least, is the ugliness of the code. "
      ]
    },
    {
      "cell_type": "markdown",
      "metadata": {
        "deletable": false,
        "editable": false,
        "nbgrader": {
          "cell_type": "markdown",
          "checksum": "8d0ba232b6ac0b667f9350f649506df0",
          "grade": false,
          "grade_id": "cell-fe91bcca73e4cfd9",
          "locked": true,
          "schema_version": 3,
          "solution": false
        },
        "id": "Fg87Vx0-ellh"
      },
      "source": [
        "## A Better Sock Drawer\n",
        "\n",
        "Let us aim at a better solution.  The problem with our list-based implementation, fundamentally, is that all our questions can be answered by knowing how many socks we have for each color, and the list implementation stores this information in unary format, and mixing all colors together.  A much more rational way of remembering the status of the drawer is to associate with each color the number of socks we have.  Thus, our main data structure will be a dictionary mapping colors to integers. \n",
        "\n",
        "A short aside. If `d` is a normal dictionary, and you want to add `quantity` to `color`, you end up writing code like this:"
      ]
    },
    {
      "cell_type": "code",
      "execution_count": null,
      "metadata": {
        "deletable": false,
        "editable": false,
        "nbgrader": {
          "cell_type": "code",
          "checksum": "003c9c628d53d5906fdfb3116f74b463",
          "grade": false,
          "grade_id": "cell-c993f2a9e3b3f860",
          "locked": true,
          "schema_version": 3,
          "solution": false
        },
        "id": "ZZFMyVnwelli"
      },
      "outputs": [],
      "source": [
        "# Just to initialize\n",
        "d = {'green': 4}\n",
        "color = 'red'\n",
        "quantity = 2\n",
        "\n",
        "if color in d:\n",
        "    d[color] += quantity\n",
        "else:\n",
        "    d[color] = quantity\n"
      ]
    },
    {
      "cell_type": "markdown",
      "metadata": {
        "deletable": false,
        "editable": false,
        "nbgrader": {
          "cell_type": "markdown",
          "checksum": "6f9b35a9f64db1e24b361bbd44d90b13",
          "grade": false,
          "grade_id": "cell-622885a04743fab6",
          "locked": true,
          "schema_version": 3,
          "solution": false
        },
        "id": "X1clBLVfelli"
      },
      "source": [
        "Yes, you can do a little better, as in: "
      ]
    },
    {
      "cell_type": "code",
      "execution_count": null,
      "metadata": {
        "deletable": false,
        "editable": false,
        "nbgrader": {
          "cell_type": "code",
          "checksum": "17908f48cf2fb2fecd79620414975ed4",
          "grade": false,
          "grade_id": "cell-edd8d4cfc900da2d",
          "locked": true,
          "schema_version": 3,
          "solution": false
        },
        "id": "5OypnqRVelli"
      },
      "outputs": [],
      "source": [
        "d[color] = d.get(color, 0) + quantity\n"
      ]
    },
    {
      "cell_type": "markdown",
      "metadata": {
        "deletable": false,
        "editable": false,
        "nbgrader": {
          "cell_type": "markdown",
          "checksum": "f88d085975e9e7e770ecc90c7cb40bcc",
          "grade": false,
          "grade_id": "cell-2011cde3356b05f1",
          "locked": true,
          "schema_version": 3,
          "solution": false
        },
        "id": "p457Jyk7elli"
      },
      "source": [
        "but this is not nearly as elegant as being able to access a dictionary with square-bracket notation.  We would like some way of avoiding the test, or the concern, of whether a key is already in the dictionary.  \n",
        "\n"
      ]
    },
    {
      "cell_type": "markdown",
      "metadata": {
        "deletable": false,
        "editable": false,
        "nbgrader": {
          "cell_type": "markdown",
          "checksum": "65191da01bb072acb6cb4da8d0a6493a",
          "grade": false,
          "grade_id": "cell-6beece895657d9cd",
          "locked": true,
          "schema_version": 3,
          "solution": false
        },
        "id": "Ax2tmcPqelli"
      },
      "source": [
        "### defaultdicts\n",
        "\n",
        "The [`defaultdict` collection type](https://docs.python.org/3/library/collections.html#collections.defaultdict) does precisely this.  A defaultdict dictionary, when accessed, returns the value associated with the key, if any, and otherwise returns a default value.  You specify the default value when you create the defaultdict, by passing to its creator a _factory_ function.  The factory function is called any time a default value is needed, and should return the default value.\n",
        "\n",
        "In our case, we want a dictionary where the default value is 0; so we use the function `int` which, when called without arguments, returns 0.  Yes, it is a little confusing that `int` is both a type and a function... "
      ]
    },
    {
      "cell_type": "code",
      "execution_count": null,
      "metadata": {
        "deletable": false,
        "editable": false,
        "nbgrader": {
          "cell_type": "code",
          "checksum": "66bea5208b3127356fc082cd717e4a88",
          "grade": false,
          "grade_id": "cell-7ce727632a724c06",
          "locked": true,
          "schema_version": 3,
          "solution": false
        },
        "colab": {
          "base_uri": "https://localhost:8080/"
        },
        "id": "Y8cZLMJNelli",
        "outputId": "b96a68e5-8c7f-4c0d-8ae8-8b1602ef9cc0"
      },
      "outputs": [
        {
          "output_type": "execute_result",
          "data": {
            "text/plain": [
              "0"
            ]
          },
          "metadata": {},
          "execution_count": 376
        }
      ],
      "source": [
        "int()\n"
      ]
    },
    {
      "cell_type": "markdown",
      "metadata": {
        "deletable": false,
        "editable": false,
        "nbgrader": {
          "cell_type": "markdown",
          "checksum": "5e5cfe5bb9bd57309aaa50262870cc90",
          "grade": false,
          "grade_id": "cell-1088172e977d662f",
          "locked": true,
          "schema_version": 3,
          "solution": false
        },
        "id": "pRltmQ20elli"
      },
      "source": [
        "So we can create a dictionary with default value 0 as follows:"
      ]
    },
    {
      "cell_type": "code",
      "execution_count": null,
      "metadata": {
        "deletable": false,
        "editable": false,
        "nbgrader": {
          "cell_type": "code",
          "checksum": "ef97bea1201c8538c1f56326296fc452",
          "grade": false,
          "grade_id": "cell-e2291c56ea663f24",
          "locked": true,
          "schema_version": 3,
          "solution": false
        },
        "id": "l_TSR8mselli"
      },
      "outputs": [],
      "source": [
        "from collections import defaultdict\n",
        "d = defaultdict(int)\n"
      ]
    },
    {
      "cell_type": "code",
      "execution_count": null,
      "metadata": {
        "deletable": false,
        "editable": false,
        "nbgrader": {
          "cell_type": "code",
          "checksum": "240db33e94a51ce6ebf3c8162d2d84b7",
          "grade": false,
          "grade_id": "cell-37b4da50c16d007a",
          "locked": true,
          "schema_version": 3,
          "solution": false
        },
        "colab": {
          "base_uri": "https://localhost:8080/"
        },
        "id": "Y8-4RuB-ellj",
        "outputId": "ba258c71-941c-40c2-ba46-a578c9195226"
      },
      "outputs": [
        {
          "output_type": "execute_result",
          "data": {
            "text/plain": [
              "defaultdict(int, {})"
            ]
          },
          "metadata": {},
          "execution_count": 378
        }
      ],
      "source": [
        "d\n"
      ]
    },
    {
      "cell_type": "markdown",
      "metadata": {
        "deletable": false,
        "editable": false,
        "nbgrader": {
          "cell_type": "markdown",
          "checksum": "d5edc5d0412efad06fce4022b333df70",
          "grade": false,
          "grade_id": "cell-7f1ec0a6cb84a1ca",
          "locked": true,
          "schema_version": 3,
          "solution": false
        },
        "id": "9rw6tF_4ellj"
      },
      "source": [
        "When an element is not found, rather than throwing an error, our defaultdict returns value 0: "
      ]
    },
    {
      "cell_type": "code",
      "execution_count": null,
      "metadata": {
        "deletable": false,
        "editable": false,
        "nbgrader": {
          "cell_type": "code",
          "checksum": "c8cd8a2a167f9bfa2901a6d180bddc58",
          "grade": false,
          "grade_id": "cell-81cb0fc887043b19",
          "locked": true,
          "schema_version": 3,
          "solution": false
        },
        "colab": {
          "base_uri": "https://localhost:8080/"
        },
        "id": "PeAPXy6Kellj",
        "outputId": "ae6f4a8b-6669-44d0-f4bd-6dc3f4188160"
      },
      "outputs": [
        {
          "output_type": "execute_result",
          "data": {
            "text/plain": [
              "0"
            ]
          },
          "metadata": {},
          "execution_count": 379
        }
      ],
      "source": [
        "d['red']\n"
      ]
    },
    {
      "cell_type": "markdown",
      "metadata": {
        "deletable": false,
        "editable": false,
        "nbgrader": {
          "cell_type": "markdown",
          "checksum": "3eba9a9dd5aa3dd564e0efd1f797e9a5",
          "grade": false,
          "grade_id": "cell-b066be2075940c4f",
          "locked": true,
          "schema_version": 3,
          "solution": false
        },
        "id": "fqI1ENWwellj"
      },
      "source": [
        "And we can write code like this: "
      ]
    },
    {
      "cell_type": "code",
      "execution_count": null,
      "metadata": {
        "deletable": false,
        "editable": false,
        "nbgrader": {
          "cell_type": "code",
          "checksum": "0cf090198960f5f0ff9b29242e36be21",
          "grade": false,
          "grade_id": "cell-bd4ea7e951a9f566",
          "locked": true,
          "schema_version": 3,
          "solution": false
        },
        "colab": {
          "base_uri": "https://localhost:8080/"
        },
        "id": "BSShrZ5qellj",
        "outputId": "22c4408d-3a36-4d4b-aa1e-e84fc138d637"
      },
      "outputs": [
        {
          "output_type": "stream",
          "name": "stdout",
          "text": [
            "2\n",
            "0\n"
          ]
        }
      ],
      "source": [
        "d['red'] += 2\n",
        "print(d['red'])\n",
        "print(d['green'])\n"
      ]
    },
    {
      "cell_type": "markdown",
      "metadata": {
        "deletable": false,
        "editable": false,
        "nbgrader": {
          "cell_type": "markdown",
          "checksum": "a8ccff1f85e2c14d6c67fcda76a1c954",
          "grade": false,
          "grade_id": "cell-7563d86cc6522bb3",
          "locked": true,
          "schema_version": 3,
          "solution": false
        },
        "id": "kk-8wmwbellj"
      },
      "source": [
        "With this we can define a better sock drawer:"
      ]
    },
    {
      "cell_type": "code",
      "execution_count": null,
      "metadata": {
        "deletable": false,
        "editable": false,
        "nbgrader": {
          "cell_type": "code",
          "checksum": "30728987fa393edf6a2fd5c44d283e37",
          "grade": false,
          "grade_id": "cell-b0d3be9c15bd1576",
          "locked": true,
          "schema_version": 3,
          "solution": false
        },
        "id": "imosSn6Pellj"
      },
      "outputs": [],
      "source": [
        "class SmartDrawer(object):\n",
        "\n",
        "    def __init__(self):\n",
        "        self.socks = defaultdict(int)\n",
        "\n",
        "    def add_sock(self, color):\n",
        "        self.socks[color] += 1\n",
        "\n",
        "    def get_pair(self, color):\n",
        "        if self.socks[color] > 1:\n",
        "            self.socks[color] -= 2\n",
        "            return True\n",
        "        else:\n",
        "            return False\n",
        "\n",
        "    @property\n",
        "    def available_colors(self):\n",
        "        return {c for c, n in self.socks.items() if n > 1}\n"
      ]
    },
    {
      "cell_type": "markdown",
      "metadata": {
        "deletable": false,
        "editable": false,
        "nbgrader": {
          "cell_type": "markdown",
          "checksum": "f4e2fd79e722a44bb23e8530f9a2e6d4",
          "grade": false,
          "grade_id": "cell-b4a0910e91cb3e9b",
          "locked": true,
          "schema_version": 3,
          "solution": false
        },
        "id": "3sXXuXORellj"
      },
      "source": [
        "Note how this code is not only more efficient than our previous attempt, but also more concise.  Let us test this class."
      ]
    },
    {
      "cell_type": "code",
      "execution_count": null,
      "metadata": {
        "deletable": false,
        "editable": false,
        "nbgrader": {
          "cell_type": "code",
          "checksum": "93072b3af4b75ddc97a5dce65cecd481",
          "grade": false,
          "grade_id": "cell-8052326ef2e313ae",
          "locked": true,
          "schema_version": 3,
          "solution": false
        },
        "id": "RLhTRH2-ellj"
      },
      "outputs": [],
      "source": [
        "test_drawer(SmartDrawer)\n"
      ]
    },
    {
      "cell_type": "markdown",
      "metadata": {
        "deletable": false,
        "editable": false,
        "nbgrader": {
          "cell_type": "markdown",
          "checksum": "362a84a86a6fc99e60872805595e9918",
          "grade": false,
          "grade_id": "cell-d226c413ab46b5b",
          "locked": true,
          "schema_version": 3,
          "solution": false
        },
        "id": "4lGIZVXHellj"
      },
      "source": [
        "# Arithmetic Dictionaries\n",
        "\n",
        "At the core of our sock drawer implementation is a fundamental data structure which, for some reason, does not come standard in programming languages: a dictionary that has numerical values (and arbitrary keys). \n",
        "\n",
        "A number is a number.  An _arithmetic dictionary_ $d$ is a mapping from a set of keys $K$ to numbers (let's say, to $\\mathbf{R}$), that is, \n",
        "\n",
        "$$\n",
        "d: K \\mapsto \\mathbf{R} \\, . \n",
        "$$\n",
        "\n",
        "In other words, $d$ is a function from $K$ to $\\mathbf{R}$. \n",
        "\n",
        "Functions can be combined with arithmetic operators: if you have, for instance, $f_1(x) = x + 2$, and $f_2(x) = x^2$, you can compute $g = f_1 + f_2$, where $g(x) = x^2 + x + 2$. \n",
        "\n",
        "The same we can do with arithmetic dictionaries: if we have \n",
        "\n",
        "$$\n",
        "d_1: K \\mapsto \\mathbf{R} \\qquad d_2: K \\mapsto \\mathbf{R}\n",
        "$$\n",
        "\n",
        "we can add them as $d = d_1 + d_2$, where $d[k] = d_1[k] + d_2[k]$ for all $k \\in K$, and similarly for $-$, $/$, and $*$. \n",
        "\n",
        "In fact, it will be convenient to combine also dictionaries that have different sets of keys.  In that case, if a key $k$ is missing from a dictionary $d$, we will take for $d[k]$ a default value that corresponds to the [_neutral elements_](https://en.wikipedia.org/wiki/Identity_element) with respect to the operation used to combine dictionaries: 0 for $+$ and $-$, and 1 for $\\times$ and /. \n",
        "\n",
        "For example, if we have: \n",
        "\n",
        "    d1 = {'cat': 4, 'bird': 2}\n",
        "    d2 = {'cat': 5, 'dog': 3}\n",
        "\n",
        "and we compute `d = d1 + d2`, we will obtain\n",
        "\n",
        "    d = {'cat': 9, 'bird': 2, 'dog': 3}\n",
        "\n",
        "since the missing elements, such as `'bird'` in `d2`, will be assumed to have value 0. \n",
        "\n",
        "We note that Python includes, in the `collections` module, the [`Counter` class](https://docs.python.org/3.7/library/collections.html#collections.Counter), which supports addition.  Arithmetic dictionaries are a more general version of the `Counter` class."
      ]
    },
    {
      "cell_type": "markdown",
      "metadata": {
        "deletable": false,
        "editable": false,
        "nbgrader": {
          "cell_type": "markdown",
          "checksum": "2279d2938539ff12f6979325da4b429a",
          "grade": false,
          "grade_id": "cell-3116c75a152761e8",
          "locked": true,
          "schema_version": 3,
          "solution": false
        },
        "id": "QT23TbY-ellk"
      },
      "source": [
        "Rather than letting you define the class `AD` on your own, for once, we provide you with some help, giving you a class that implements additon and subtraction.  We will leave multiplication and division for you to implement. \n",
        "\n",
        "The reason is this.  If we left it to you, many of you would be tempted to dive right in and write something like this: "
      ]
    },
    {
      "cell_type": "code",
      "execution_count": null,
      "metadata": {
        "deletable": false,
        "editable": false,
        "nbgrader": {
          "cell_type": "code",
          "checksum": "08f8fcfabc8cac3e93603797416e854c",
          "grade": false,
          "grade_id": "cell-b616bb061431f593",
          "locked": true,
          "schema_version": 3,
          "solution": false
        },
        "id": "9iYl1j3iellk"
      },
      "outputs": [],
      "source": [
        "class MehAD(dict):\n",
        "\n",
        "    def __add__(self, other):\n",
        "        d = MehAD()\n",
        "        other_keys = set(other.keys()) if isinstance(other, dict) else set()\n",
        "        for k in set(self.keys()) | other_keys:\n",
        "            d[k] = self.get(k, 0) + (other.get(k, 0) if isinstance(other, dict) else other)\n",
        "        return d\n"
      ]
    },
    {
      "cell_type": "code",
      "execution_count": null,
      "metadata": {
        "deletable": false,
        "editable": false,
        "nbgrader": {
          "cell_type": "code",
          "checksum": "48321502c1ff6debae64ed0ee62e8449",
          "grade": false,
          "grade_id": "cell-5b86c285c5767f36",
          "locked": true,
          "schema_version": 3,
          "solution": false
        },
        "colab": {
          "base_uri": "https://localhost:8080/"
        },
        "id": "RySUgirtellk",
        "outputId": "ac9563d5-7610-49e6-8681-91efeaabb5a6"
      },
      "outputs": [
        {
          "output_type": "execute_result",
          "data": {
            "text/plain": [
              "{'green': 3, 'red': 2}"
            ]
          },
          "metadata": {},
          "execution_count": 384
        }
      ],
      "source": [
        "d1 = MehAD()\n",
        "d2 = MehAD(red=2, green=3) # dict(red=2, green=3)\n",
        "d1 + d2\n"
      ]
    },
    {
      "cell_type": "code",
      "execution_count": null,
      "metadata": {
        "deletable": false,
        "editable": false,
        "nbgrader": {
          "cell_type": "code",
          "checksum": "eed4e819eb1db489bc19244ef922dc4f",
          "grade": false,
          "grade_id": "cell-bc64614e21b3fca3",
          "locked": true,
          "schema_version": 3,
          "solution": false
        },
        "colab": {
          "base_uri": "https://localhost:8080/"
        },
        "id": "pWy2WGChellk",
        "outputId": "9629f55e-1c04-4a9b-85f2-dca75f4399b2"
      },
      "outputs": [
        {
          "output_type": "execute_result",
          "data": {
            "text/plain": [
              "{'green': 6, 'red': 5}"
            ]
          },
          "metadata": {},
          "execution_count": 385
        }
      ],
      "source": [
        "d2 + 3\n"
      ]
    },
    {
      "cell_type": "markdown",
      "metadata": {
        "deletable": false,
        "editable": false,
        "nbgrader": {
          "cell_type": "markdown",
          "checksum": "53f4c0186ddc1c768795da755993f7a5",
          "grade": false,
          "grade_id": "cell-46133d1323379e49",
          "locked": true,
          "schema_version": 3,
          "solution": false
        },
        "id": "N2JI_8Vvellk"
      },
      "source": [
        "This would work.  But then, when you set to implement `__sub__`, you would have to repeat more or less the same code, except for `-` instead of `+` in line 10.  And the code for `__mul__` and `__truediv__` would also be very similar. \n",
        "\n",
        "We want to teach you how to factor the common code.  The idea is to define a method `_binary_op` that takes as arguments the left operand, right operand, the function to be used to combine the operands (addition, subtraction, etc), and the element to be used when the key is not in the dictionary.  All the operands can then be defined in terms of `_binary_op`.  This factorization of common code has two benefits: \n",
        "\n",
        "* it makes the code more concise, and \n",
        "* it ensures that, if you find a bug and fix it, _all_ the operations will benefit from the fix. \n",
        "\n",
        "_Code factorization_ means gathering together the common code, eliminating repetitions; just as factoring $ab + ac$ into $a(b + c)$ removes the repetition of $a$. \n",
        "It turns out that the deep reason why code factorization is important is not conciseness: rather, it is the fact that once a bug is discovered in the factorized code, all uses of the code will benefit from it. \n",
        "\n",
        "The code is as follows: "
      ]
    },
    {
      "cell_type": "code",
      "execution_count": null,
      "metadata": {
        "deletable": false,
        "editable": false,
        "nbgrader": {
          "cell_type": "code",
          "checksum": "d0478128f3385e3fadeba79d1eaf4ea5",
          "grade": false,
          "grade_id": "cell-79abd41afd78c6f",
          "locked": true,
          "schema_version": 3,
          "solution": false
        },
        "id": "Kt-QFrrcellk"
      },
      "outputs": [],
      "source": [
        "class AD(dict):\n",
        "\n",
        "    def __add__(self, other):\n",
        "        return AD._binary_op(self, other, lambda x, y: x + y, 0)\n",
        "\n",
        "    def __sub__(self, other):\n",
        "        return AD._binary_op(self, other, lambda x, y: x - y, 0)\n",
        "\n",
        "    @staticmethod\n",
        "    def _binary_op(left, right, op, neutral):\n",
        "        r = AD()\n",
        "        l_keys = set(left.keys()) if isinstance(left, dict) else set()\n",
        "        r_keys = set(right.keys()) if isinstance(right, dict) else set()\n",
        "        for k in l_keys | r_keys:\n",
        "            # If the right (or left) element is a dictionary (or an AD),\n",
        "            # we get the elements from the dictionary; else we use the right\n",
        "            # or left value itself.  This implements a sort of dictionary\n",
        "            # broadcasting.\n",
        "            l_val = left.get(k, neutral) if isinstance(left, dict) else left\n",
        "            r_val = right.get(k, neutral) if isinstance(right, dict) else right\n",
        "            r[k] = op(l_val, r_val)\n",
        "        return r\n"
      ]
    },
    {
      "cell_type": "markdown",
      "metadata": {
        "deletable": false,
        "editable": false,
        "nbgrader": {
          "cell_type": "markdown",
          "checksum": "d0d992e6912e76d1d588c6d0c3f40880",
          "grade": false,
          "grade_id": "cell-9844b69a835cbe81",
          "locked": true,
          "schema_version": 3,
          "solution": false
        },
        "id": "dfM9qoKkelll"
      },
      "source": [
        "In the implementation above, we have factored together what would have been the common part of the implementation of $+$ and $-$ in the method `_binary_op`.  The `_binary_op` method is a [_static method:_](https://docs.python.org/3/library/functions.html#staticmethod) it does not refer to a specific object.  In this way, we can decide separately what to provide to it as the left and right hand sides; this will be useful later, as we shall see.  To call it, we have to refer to it via `AD._binary_op` rather than `self._binary_op`, as would be the case for a normal (object) method.  Furthermore, in the `_binary_op` method, we do not have access to `self`, since `self` refers to a specific object, while the method is generic, defined for the class. \n",
        "\n",
        "The `_binary_op` method combines values from its `left` and `right` operands using operator `op`, and the default `neutral` if a value is not found.  The two operands `left` and `right` are interpreted as dictionaries if they are a subclass of `dict`, and are interpreted as constants otherwise.\n",
        "\n",
        "We have defined our class AD as a _subclass_ of the dictionary class `dict`.  This enables us to apply to an AD all the [methods that are defined for a dictionary](https://docs.python.org/3/library/stdtypes.html#typesmapping), which is really quite handy. "
      ]
    },
    {
      "cell_type": "code",
      "execution_count": null,
      "metadata": {
        "deletable": false,
        "editable": false,
        "nbgrader": {
          "cell_type": "code",
          "checksum": "384f72f58768a6ea2a098d6986888ebb",
          "grade": false,
          "grade_id": "cell-a4a72831a6b3bd92",
          "locked": true,
          "schema_version": 3,
          "solution": false
        },
        "colab": {
          "base_uri": "https://localhost:8080/"
        },
        "id": "qaniuQ6Qelll",
        "outputId": "2110a5aa-2079-4388-e998-8e88855852e0"
      },
      "outputs": [
        {
          "output_type": "stream",
          "name": "stdout",
          "text": [
            "{'red': 2}\n",
            "{'blue': 4, 'green': 5}\n"
          ]
        }
      ],
      "source": [
        "d1 = AD()\n",
        "d1['red'] = 2\n",
        "print(d1)\n",
        "d2 = AD({'blue': 4, 'green': 5})\n",
        "print(d2)\n"
      ]
    },
    {
      "cell_type": "markdown",
      "metadata": {
        "deletable": false,
        "editable": false,
        "nbgrader": {
          "cell_type": "markdown",
          "checksum": "305180533929b6f7667c2c4069fb2c37",
          "grade": false,
          "grade_id": "cell-f275b8c6e3d5f7b6",
          "locked": true,
          "schema_version": 3,
          "solution": false
        },
        "id": "nRSq38j5elll"
      },
      "source": [
        "In the code above, note how we can write `d1['red']`: our ability to access ADs via the square-bracket notation is due to the fact that ADs, like dictionaries, implement the [`__getitem__` method](https://docs.python.org/3/reference/datamodel.html#object.__getitem__).  Note also that AD inherits from `dict` even the initializer methods, so that we can pass to our dictionary another dictionary, and obtain an AD that contains a [_copy_ of that dictionary](https://docs.python.org/3/library/stdtypes.html#dict). \n",
        "\n",
        "We can see that addition and subtraction also work:"
      ]
    },
    {
      "cell_type": "code",
      "execution_count": null,
      "metadata": {
        "deletable": false,
        "editable": false,
        "nbgrader": {
          "cell_type": "code",
          "checksum": "ac77d7caf663daf58f2e997c9d1dae9f",
          "grade": false,
          "grade_id": "cell-eaae3829fb84b573",
          "locked": true,
          "schema_version": 3,
          "solution": false
        },
        "colab": {
          "base_uri": "https://localhost:8080/"
        },
        "id": "2UgE-aMUelll",
        "outputId": "484c0c1d-f719-46c6-ec9b-c5a7dc4f067e"
      },
      "outputs": [
        {
          "output_type": "stream",
          "name": "stdout",
          "text": [
            "{'red': 3, 'green': 3, 'blue': 4}\n",
            "{'red': 1, 'green': 3, 'blue': -4}\n"
          ]
        }
      ],
      "source": [
        "print(AD(red=2, green=3) + AD(red=1, blue=4))\n",
        "print(AD(red=2, green=3) - AD(red=1, blue=4))\n"
      ]
    },
    {
      "cell_type": "markdown",
      "metadata": {
        "deletable": false,
        "editable": false,
        "nbgrader": {
          "cell_type": "markdown",
          "checksum": "b8f9cc5688bd3e1406c3e778faa1cc4a",
          "grade": false,
          "grade_id": "cell-478b7d300a9ae745",
          "locked": true,
          "schema_version": 3,
          "solution": false
        },
        "id": "gBcsHFJVelll"
      },
      "source": [
        "We let multiplication and division to you to implement."
      ]
    },
    {
      "cell_type": "code",
      "execution_count": null,
      "metadata": {
        "deletable": false,
        "nbgrader": {
          "cell_type": "code",
          "checksum": "160f62a861905a63dc9285f4ceb1a4d0",
          "grade": false,
          "grade_id": "cell-1cb36073aef222f8",
          "locked": false,
          "schema_version": 3,
          "solution": true
        },
        "id": "0md-glgIelll"
      },
      "outputs": [],
      "source": [
        "### Exercise: Implement multiplication and division\n",
        "'''\n",
        "    __mul__\n",
        "    __truediv__\n",
        "    __floordiv__\n",
        "\n",
        "'''\n",
        "\n",
        "# def __mul__\n",
        "def ad_mul(self, other):  \n",
        "    return AD._binary_op(self, other, lambda x, y: x*y, 1)\n",
        "\n",
        "AD.__mul__ = ad_mul\n",
        "\n",
        "def ad_truediv(self, other):\n",
        "    return AD._binary_op(self, other, lambda x,y: float(x)/float(y), 1)\n",
        "\n",
        "AD.__truediv__ = ad_truediv\n",
        "\n",
        "def ad_floordiv(self, other):\n",
        "    return AD._binary_op(self, other, lambda x, y: x//y, 1)\n",
        "\n",
        "AD.__floordiv__ = ad_floordiv\n",
        "\n",
        "# And finally, define below INTEGER division.\n",
        "# YOUR CODE HERE\n"
      ]
    },
    {
      "cell_type": "code",
      "execution_count": null,
      "metadata": {
        "deletable": false,
        "editable": false,
        "nbgrader": {
          "cell_type": "code",
          "checksum": "45b28181b2bd9f9b19d61a6401bb095b",
          "grade": true,
          "grade_id": "cell-9a97632a2a6f7e0a",
          "locked": true,
          "points": 10,
          "schema_version": 3,
          "solution": false
        },
        "colab": {
          "base_uri": "https://localhost:8080/"
        },
        "id": "NAVt1Es3elll",
        "outputId": "a4417244-e47a-49c6-b344-138771a375cf"
      },
      "outputs": [
        {
          "output_type": "stream",
          "name": "stdout",
          "text": [
            "{'c': 5, 'a': 2, 'b': 12}\n"
          ]
        }
      ],
      "source": [
        "### Tests for multiplication\n",
        "# print(AD(a=2, b=3) * AD(b=4, c=5))\n",
        "# Note that the elements that are missing in the other dictionary\n",
        "# are assumed to be 1.\n",
        "d = AD(a=2, b=3) * AD(b=4, c=5)\n",
        "print(d)\n",
        "check_equal(d, AD(a=2, b=12, c=5))\n",
        "\n"
      ]
    },
    {
      "cell_type": "code",
      "execution_count": null,
      "metadata": {
        "deletable": false,
        "editable": false,
        "nbgrader": {
          "cell_type": "code",
          "checksum": "68469f51dfd6590b69977f77f0a97cc2",
          "grade": true,
          "grade_id": "cell-f0a14ae8bf3b6d1c",
          "locked": true,
          "points": 10,
          "schema_version": 3,
          "solution": false
        },
        "id": "VuLxNFZwelll"
      },
      "outputs": [],
      "source": [
        "### Tests for division\n",
        "\n",
        "d = AD(a=8, b=6) / AD(a=2, c=4)\n",
        "check_equal(d, AD(a=4, b=6, c=0.25))\n",
        "\n"
      ]
    },
    {
      "cell_type": "code",
      "execution_count": null,
      "metadata": {
        "deletable": false,
        "editable": false,
        "nbgrader": {
          "cell_type": "code",
          "checksum": "6c6c57de13e0af2ff41cb99b65707ad5",
          "grade": true,
          "grade_id": "cell-29dc7c6c258200d0",
          "locked": true,
          "points": 10,
          "schema_version": 3,
          "solution": false
        },
        "id": "8jYeeGG4ellm"
      },
      "outputs": [],
      "source": [
        "### Tests for integer division\n",
        "\n",
        "d = AD(a=8, b=6) // AD(a=2, b=4, c=4)\n",
        "check_equal(d, AD(a=4, b=1, c=0))\n",
        "\n"
      ]
    },
    {
      "cell_type": "markdown",
      "metadata": {
        "deletable": false,
        "editable": false,
        "nbgrader": {
          "cell_type": "markdown",
          "checksum": "ed39409c2e7814fe65e59b4f90e2298f",
          "grade": false,
          "grade_id": "cell-d7d94e5c1918a5b0",
          "locked": true,
          "schema_version": 3,
          "solution": false
        },
        "id": "AHDMKCUmellm"
      },
      "source": [
        "We will let you also implement max_items and min_items properties.  The value of these properties should be a _pair_, consisting of the maximum/minimum value, and of the _set_ of keys that led to that value.  The latter needs to be a set, because there are multiple key, value pairs where the value is maximal or minimal. To avoid wasting your time, we will have you implement only the max_items property.  If the AD is empty, the property's value should be the pair `(None, set())`. "
      ]
    },
    {
      "cell_type": "code",
      "execution_count": null,
      "metadata": {
        "deletable": false,
        "nbgrader": {
          "cell_type": "code",
          "checksum": "6d000281612f79fbfb928de1a5ba09af",
          "grade": false,
          "grade_id": "cell-b94fdf685c041aff",
          "locked": false,
          "schema_version": 3,
          "solution": true
        },
        "id": "CUG08XgVellm"
      },
      "outputs": [],
      "source": [
        "### Exercise: Implement `max_items`\n",
        "\n",
        "# fix this \n",
        "def ad_max_items(self):\n",
        "    \"\"\"Returns a pair consisting of the max value in the AD, and of the\n",
        "    set of keys that attain that value. This can be done in 7 lines of code.\"\"\"\n",
        "    # YOUR CODE HERE\n",
        "    val = None\n",
        "    key = set()\n",
        "    for keys, values in self.items():\n",
        "        if values == max(self.values()):\n",
        "            val = values\n",
        "            key.add(keys)\n",
        "    return (val, key)\n",
        "       \n",
        "    \n",
        "     \n",
        "# Remember the use of the property decorator.\n",
        "AD.max_items = property(ad_max_items)\n"
      ]
    },
    {
      "cell_type": "code",
      "execution_count": null,
      "metadata": {
        "deletable": false,
        "editable": false,
        "nbgrader": {
          "cell_type": "code",
          "checksum": "41cf2eb5e990b362db655f0b94dab73d",
          "grade": true,
          "grade_id": "cell-2a6bf27fb1f69a4d",
          "locked": true,
          "points": 10,
          "schema_version": 3,
          "solution": false
        },
        "id": "OPPRMcRqellm"
      },
      "outputs": [],
      "source": [
        "### Tests for `max_items`\n",
        "\n",
        "# For empty ADs, it has to return None as value, and the empty set as key set.\n",
        "check_equal(AD().max_items, (None, set()))\n",
        "# Case of one maximum.\n",
        "check_equal(AD(red=2, green=3, blue=1).max_items, (3, {'green'}))\n",
        "# Case of multiple maxima.\n",
        "check_equal(AD(red=2, yellow=3, blue=3, violet=3, pink=1).max_items,\n",
        "             (3, {'yellow', 'blue', 'violet'}))\n"
      ]
    },
    {
      "cell_type": "markdown",
      "metadata": {
        "deletable": false,
        "editable": false,
        "nbgrader": {
          "cell_type": "markdown",
          "checksum": "4724bc108114858a3697aa67f534206a",
          "grade": false,
          "grade_id": "cell-a5d5e79e61424dac",
          "locked": true,
          "schema_version": 3,
          "solution": false
        },
        "id": "L8LV0yYzellm"
      },
      "source": [
        "## Comparison and Logical Operators\n",
        "\n",
        "### Comparisons\n",
        "\n",
        "If `d` is an `AD`, what is the meaning of `d > 2`?\n",
        "\n",
        "In numpy, when we have an array `a`, and we write `a > 2`, we obtain the array consisting of boolean entries, indicating whether the elements of `a` are greater than two or not: \n"
      ]
    },
    {
      "cell_type": "code",
      "execution_count": null,
      "metadata": {
        "deletable": false,
        "editable": false,
        "nbgrader": {
          "cell_type": "code",
          "checksum": "1d02d9cde5ce3b07bec436d5c9960d20",
          "grade": false,
          "grade_id": "cell-91e54ff940924761",
          "locked": true,
          "schema_version": 3,
          "solution": false
        },
        "id": "DhOzqAcHellm",
        "colab": {
          "base_uri": "https://localhost:8080/"
        },
        "outputId": "a776d327-8787-483b-8a72-e41001bd8f6d"
      },
      "outputs": [
        {
          "output_type": "execute_result",
          "data": {
            "text/plain": [
              "array([False,  True,  True, False, False])"
            ]
          },
          "metadata": {},
          "execution_count": 395
        }
      ],
      "source": [
        "import numpy as np\n",
        "\n",
        "a = np.array([2, 3, 4, 1, 2])\n",
        "a > 2\n"
      ]
    },
    {
      "cell_type": "markdown",
      "metadata": {
        "deletable": false,
        "editable": false,
        "nbgrader": {
          "cell_type": "markdown",
          "checksum": "dbc288b8c5ea1e998bb42550b23cc793",
          "grade": false,
          "grade_id": "cell-69cc31c43c0946e8",
          "locked": true,
          "schema_version": 3,
          "solution": false
        },
        "id": "V2K-92eDellm"
      },
      "source": [
        "This suggests adopting a similar semantics for inequalities, defining the behavior of the [comparison operators](https://docs.python.org/3/reference/datamodel.html#object.__lt__):"
      ]
    },
    {
      "cell_type": "code",
      "execution_count": null,
      "metadata": {
        "deletable": false,
        "editable": false,
        "nbgrader": {
          "cell_type": "code",
          "checksum": "b523e1fca81803510692da0ddf87a861",
          "grade": false,
          "grade_id": "cell-218c598006cb6f40",
          "locked": true,
          "schema_version": 3,
          "solution": false
        },
        "id": "665pYqq5ellm"
      },
      "outputs": [],
      "source": [
        "def ad_lt(self, other):\n",
        "    return AD._binary_op(self, other, lambda x, y: x < y, 0)\n",
        "\n",
        "AD.__lt__ = ad_lt\n"
      ]
    },
    {
      "cell_type": "code",
      "execution_count": null,
      "metadata": {
        "deletable": false,
        "editable": false,
        "nbgrader": {
          "cell_type": "code",
          "checksum": "c4f47fc1d28d41dd99f36064b9ed8cf7",
          "grade": false,
          "grade_id": "cell-b8624980507f5aeb",
          "locked": true,
          "schema_version": 3,
          "solution": false
        },
        "id": "VM00UreYellm"
      },
      "outputs": [],
      "source": [
        "AD.__lt__ = lambda l, r: AD._binary_op(l, r, lambda x, y: x < y, 0)\n",
        "AD.__gt__ = lambda l, r: AD._binary_op(l, r, lambda x, y: x > y, 0)\n",
        "AD.__le__ = lambda l, r: AD._binary_op(l, r, lambda x, y: x <= y, 0)\n",
        "AD.__ge__ = lambda l, r: AD._binary_op(l, r, lambda x, y: x >= y, 0)\n"
      ]
    },
    {
      "cell_type": "markdown",
      "metadata": {
        "deletable": false,
        "editable": false,
        "nbgrader": {
          "cell_type": "markdown",
          "checksum": "476d0a9396ad6f2735f0ed4d1d77d884",
          "grade": false,
          "grade_id": "cell-fba7b7f1f7ab3648",
          "locked": true,
          "schema_version": 3,
          "solution": false
        },
        "id": "96Fr6ndeellm"
      },
      "source": [
        "Let us see how this works: "
      ]
    },
    {
      "cell_type": "code",
      "execution_count": null,
      "metadata": {
        "deletable": false,
        "editable": false,
        "nbgrader": {
          "cell_type": "code",
          "checksum": "42221c2af7653b62c77d492376ed870d",
          "grade": false,
          "grade_id": "cell-966f7dba3c9f6fb4",
          "locked": true,
          "schema_version": 3,
          "solution": false
        },
        "id": "FHYVR_CCelln",
        "colab": {
          "base_uri": "https://localhost:8080/"
        },
        "outputId": "6829dbd5-509b-46c3-dd09-f4a7ad83862f"
      },
      "outputs": [
        {
          "output_type": "execute_result",
          "data": {
            "text/plain": [
              "{'bird': False, 'cat': True}"
            ]
          },
          "metadata": {},
          "execution_count": 398
        }
      ],
      "source": [
        "AD(cat=4, bird=2) > 2\n"
      ]
    },
    {
      "cell_type": "markdown",
      "metadata": {
        "deletable": false,
        "editable": false,
        "nbgrader": {
          "cell_type": "markdown",
          "checksum": "5916ced451aef0cc79b993309178f955",
          "grade": false,
          "grade_id": "cell-75e46d71b7da84dc",
          "locked": true,
          "schema_version": 3,
          "solution": false
        },
        "id": "KZO0QDZUelln"
      },
      "source": [
        "Once we have a dictionary mapping from values to booleans, we need some way of testing whether all keys, or some keys, map to True. In Python, the `all()` function returns whether all elements in a boolean list are true: "
      ]
    },
    {
      "cell_type": "code",
      "execution_count": null,
      "metadata": {
        "deletable": false,
        "editable": false,
        "nbgrader": {
          "cell_type": "code",
          "checksum": "6149d8cbbed493ef562c5ee4c3b03f91",
          "grade": false,
          "grade_id": "cell-6ab8996c80ba3a31",
          "locked": true,
          "schema_version": 3,
          "solution": false
        },
        "id": "dcxAWeYkelln",
        "colab": {
          "base_uri": "https://localhost:8080/"
        },
        "outputId": "9bb2ab52-db56-438e-c4f8-c66a7d9bb7cc"
      },
      "outputs": [
        {
          "output_type": "stream",
          "name": "stdout",
          "text": [
            "False\n",
            "True\n"
          ]
        }
      ],
      "source": [
        "print(all([True, False, True, True]))\n",
        "print(any([True, True, True, True]))\n"
      ]
    },
    {
      "cell_type": "markdown",
      "metadata": {
        "deletable": false,
        "editable": false,
        "nbgrader": {
          "cell_type": "markdown",
          "checksum": "2cb2582594ac9c5c249d6c6be0f8bed2",
          "grade": false,
          "grade_id": "cell-549d67e0fab045f3",
          "locked": true,
          "schema_version": 3,
          "solution": false
        },
        "id": "-iqIge8lelln"
      },
      "source": [
        "So we can define the `all` and `any` methods for an AD as follows: "
      ]
    },
    {
      "cell_type": "code",
      "execution_count": null,
      "metadata": {
        "deletable": false,
        "editable": false,
        "nbgrader": {
          "cell_type": "code",
          "checksum": "b9a38a1afef2d4ed0ba17db86ea4f70f",
          "grade": false,
          "grade_id": "cell-f11aaf5a2b2d39fb",
          "locked": true,
          "schema_version": 3,
          "solution": false
        },
        "id": "6U0-PEsUelln"
      },
      "outputs": [],
      "source": [
        "def ad_all(self):\n",
        "    return all(self.values)\n",
        "\n",
        "AD.all = ad_all\n"
      ]
    },
    {
      "cell_type": "code",
      "execution_count": null,
      "metadata": {
        "deletable": false,
        "editable": false,
        "nbgrader": {
          "cell_type": "code",
          "checksum": "eacf7707ae7c4c5a3dd09064528d2b17",
          "grade": false,
          "grade_id": "cell-562da97d2b897989",
          "locked": true,
          "schema_version": 3,
          "solution": false
        },
        "id": "o3icmEeMelln"
      },
      "outputs": [],
      "source": [
        "AD.all = lambda self : all(self.values())\n",
        "AD.any = lambda self : any(self.values())\n"
      ]
    },
    {
      "cell_type": "markdown",
      "metadata": {
        "deletable": false,
        "editable": false,
        "nbgrader": {
          "cell_type": "markdown",
          "checksum": "dc02a8b5e15d2a0b9835f69d5a31afa1",
          "grade": false,
          "grade_id": "cell-33be3d72e8bc5995",
          "locked": true,
          "schema_version": 3,
          "solution": false
        },
        "id": "7aj2dk7Uelln"
      },
      "source": [
        "We also add a method for filtering the elements that satisfy a condition.  If the condition is left unspecified, we use the truth-value of the elements themselves."
      ]
    },
    {
      "cell_type": "code",
      "execution_count": null,
      "metadata": {
        "deletable": false,
        "editable": false,
        "nbgrader": {
          "cell_type": "code",
          "checksum": "25f3dd34594d260bc583c8a9c359c8b0",
          "grade": false,
          "grade_id": "cell-a20a13bff0cbf20",
          "locked": true,
          "schema_version": 3,
          "solution": false
        },
        "id": "ZpXPkdLcelln"
      },
      "outputs": [],
      "source": [
        "def ad_filter(self, f=None):\n",
        "    return AD({k: v for k, v in self.items() if (f(v) if f is not None else v)})\n",
        "AD.filter = ad_filter\n"
      ]
    },
    {
      "cell_type": "markdown",
      "metadata": {
        "deletable": false,
        "editable": false,
        "nbgrader": {
          "cell_type": "markdown",
          "checksum": "1dc172c15e5101cbef00e50997f517b4",
          "grade": false,
          "grade_id": "cell-935675d7d2210adc",
          "locked": true,
          "schema_version": 3,
          "solution": false
        },
        "id": "uJtPJbmkelln"
      },
      "source": [
        "Let us try this out."
      ]
    },
    {
      "cell_type": "code",
      "execution_count": null,
      "metadata": {
        "deletable": false,
        "editable": false,
        "nbgrader": {
          "cell_type": "code",
          "checksum": "ef5a4221d6fbce8a357c8e5fb9e94262",
          "grade": false,
          "grade_id": "cell-ebaaeee2db6628da",
          "locked": true,
          "schema_version": 3,
          "solution": false
        },
        "id": "PCraBjTxelln",
        "colab": {
          "base_uri": "https://localhost:8080/"
        },
        "outputId": "72c31306-8b84-420e-d9e8-dcac0e5e279e"
      },
      "outputs": [
        {
          "output_type": "execute_result",
          "data": {
            "text/plain": [
              "{'blue': 2, 'green': 3}"
            ]
          },
          "metadata": {},
          "execution_count": 403
        }
      ],
      "source": [
        "d = AD(green=3, blue=2, red=1)\n",
        "d.filter(lambda x : x > 1)\n"
      ]
    },
    {
      "cell_type": "code",
      "execution_count": null,
      "metadata": {
        "deletable": false,
        "editable": false,
        "nbgrader": {
          "cell_type": "code",
          "checksum": "ca3283d11247e61687a3b5273a7f8540",
          "grade": false,
          "grade_id": "cell-49fbb442f9718ede",
          "locked": true,
          "schema_version": 3,
          "solution": false
        },
        "id": "orwApfuMelln",
        "colab": {
          "base_uri": "https://localhost:8080/"
        },
        "outputId": "a7ffa307-a875-417b-9360-21e3fc5950fb"
      },
      "outputs": [
        {
          "output_type": "execute_result",
          "data": {
            "text/plain": [
              "{'blue': True, 'green': True}"
            ]
          },
          "metadata": {},
          "execution_count": 404
        }
      ],
      "source": [
        "d = AD(green=3, blue=2, red=1)\n",
        "(d > 1).filter()\n"
      ]
    },
    {
      "cell_type": "code",
      "execution_count": null,
      "metadata": {
        "deletable": false,
        "editable": false,
        "nbgrader": {
          "cell_type": "code",
          "checksum": "b75ef1c8907adaf3d0c6ebff175840a6",
          "grade": false,
          "grade_id": "cell-67c639ebae28f39a",
          "locked": true,
          "schema_version": 3,
          "solution": false
        },
        "id": "Va6WGmjOelln",
        "colab": {
          "base_uri": "https://localhost:8080/"
        },
        "outputId": "e4c7c2e6-80b8-4ca2-b665-b08c1ae5d53d"
      },
      "outputs": [
        {
          "output_type": "execute_result",
          "data": {
            "text/plain": [
              "False"
            ]
          },
          "metadata": {},
          "execution_count": 405
        }
      ],
      "source": [
        "(d > 1).all()\n"
      ]
    },
    {
      "cell_type": "code",
      "execution_count": null,
      "metadata": {
        "deletable": false,
        "editable": false,
        "nbgrader": {
          "cell_type": "code",
          "checksum": "302b3f97a0d77e2c7e151be84f74877b",
          "grade": false,
          "grade_id": "cell-5e257f2c230ef677",
          "locked": true,
          "schema_version": 3,
          "solution": false
        },
        "id": "JMMcBLnDelln",
        "colab": {
          "base_uri": "https://localhost:8080/"
        },
        "outputId": "24b5ffa1-0e60-434b-9b1d-13b9be5e7aa1"
      },
      "outputs": [
        {
          "output_type": "execute_result",
          "data": {
            "text/plain": [
              "True"
            ]
          },
          "metadata": {},
          "execution_count": 406
        }
      ],
      "source": [
        "(d > 0).all()\n"
      ]
    },
    {
      "cell_type": "markdown",
      "metadata": {
        "deletable": false,
        "editable": false,
        "nbgrader": {
          "cell_type": "markdown",
          "checksum": "5be538d7333b3a7e74c2a3606ec195b7",
          "grade": false,
          "grade_id": "cell-3889d0557973ce7b",
          "locked": true,
          "schema_version": 3,
          "solution": false
        },
        "id": "u0glE-A_ello"
      },
      "source": [
        "## Implementing the Sock Drawer In Terms of Arithmetic Dictionaries"
      ]
    },
    {
      "cell_type": "code",
      "execution_count": null,
      "metadata": {
        "deletable": false,
        "nbgrader": {
          "cell_type": "code",
          "checksum": "0b613ab197b5cba05f60dd7c5849fd91",
          "grade": false,
          "grade_id": "cell-8c1abe8d308d417d",
          "locked": false,
          "schema_version": 3,
          "solution": true
        },
        "id": "O1DHXVVeello"
      },
      "outputs": [],
      "source": [
        "from numpy.core.function_base import add_newdoc\n",
        "### Exercise: Implement the sock drawer class using ADs\n",
        "\n",
        "class ADSockDrawer(object):\n",
        "\n",
        "    def __init__(self):\n",
        "        self.drawer = AD()\n",
        "\n",
        "    def add_sock(self, color):\n",
        "        \"\"\"Adds a sock of the given color to the drawer.\n",
        "        Do it in one line of code.\"\"\"\n",
        "        # YOUR CODE HERE\n",
        "        self.drawer[color] = 1 if color not in self.drawer else self.drawer[color] + 1\n",
        "\n",
        "    def get_pair(self, color):\n",
        "        \"\"\"Returns False if there is no pair of the given color, and True\n",
        "        if there is.  In the latter case, it removes the pair from the drawer.\n",
        "        Do it in 5 lines of code or less.\"\"\"\n",
        "        # YOUR CODE HERE\n",
        "        if self.drawer[color] > 1:\n",
        "            self.drawer[color] -= 2\n",
        "            return True\n",
        "        else:\n",
        "            return False\n",
        "\n",
        "\n",
        "    @property\n",
        "    def available_colors(self):\n",
        "        \"\"\"Lists the colors for which we have at least two socks available.\n",
        "        Do it in 1 line of code.\"\"\"\n",
        "        # YOUR CODE HERE\n",
        "        return {x for x, n in self.drawer.items() if n > 1}\n"
      ]
    },
    {
      "cell_type": "code",
      "execution_count": null,
      "metadata": {
        "deletable": false,
        "editable": false,
        "nbgrader": {
          "cell_type": "code",
          "checksum": "ba5ec515902739b4522cf192162b7e91",
          "grade": false,
          "grade_id": "cell-de3320cb97d0efa",
          "locked": true,
          "schema_version": 3,
          "solution": false
        },
        "id": "T2bH_4_Aello"
      },
      "outputs": [],
      "source": [
        "# Tests for Sock Drawer implementation based on ADs\n",
        "\n",
        "test_drawer(ADSockDrawer)\n",
        "\n"
      ]
    },
    {
      "cell_type": "code",
      "execution_count": null,
      "metadata": {
        "deletable": false,
        "editable": false,
        "nbgrader": {
          "cell_type": "code",
          "checksum": "46ef9dacd654debc00528706447dff69",
          "grade": true,
          "grade_id": "cell-c568185222f05c86",
          "locked": true,
          "points": 10,
          "schema_version": 3,
          "solution": false
        },
        "id": "XbBtfsM2ello"
      },
      "outputs": [],
      "source": [
        "### Hidden tests for Sock Drawer implementation based on ADs\n",
        "\n"
      ]
    },
    {
      "cell_type": "markdown",
      "metadata": {
        "deletable": false,
        "editable": false,
        "nbgrader": {
          "cell_type": "markdown",
          "checksum": "5da3ba09830ff4cd0dc68ad2cbcb4f49",
          "grade": false,
          "grade_id": "cell-c8dea707baaf6b1f",
          "locked": true,
          "schema_version": 3,
          "solution": false
        },
        "id": "los-dsc8ello"
      },
      "source": [
        "**Exercise:** Model a kitchen pantry on top of an AD, modeling how many of each ingredient one has.   Model recipes in terms of ADs as well, and write functions so that, given a set of recipes: \n",
        "\n",
        "* We compute all the recipes that are individually feasible; \n",
        "* We compute all the sets of recipes (lists of recipes, without repetitions) that are _simultaneously_ feasible; \n",
        "* We compute all the recipes (lists of recipes, with repetitions) that are _simultaneously_ feasible.\n",
        "* Given a list of recipes, computes which ingredients to buy and in which quantity to be able to do all recipes. "
      ]
    }
  ],
  "metadata": {
    "colab": {
      "collapsed_sections": [],
      "name": "Sock_Drawers_and_Arithmetic_Dictionaries_test_test.ipynb",
      "provenance": []
    },
    "kernelspec": {
      "display_name": "Python 3",
      "language": "python",
      "name": "python3"
    },
    "language_info": {
      "codemirror_mode": {
        "name": "ipython",
        "version": 3
      },
      "file_extension": ".py",
      "mimetype": "text/x-python",
      "name": "python",
      "nbconvert_exporter": "python",
      "pygments_lexer": "ipython3",
      "version": "3.8.10"
    },
    "test_info": {
      "id": "6ff63c5258989883179bb4fb555dc9c6560fa10c"
    }
  },
  "nbformat": 4,
  "nbformat_minor": 0
}
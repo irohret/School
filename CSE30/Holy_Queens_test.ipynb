{
  "cells": [
    {
      "cell_type": "markdown",
      "metadata": {
        "id": "GOJS6Jp8pmst"
      },
      "source": [
        "Before you turn this problem in, make sure everything runs as expected. First, **restart the kernel** (in the menubar, select Kernel$\\rightarrow$Restart) and then **run all cells** (in the menubar, select Cell$\\rightarrow$Run All).\n",
        "\n",
        "Make sure you fill in any place that says `YOUR CODE HERE` or \"YOUR ANSWER HERE\", as well as your name and collaborators below:"
      ]
    },
    {
      "cell_type": "code",
      "execution_count": null,
      "metadata": {
        "id": "pcFFJcaSpmsv"
      },
      "outputs": [],
      "source": [
        "NAME = \"\"\n",
        "COLLABORATORS = \"\""
      ]
    },
    {
      "cell_type": "markdown",
      "metadata": {
        "id": "XaJsictppmsw"
      },
      "source": [
        "---"
      ]
    },
    {
      "cell_type": "markdown",
      "metadata": {
        "deletable": false,
        "editable": false,
        "nbgrader": {
          "grade": false,
          "grade_id": "cell-23900ebcf44e827d",
          "locked": true,
          "schema_version": 3,
          "solution": false
        },
        "id": "JhBFuIzppmsw"
      },
      "source": [
        "# CSE 30 Winter 2022 - Bonus Homework!\n",
        "\n",
        "Copyright Luca de Alfaro, 2021.  License: [CC-BY-NC-ND](https://creativecommons.org/licenses/by-nc-nd/4.0/).\n",
        "\n",
        "\n",
        "### Instructions\n",
        "\n",
        "Please disregard the YOUR NAME and COLLABORATORS above.  They are put there atomatically by the grading tool.\n",
        "You can find instructions on how to work on a homework on Canvas.  Here is a short summary: \n",
        "\n",
        "### Submitting your work\n",
        "\n",
        "**Please note that this homework is completely optional, but we think it's fun! Doing it can only improve your grade -- you could also just use the extra time to sleep or study for your other classes.**\n",
        "\n",
        "To submit your work: \n",
        "\n",
        "* First, click on \"Runtime > Restart and run all\", and check that you get no errors.  This enables you to catch any error you might have introduced, and not noticed, due to your running cells out of order. \n",
        "* Second, download the notebook in .ipynb format (File > Download .ipynb) and upload the .ipynb file to [this form](https://docs.google.com/forms/d/e/1FAIpQLSedXq9GBPVzmKladkflZiLxiurlxZbqzUXd8pNAGn1TZo9g2w/viewform?usp=sf_link).  This homework is **completely optional**, but if you're going to do it, we need it by **11:59pm on Friday, 18 March 2022**.\n",
        "\n",
        "You can submit multiple times; the last submission before the deadline is the one that counts.\n",
        "\n",
        "### Homework format\n",
        "\n",
        "For each question in this notebook, there is: \n",
        "\n",
        "* A text description of the problem. \n",
        "* One or more places where you have to insert your solution.  You need to complete every place marked: \n",
        "\n",
        "    `# YOUR CODE HERE`\n",
        "    \n",
        "    and you should not modify any other place. \n",
        "* One or more test cells.  Each cell is worth some number of points, marked at the top.  You should not modify these tests cells.  The tests pass if no error is printed out: when there is a statement that says, for instance: \n",
        "\n",
        "    `assert x == 2`\n",
        "    \n",
        "    then the test passes if `x` has value 2, and fails otherwise.  You can insert a `print(x)` (for this case!) somewhere if you want to debug your work; it is up to you.  \n",
        "    \n",
        "### Notes:\n",
        "\n",
        "* Your code will be tested both according to the tests you can see (the `assert` statements you can see), _and_ additional tests.  This prevents you from hard-coding the answer to the particular questions posed.  Your code should solve the _general_ intended case, not hard-code the particular answer for the values used in the tests. \n",
        "\n",
        "* **Please do not delete or add cells!** The test is autograded, and if you modify the test by adding or deleting cells, even if you re-add cells you delete, you may not receive credit. \n",
        "\n",
        "* **Please do not import modules that are not part of the [standard library](https://docs.python.org/3/library/index.html).** You do not need any, and they will likely not available in the grading environment, leading your code to fail. \n",
        "\n",
        "* **If you are inactive too long, your notebook might get disconnected from the back-end.** Your work is never lost, but you have to re-run all the cells before you continue. \n",
        "\n",
        "* You can write out print statements in your code, to help you test/debug it. But remember: the code is graded on the basis of what it outputs or returns, not on the basis of what it prints.\n",
        "\n",
        "* **TAs and tutors have access to this notebook,** so if you let them know you need their help, they can look at your work and give you advice. \n",
        "\n",
        "### Grading\n",
        "\n",
        "Each cell where there are tests is worth a certain number of points.  You get the points allocated to a cell only if you pass _all_ the tests in the cell. \n",
        "\n",
        "The tests in a cell include both the tests you can see, and other, similar, tests that are used for grading only.  Therefore, you cannot hard-code the solutions: you really have to solve the essence of the problem, to receive the points in a cell. \n",
        "\n",
        "### Code of Conduct\n",
        "\n",
        "* Work on the test yourself, alone. \n",
        "* You can search documentation on the web, on sites such as the Python documentation sites, Stackoverflow, and similar, and you can use the results. \n",
        "* You cannot share your work with others or solicit their help.\n"
      ]
    },
    {
      "cell_type": "markdown",
      "metadata": {
        "deletable": false,
        "editable": false,
        "nbgrader": {
          "grade": false,
          "grade_id": "cell-9450bb300c7c60c3",
          "locked": true,
          "schema_version": 3,
          "solution": false
        },
        "id": "YitD39yfpmsz"
      },
      "source": [
        "# The Holy Queens Problem\n",
        "Luca de Alfaro, 2021"
      ]
    },
    {
      "cell_type": "markdown",
      "metadata": {
        "deletable": false,
        "editable": false,
        "nbgrader": {
          "grade": false,
          "grade_id": "cell-a7a8c2000a85c4c1",
          "locked": true,
          "schema_version": 3,
          "solution": false
        },
        "id": "C41eO0vWpmsz"
      },
      "source": [
        "A chess queen can strike along the row, column, and the two diagonals.   The classical $n$-queens problem consists in placing $n$ queens on the chess board, so that no queen can eat another queen. \n",
        "\n",
        "We will study here the _holy_ queen problem: the chessboard can have _holes_, and in fact, can have an arbitrary shape.  The ability of a queen to move and attack is limited by the holes, and in general by the borders of the board: a queen cannot \"jump\" across a hole.  Your goal is to check whether you can place $n$ queens on a given board, which may contain holes. "
      ]
    },
    {
      "cell_type": "markdown",
      "metadata": {
        "deletable": false,
        "editable": false,
        "nbgrader": {
          "grade": false,
          "grade_id": "cell-bab8b090197f3b2a",
          "locked": true,
          "schema_version": 3,
          "solution": false
        },
        "id": "H7AAcQsapms0"
      },
      "source": [
        "## The board\n",
        "\n",
        "For a board, we will use a Numpy representation as a matrix, with the following conventions for the content of each square: \n",
        "\n",
        "* 0: the cell is available for a queen. \n",
        "* 1: a queen is in the cell.\n",
        "* 2: the cell is under attack from some queen (and thus not available). \n",
        "* 3: the cell contains a wall/hole, and a queen cannot traverse it.  \n",
        "\n",
        "We provide for you here a function `show_board` that visualizes a board, using a `Q` for a queen, a dot for an empty location, a `#` for a hole or wall, and a `*` for a cell under attack.  "
      ]
    },
    {
      "cell_type": "code",
      "execution_count": null,
      "metadata": {
        "deletable": false,
        "editable": false,
        "nbgrader": {
          "grade": false,
          "grade_id": "cell-94e9b2063a61c048",
          "locked": true,
          "schema_version": 3,
          "solution": false
        },
        "id": "qopPSYHGpms0"
      },
      "outputs": [],
      "source": [
        "QUEEN = 1\n",
        "EMPTY = 0\n",
        "FORBIDDEN = 2\n",
        "WALL = 3\n",
        "\n",
        "def show_board(board):\n",
        "    rows, cols = board.shape\n",
        "    for r in range(rows):\n",
        "        s = \"\"\n",
        "        for c in range(cols):\n",
        "            if board[r, c] == QUEEN:\n",
        "                s += \"Q\"\n",
        "            elif board[r, c] == FORBIDDEN:\n",
        "                s += \"*\"\n",
        "            elif board[r, c] == WALL:\n",
        "                s += \"#\"\n",
        "            elif board[r, c] == EMPTY:\n",
        "                s += \".\"\n",
        "            else:\n",
        "                s += \"?\"\n",
        "        print(s)\n"
      ]
    },
    {
      "cell_type": "code",
      "execution_count": null,
      "metadata": {
        "deletable": false,
        "editable": false,
        "nbgrader": {
          "grade": false,
          "grade_id": "cell-3689dc461975bc04",
          "locked": true,
          "schema_version": 3,
          "solution": false
        },
        "colab": {
          "base_uri": "https://localhost:8080/"
        },
        "id": "Ds8UpYwjpms0",
        "outputId": "9bbea62b-26d5-465b-9150-8c7c1fd47e39"
      },
      "outputs": [
        {
          "output_type": "stream",
          "name": "stdout",
          "text": [
            "......\n",
            ".Q.##.\n",
            "...##.\n",
            "..Q...\n",
            "......\n"
          ]
        }
      ],
      "source": [
        "import numpy as np\n",
        "\n",
        "board=np.array([\n",
        "                [0, 0, 0, 0, 0, 0],\n",
        "                [0, 1, 0, 3, 3, 0],\n",
        "                [0, 0, 0, 3, 3, 0],\n",
        "                [0, 0, 1, 0, 0, 0],\n",
        "                [0, 0, 0, 0, 0, 0]\n",
        "])\n",
        "show_board(board)\n"
      ]
    },
    {
      "cell_type": "markdown",
      "metadata": {
        "deletable": false,
        "editable": false,
        "nbgrader": {
          "grade": false,
          "grade_id": "cell-56e6f0b0e35d1043",
          "locked": true,
          "schema_version": 3,
          "solution": false
        },
        "id": "PBGJ1uwapms1"
      },
      "source": [
        "Let us also write the opposite function `read_board`. "
      ]
    },
    {
      "cell_type": "code",
      "execution_count": null,
      "metadata": {
        "deletable": false,
        "editable": false,
        "nbgrader": {
          "grade": false,
          "grade_id": "cell-795ec82608b819d8",
          "locked": true,
          "schema_version": 3,
          "solution": false
        },
        "id": "hTwDoyLgpms1"
      },
      "outputs": [],
      "source": [
        "def read_board(string_list):\n",
        "    rows = len(string_list)\n",
        "    cols = len(string_list[0])\n",
        "    board = np.zeros((rows, cols))\n",
        "    for r, row in enumerate(string_list):\n",
        "        assert len(row) == cols\n",
        "        for c, s in enumerate(row):\n",
        "            if s == \"Q\":\n",
        "                board[r, c] = QUEEN\n",
        "            elif s == \"#\":\n",
        "                board[r, c] = WALL\n",
        "            elif s == \"*\":\n",
        "                board[r, c] = FORBIDDEN\n",
        "    return board\n"
      ]
    },
    {
      "cell_type": "code",
      "execution_count": null,
      "metadata": {
        "deletable": false,
        "editable": false,
        "nbgrader": {
          "grade": false,
          "grade_id": "cell-9e80904c24e32a03",
          "locked": true,
          "schema_version": 3,
          "solution": false
        },
        "colab": {
          "base_uri": "https://localhost:8080/"
        },
        "id": "7Y4wLkJdpms1",
        "outputId": "b0e5ec10-342f-4e30-dd7e-35fb60ec1578"
      },
      "outputs": [
        {
          "output_type": "stream",
          "name": "stdout",
          "text": [
            "......\n",
            ".Q.##.\n",
            "...##.\n",
            "..Q...\n",
            "......\n"
          ]
        }
      ],
      "source": [
        "bs = [\n",
        "    \"......\",\n",
        "    \".Q.##.\",\n",
        "    \"...##.\",\n",
        "    \"..Q...\",\n",
        "    \"......\"\n",
        "    ]\n",
        "show_board(read_board(bs))\n"
      ]
    },
    {
      "cell_type": "markdown",
      "metadata": {
        "deletable": false,
        "editable": false,
        "nbgrader": {
          "grade": false,
          "grade_id": "cell-f302e3dd96c75f96",
          "locked": true,
          "schema_version": 3,
          "solution": false
        },
        "id": "faYlFQp-pms2"
      },
      "source": [
        "Here is the class `HolyQueens`.  You must define two methods: \n",
        "\n",
        "The method `propagate` propagates the constraints, marking with `FORBIDDEN` all the locations that can be reached by the queens on the board. \n",
        "\n",
        "The method `search` searches for a solution with a given number of queens.  If a solution is found, it returns the board.  If no solution is found, it returns `None`.  The method `search` should implement the propagate-guess-recur framework: if not enough queens are present on the board, it first propagates the constraints from the current queens if any, then it guesses the position for a new queen, and then it recurs, looking for a solution in which one fewer queen needs to be placed. \n",
        "\n",
        "We advise you to implement `propagate` first, and then `search`. "
      ]
    },
    {
      "cell_type": "code",
      "execution_count": null,
      "metadata": {
        "deletable": false,
        "nbgrader": {
          "grade": false,
          "grade_id": "cell-f4baa917f9bf7469",
          "locked": false,
          "schema_version": 3,
          "solution": true
        },
        "id": "cPnEcQOSpms2"
      },
      "outputs": [],
      "source": [
        "class HolyQueens(object):\n",
        "\n",
        "    def __init__(self, board):\n",
        "        self.board = board\n",
        "        self.num_rows, self.num_cols = self.board.shape\n",
        "        # Current number of queens in the board.\n",
        "        self.num_queens = np.sum(self.board == QUEEN)\n",
        "\n",
        "    def show(self):\n",
        "        show_board(self.board)\n",
        "\n",
        "    def propagate(self):\n",
        "        \"\"\"Propagates the information on the board, marking with 2 the\n",
        "        positions where a queen cannot be.\"\"\"\n",
        "        # The solution can be written concisely in about 20 lines of code,\n",
        "        # but if you brute force it, it might be quite long.\n",
        "        # YOUR CODE HERE\n",
        "\n",
        "    def search(self, total_num_queens):\n",
        "        \"\"\"Searches for a solution, starting from the given board,\n",
        "        which contains exactly num_queens. It returns the board,\n",
        "        if such a solution is found, or None, if none could be found\n",
        "        after exhaustive search.\"\"\"\n",
        "        pass\n",
        "        # YOUR CODE HERE\n",
        "\n"
      ]
    },
    {
      "cell_type": "markdown",
      "metadata": {
        "deletable": false,
        "editable": false,
        "nbgrader": {
          "grade": false,
          "grade_id": "cell-c937f2d849d33de4",
          "locked": true,
          "schema_version": 3,
          "solution": false
        },
        "id": "SKSiHVlVpms2"
      },
      "source": [
        "Let us see how propagate works. "
      ]
    },
    {
      "cell_type": "code",
      "execution_count": null,
      "metadata": {
        "deletable": false,
        "editable": false,
        "nbgrader": {
          "grade": false,
          "grade_id": "cell-628cafc4edaa9883",
          "locked": true,
          "schema_version": 3,
          "solution": false
        },
        "id": "X_ZxBlhbpms2"
      },
      "outputs": [],
      "source": [
        "# Propagating this\n",
        "bs = [\n",
        "    \"......\",\n",
        "    \".Q.##.\",\n",
        "    \"...##.\",\n",
        "    \"..Q...\",\n",
        "    \"......\"\n",
        "    ]\n",
        "# should give this:\n",
        "bs_prop = [\n",
        "    \"***...\",\n",
        "    \"*Q*##.\",\n",
        "    \"***##.\",\n",
        "    \"**Q***\",\n",
        "    \".****.\"]\n",
        "\n",
        "hq = HolyQueens(read_board(bs))\n",
        "hq.propagate()\n",
        "hq.show()\n",
        "assert (hq.board == read_board(bs_prop)).all()\n"
      ]
    },
    {
      "cell_type": "code",
      "execution_count": null,
      "metadata": {
        "deletable": false,
        "editable": false,
        "nbgrader": {
          "grade": false,
          "grade_id": "cell-b6461a3908cd82e5",
          "locked": true,
          "schema_version": 3,
          "solution": false
        },
        "id": "dT7GME88pms2"
      },
      "outputs": [],
      "source": [
        "# Propagating this\n",
        "bs = [\n",
        "    \".....Q\",\n",
        "    \"..Q##.\",\n",
        "    \"...##.\",\n",
        "    \".#....\",\n",
        "    \".Q....\"\n",
        "    ]\n",
        "# should give this:\n",
        "bs_prop = [\n",
        "    \"*****Q\",\n",
        "    \"**Q##*\",\n",
        "    \".**##*\",\n",
        "    \"*#*..*\",\n",
        "    \"*Q****\"]\n",
        "\n",
        "hq = HolyQueens(read_board(bs))\n",
        "hq.propagate()\n",
        "hq.show()\n",
        "assert (hq.board == read_board(bs_prop)).all()\n"
      ]
    },
    {
      "cell_type": "code",
      "execution_count": null,
      "metadata": {
        "deletable": false,
        "editable": false,
        "nbgrader": {
          "grade": false,
          "grade_id": "cell-a39108a0407cc7e",
          "locked": true,
          "schema_version": 3,
          "solution": false
        },
        "id": "GifcedYvpms3"
      },
      "outputs": [],
      "source": [
        "## Here you can write more tests.\n"
      ]
    },
    {
      "cell_type": "code",
      "execution_count": null,
      "metadata": {
        "deletable": false,
        "editable": false,
        "nbgrader": {
          "grade": true,
          "grade_id": "cell-784f83eda77643cb",
          "locked": true,
          "points": 10,
          "schema_version": 3,
          "solution": false
        },
        "id": "BaVisSuHpms3"
      },
      "outputs": [],
      "source": [
        ""
      ]
    },
    {
      "cell_type": "code",
      "execution_count": null,
      "metadata": {
        "deletable": false,
        "editable": false,
        "nbgrader": {
          "grade": true,
          "grade_id": "cell-717e03b4d5a29fa1",
          "locked": true,
          "points": 10,
          "schema_version": 3,
          "solution": false
        },
        "id": "ALG9tpN5pms3"
      },
      "outputs": [],
      "source": [
        ""
      ]
    },
    {
      "cell_type": "markdown",
      "metadata": {
        "deletable": false,
        "editable": false,
        "nbgrader": {
          "grade": false,
          "grade_id": "cell-45f5fd8439f5d4c8",
          "locked": true,
          "schema_version": 3,
          "solution": false
        },
        "id": "8ADQiCzCpms3"
      },
      "source": [
        "Let us check the search function now. "
      ]
    },
    {
      "cell_type": "code",
      "execution_count": null,
      "metadata": {
        "deletable": false,
        "editable": false,
        "nbgrader": {
          "grade": false,
          "grade_id": "cell-2924ded87fe955c2",
          "locked": true,
          "schema_version": 3,
          "solution": false
        },
        "id": "FJwFELWbpms3"
      },
      "outputs": [],
      "source": [
        "bs = [\n",
        "    \"......\",\n",
        "    \"...##.\",\n",
        "    \"...##.\",\n",
        "    \"......\",\n",
        "    \"......\"\n",
        "    ]\n",
        "hq = HolyQueens(read_board(bs))\n",
        "r = hq.search(4)\n",
        "assert r is not None\n",
        "# You should get a solution with 4 non-interfering queens.\n",
        "show_board(r)\n"
      ]
    },
    {
      "cell_type": "code",
      "execution_count": null,
      "metadata": {
        "deletable": false,
        "editable": false,
        "nbgrader": {
          "grade": false,
          "grade_id": "cell-92f1ff240c566f88",
          "locked": true,
          "schema_version": 3,
          "solution": false
        },
        "id": "gZtRkybbpms3"
      },
      "outputs": [],
      "source": [
        "bs = [\n",
        "    \"......\",\n",
        "    \"...##.\",\n",
        "    \"...##.\",\n",
        "    \"......\",\n",
        "    \"......\"\n",
        "    ]\n",
        "hq = HolyQueens(read_board(bs))\n",
        "r = hq.search(6)\n",
        "assert r is not None\n",
        "# You should get a solution with 6 non-interfering queens.\n",
        "show_board(r)\n"
      ]
    },
    {
      "cell_type": "code",
      "execution_count": null,
      "metadata": {
        "deletable": false,
        "editable": false,
        "nbgrader": {
          "grade": true,
          "grade_id": "cell-1b66002d8296138f",
          "locked": true,
          "points": 10,
          "schema_version": 3,
          "solution": false
        },
        "id": "fCKXuyF6pms3"
      },
      "outputs": [],
      "source": [
        ""
      ]
    },
    {
      "cell_type": "code",
      "execution_count": null,
      "metadata": {
        "deletable": false,
        "editable": false,
        "nbgrader": {
          "grade": false,
          "grade_id": "cell-6f98df0539b5fb3",
          "locked": true,
          "schema_version": 3,
          "solution": false
        },
        "id": "fCvk6yGcpms4"
      },
      "outputs": [],
      "source": [
        ""
      ]
    }
  ],
  "metadata": {
    "colab": {
      "collapsed_sections": [],
      "name": "Holy Queens_test.ipynb",
      "provenance": []
    },
    "kernelspec": {
      "display_name": "Python 3",
      "language": "python",
      "name": "python3"
    },
    "language_info": {
      "codemirror_mode": {
        "name": "ipython",
        "version": 3
      },
      "file_extension": ".py",
      "mimetype": "text/x-python",
      "name": "python",
      "nbconvert_exporter": "python",
      "pygments_lexer": "ipython3",
      "version": "3.8.10"
    },
    "test_info": {
      "id": "6ff63c5258989883179bb4fb555dc9c6560fa10c"
    }
  },
  "nbformat": 4,
  "nbformat_minor": 0
}
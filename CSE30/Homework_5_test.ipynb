{
  "cells": [
    {
      "cell_type": "markdown",
      "metadata": {
        "id": "U3Lwtpj7clas"
      },
      "source": [
        "Before you turn this problem in, make sure everything runs as expected. First, **restart the kernel** (in the menubar, select Kernel$\\rightarrow$Restart) and then **run all cells** (in the menubar, select Cell$\\rightarrow$Run All).\n",
        "\n",
        "Make sure you fill in any place that says `YOUR CODE HERE` or \"YOUR ANSWER HERE\", as well as your name and collaborators below:"
      ]
    },
    {
      "cell_type": "code",
      "execution_count": null,
      "metadata": {
        "id": "WlLX_2prclau"
      },
      "outputs": [],
      "source": [
        "NAME = \"\"\n",
        "COLLABORATORS = \"\""
      ]
    },
    {
      "cell_type": "markdown",
      "metadata": {
        "id": "_7v-5hgrclav"
      },
      "source": [
        "---"
      ]
    },
    {
      "cell_type": "markdown",
      "metadata": {
        "deletable": false,
        "editable": false,
        "nbgrader": {
          "cell_type": "markdown",
          "checksum": "de169418fe52ca6626e481e3a5f7a904",
          "grade": false,
          "grade_id": "cell-292807af1ee1a87a",
          "locked": true,
          "schema_version": 3,
          "solution": false
        },
        "id": "uoVAkDSzclav"
      },
      "source": [
        "# CSE 30 Fall 2021 - Homework 5\n",
        "\n",
        "\n",
        "### Instructions\n",
        "\n",
        "Please disregard the YOUR NAME and COLLABORATORS above.  They are put there atomatically by the grading tool.\n",
        "You can find instructions on how to work on a homework on Canvas.  Here is a short summary: \n",
        "\n",
        "### Submitting your work\n",
        "\n",
        "To submit your work: \n",
        "\n",
        "* First, click on \"Runtime > Restart and run all\", and check that you get no errors.  This enables you to catch any error you might have introduced, and not noticed, due to your running cells out of order. \n",
        "* Second, download the notebook in .ipynb format (File > Download .ipynb) and upload the .ipynb file to [this form](https://docs.google.com/forms/d/e/1FAIpQLScc866IYIyBUYjeK97AJy_vEZMjmOfpz10en24zao4lZNKrJg/viewform?usp=sf_link).\n",
        "* This homework is due on **Tuesday, 25 January 2022** by 11:59pm.\n",
        "\n",
        "You can submit multiple times; the last submission before the deadline is the one that counts.\n",
        "\n",
        "### Homework format\n",
        "\n",
        "For each question in this notebook, there is: \n",
        "\n",
        "* A text description of the problem. \n",
        "* One or more places where you have to insert your solution.  You need to complete every place marked: \n",
        "\n",
        "    `# YOUR CODE HERE`\n",
        "    \n",
        "    and you should not modify any other place. \n",
        "* One or more test cells.  Each cell is worth some number of points, marked at the top.  You should not modify these tests cells.  The tests pass if no error is printed out: when there is a statement that says, for instance: \n",
        "\n",
        "    `assert x == 2`\n",
        "    \n",
        "    then the test passes if `x` has value 2, and fails otherwise.  You can insert a `print(x)` (for this case!) somewhere if you want to debug your work; it is up to you.  \n",
        "    \n",
        "### Notes:\n",
        "\n",
        "* Your code will be tested both according to the tests you can see (the `assert` statements you can see), _and_ additional tests.  This prevents you from hard-coding the answer to the particular questions posed.  Your code should solve the _general_ intended case, not hard-code the particular answer for the values used in the tests. \n",
        "\n",
        "* **Please do not delete or add cells!** The test is autograded, and if you modify the test by adding or deleting cells, even if you re-add cells you delete, you may not receive credit. \n",
        "\n",
        "* **Please do not import modules that are not part of the [standard library](https://docs.python.org/3/library/index.html).** You do not need any, and they will likely not available in the grading environment, leading your code to fail. \n",
        "\n",
        "* **If you are inactive too long, your notebook might get disconnected from the back-end.** Your work is never lost, but you have to re-run all the cells before you continue. \n",
        "\n",
        "* You can write out print statements in your code, to help you test/debug it. But remember: the code is graded on the basis of what it outputs or returns, not on the basis of what it prints.\n",
        "\n",
        "* **TAs and tutors have access to this notebook,** so if you let them know you need their help, they can look at your work and give you advice. \n",
        "\n",
        "### Grading\n",
        "\n",
        "Each cell where there are tests is worth a certain number of points.  You get the points allocated to a cell only if you pass _all_ the tests in the cell. \n",
        "\n",
        "The tests in a cell include both the tests you can see, and other, similar, tests that are used for grading only.  Therefore, you cannot hard-code the solutions: you really have to solve the essence of the problem, to receive the points in a cell. \n",
        "\n",
        "### Code of Conduct\n",
        "\n",
        "* Work on the test yourself, alone. \n",
        "* You can search documentation on the web, on sites such as the Python documentation sites, Stackoverflow, and similar, and you can use the results. \n",
        "* You cannot share your work with others or solicit their help.\n"
      ]
    },
    {
      "cell_type": "markdown",
      "metadata": {
        "deletable": false,
        "editable": false,
        "nbgrader": {
          "cell_type": "markdown",
          "checksum": "2c090f4d01114b9b587fd0e8718d42f4",
          "grade": false,
          "grade_id": "cell-bfccc979dcf9b62f",
          "locked": true,
          "schema_version": 3,
          "solution": false
        },
        "id": "vtXtgAVaclaw"
      },
      "source": [
        "We have seen in the chapter on classes how to implement complex numbers: "
      ]
    },
    {
      "cell_type": "code",
      "execution_count": null,
      "metadata": {
        "deletable": false,
        "editable": false,
        "nbgrader": {
          "cell_type": "code",
          "checksum": "0c6b31278d5e2548993cf84abada1f69",
          "grade": false,
          "grade_id": "cell-3080717ecd13c59b",
          "locked": true,
          "schema_version": 3,
          "solution": false
        },
        "id": "6qeWSXxcclax"
      },
      "outputs": [],
      "source": [
        "import math\n",
        "\n",
        "class Complex(object):\n",
        "\n",
        "    def __init__(self, r, i):\n",
        "        self.r = r # Real part\n",
        "        self.i = i # Imaginary part\n",
        "\n",
        "    def __add__(self, other):\n",
        "        return Complex(self.r + other.r, self.i + other.i)\n",
        "\n",
        "    def __sub__(self, other):\n",
        "        return Complex(self.r - other.r, self.i - other.i)\n",
        "\n",
        "    def __mul__(self, other):\n",
        "        return Complex((self.r * other.r - self.i * other.i),\n",
        "                       (self.r * other.i + self.i * other.r))\n",
        "\n",
        "    @property\n",
        "    def modulus_square(self):\n",
        "        return self.r * self.r + self.i * self.i\n",
        "\n",
        "    @property\n",
        "    def modulus(self):\n",
        "        return math.sqrt(self.modulus_square)\n",
        "\n",
        "    def inverse(self):\n",
        "        m = self.modulus_square # to cache it\n",
        "        return Complex(self.r / m, - self.i / m)\n",
        "\n",
        "    def __truediv__(self, other):\n",
        "        return self * other.inverse()\n",
        "\n",
        "    def __repr__(self):\n",
        "        \"\"\"This defines how to print a complex number.\"\"\"\n",
        "        if self.i < 0:\n",
        "            return \"{}-{}i\".format(self.r, -self.i)\n",
        "        return \"{}+{}i\".format(self.r, self.i)\n",
        "\n",
        "    def __eq__(self, other):\n",
        "        \"\"\"We even define equality\"\"\"\n",
        "        return self.r == other.r and self.i == other.i\n"
      ]
    },
    {
      "cell_type": "markdown",
      "metadata": {
        "deletable": false,
        "editable": false,
        "nbgrader": {
          "cell_type": "markdown",
          "checksum": "c58b24f2c25039a27aacac814fc24c8e",
          "grade": false,
          "grade_id": "cell-fac7b4ae57ee717",
          "locked": true,
          "schema_version": 3,
          "solution": false
        },
        "id": "kW6m-hJkclax"
      },
      "source": [
        "There are several ideas above: \n",
        "\n",
        "* To implement the mathematical operations `+`, `-`, `*`, `/`, between complex numbers, we implement the methods `__add__`, `__sub__`, `__mul__`, `__truediv__`.  You can find more information in the documentation for the [Python data model](https://docs.python.org/3/reference/datamodel.html). \n",
        "* Similarly, to define equality we define `__eq__`, and to define `<` we define `__lt__`. \n",
        "\n",
        "We will now do something similar to define fractions. "
      ]
    },
    {
      "cell_type": "markdown",
      "metadata": {
        "deletable": false,
        "editable": false,
        "nbgrader": {
          "cell_type": "markdown",
          "checksum": "3c470b4d5b835741d53d8ee1bfbecc24",
          "grade": false,
          "grade_id": "cell-1532cd0fb9ae33eb",
          "locked": true,
          "schema_version": 3,
          "solution": false
        },
        "id": "0UWPpmquclay"
      },
      "source": [
        "## Problem 1: Implement Fractions\n",
        "\n",
        "We want to define a class `Fraction` to represent a fraction, with integers as numerator and denominator.  \n",
        "Similarly to the `Complex` class above, you need to implement the methods necessary to define `+`, `-`, `*`, `/` among fractions, as well as equality. \n",
        "\n",
        "You will represent fractions in _normal form_, such that:\n",
        "* numerator and denumerator which do not have common factors (common divisors), except for 1 (of course), \n",
        "* the denominator is positive.\n",
        "\n",
        "For example, when you create a fraction via: \n",
        "\n",
        "    r = Fraction(8, 6)\n",
        "\n",
        "and then ask for the denominator, \n",
        "\n",
        "    r.numerator \n",
        "\n",
        "the result will be 4, and \n",
        "\n",
        "    r.denominator\n",
        "\n",
        "will be 3. \n",
        "\n",
        "To remove the common factors from a fraction $m/n$, simply compute the greatest common divisor $d = gcd(m, n)$ via Euclid's algorithm (see the chapter on recursion), and reduce the fraction to $(m/d) / (n/d)$.\n",
        "\n",
        "We advise you to reduce a fraction into normal form directly into the constructor of the class (the `__init__` method).  \n",
        "\n",
        "Here is the code for `Fraction`; we leave the interesting bits for you to do.\n"
      ]
    },
    {
      "cell_type": "code",
      "execution_count": null,
      "metadata": {
        "deletable": false,
        "nbgrader": {
          "cell_type": "code",
          "checksum": "e610074c468d0eaf8c6d6971d082aa34",
          "grade": false,
          "grade_id": "cell-796a797c822736bc",
          "locked": false,
          "schema_version": 3,
          "solution": true
        },
        "id": "9-yqrj9Oclay"
      },
      "outputs": [],
      "source": [
        "# Definition of Fraction class\n",
        "\n",
        "# Here is the gcd function, as it may well be useful to you.\n",
        "def gcd(m, n):\n",
        "    # This is the \"without loss of generality\" part.\n",
        "    m, n = (m, n) if m > n else (n, m)\n",
        "    m, n = abs(m), abs(n)\n",
        "    return m if n == 0 else gcd(m % n, n)\n",
        "\n",
        "\n",
        "class Fraction(object):\n",
        "\n",
        "    def __init__(self, numerator, denominator):\n",
        "        assert isinstance(numerator, int)\n",
        "        assert isinstance(denominator, int)\n",
        "        assert denominator != 0\n",
        "        # YOUR CODE HERE\n",
        "        self.numerator = numerator\n",
        "        self.denominator = denominator\n",
        "\n",
        "        self.negative_sign()\n",
        "        self.gcf()\n",
        "    \n",
        "    def __repr__(self):\n",
        "        \"\"\"Pretty print a fraction.\"\"\"\n",
        "        return \"{}/{}\".format(self.numerator, self.denominator)\n",
        "\n",
        "    def gcf(self):\n",
        "        div = gcd(self.numerator, self.denominator)\n",
        "        self.numerator = self.numerator // div\n",
        "        self.denominator = self.denominator // div\n",
        "\n",
        "\n",
        "    # adding fractions \n",
        "    def __add__(self, fraction):\n",
        "        nun = self.numerator * fraction.denominator + self.denominator * fraction.numerator\n",
        "        den = fraction.denominator * self.denominator\n",
        "        return Fraction(nun, den)\n",
        "        \n",
        "    # subtracting fractions\n",
        "    def __sub__(self, fraction):\n",
        "        nun = self.numerator * fraction.denominator - self.denominator * fraction.numerator\n",
        "        den = fraction.denominator * self.denominator\n",
        "        return Fraction(nun, den)\n",
        "        \n",
        "    # dealing with the inverse of fractions \n",
        "    def invert(fraction):\n",
        "        return Fraction(fraction.denominator, fraction.numerator)\n",
        "\n",
        "    # multiplying fractions\n",
        "    def __mul__(self, fraction):\n",
        "        return Fraction(self.numerator * fraction.numerator, self.denominator * fraction.denominator)\n",
        "\n",
        "    # dividing fractions\n",
        "    def __div__(self, fraction):\n",
        "        return Fraction(self.numerator * fraction.denominator, self.denominator * fraction.numerator)\n",
        "\n",
        "     # dividing fractions\n",
        "    def __truediv__(self, other):\n",
        "        n = self.numerator * other.denominator\n",
        "        d = self.denominator * other.numerator\n",
        "        return Fraction(n, d)\n",
        "\n",
        "    # dealing with negative signs\n",
        "    def negative_sign(self):\n",
        "        if self.denominator < 0:\n",
        "            self.numerator = -1 * self.numerator\n",
        "            self.denominator = -1 * self.denominator\n",
        "         \n",
        "    # dealing with operations\n",
        "    def __eq__(self, other):\n",
        "      \n",
        "        return self.numerator == other.numerator and self.denominator == other.denominator\n",
        "    # dealing with '<'\n",
        "    def __lt__(self, other):\n",
        "        return self.numerator * other.denominator\n",
        "\n",
        "    ## Here, implement the methods for +, -, *, /, =, and <.\n",
        "    ## Done quite at leisure, with spaces and all, this can be done in about\n",
        "    ## 25 lines of code.\n",
        "    # YOUR CODE HERE"
      ]
    },
    {
      "cell_type": "code",
      "execution_count": null,
      "metadata": {
        "deletable": false,
        "editable": false,
        "nbgrader": {
          "cell_type": "code",
          "checksum": "6b8bed4ae95fa482c5a9db87de351411",
          "grade": false,
          "grade_id": "cell-809051d2334debb",
          "locked": true,
          "schema_version": 3,
          "solution": false
        },
        "id": "7SUE81lmclaz",
        "colab": {
          "base_uri": "https://localhost:8080/"
        },
        "outputId": "fe3c4e05-9d69-4838-b0fe-1fdf2201caa9"
      },
      "outputs": [
        {
          "output_type": "stream",
          "name": "stdout",
          "text": [
            "4/3 + 2/5, = 26/15\n"
          ]
        },
        {
          "output_type": "execute_result",
          "data": {
            "text/plain": [
              "True"
            ]
          },
          "metadata": {},
          "execution_count": 4
        }
      ],
      "source": [
        "## Here is an example.  Feel free also to use this cell to test your code.\n",
        "\n",
        "f1 = Fraction(8, 6)\n",
        "f2 = Fraction(2, 5)\n",
        "\n",
        "print(f\"{f1} + {f2}, = {f1.__add__(f2)}\")\n",
        "\n",
        "Fraction(8, 6) == Fraction(4, 3)\n",
        "\n"
      ]
    },
    {
      "cell_type": "markdown",
      "metadata": {
        "deletable": false,
        "editable": false,
        "nbgrader": {
          "cell_type": "markdown",
          "checksum": "1939dcabeec00ca3b99ef16664f48ec6",
          "grade": false,
          "grade_id": "cell-c24ef6b6ae762736",
          "locked": true,
          "schema_version": 3,
          "solution": false
        },
        "id": "fdgmQXNFclaz"
      },
      "source": [
        "Here are some tests. "
      ]
    },
    {
      "cell_type": "code",
      "execution_count": null,
      "metadata": {
        "deletable": false,
        "editable": false,
        "nbgrader": {
          "cell_type": "code",
          "checksum": "3274788d65ce24747bc0a198b2c1ad48",
          "grade": false,
          "grade_id": "cell-e3553c6121ad5310",
          "locked": true,
          "schema_version": 3,
          "solution": false
        },
        "id": "BSC9z7yGclaz",
        "colab": {
          "base_uri": "https://localhost:8080/"
        },
        "outputId": "7a12f8c3-fa2e-429c-ab3c-3f281b3ecb64"
      },
      "outputs": [
        {
          "output_type": "stream",
          "name": "stdout",
          "text": [
            "4/3\n"
          ]
        }
      ],
      "source": [
        "## 5 points: creating a fraction.\n",
        "\n",
        "## First, let us check that you correctly put the fraction into normal form,\n",
        "## without common factor between numerator and denominator, and with a\n",
        "## positive denominator.\n",
        "\n",
        "f = Fraction(8, 6)\n",
        "print(f)\n",
        "assert f.numerator == 4 and f.denominator == 3\n",
        "\n",
        "f = Fraction(-8, 6)\n",
        "assert f.numerator == -4 and f.denominator == 3\n",
        "\n",
        "f = Fraction(8, -6)\n",
        "assert f.numerator == -4 and f.denominator == 3\n",
        "\n",
        "f = Fraction(-8, -6)\n",
        "assert f.numerator == 4 and f.denominator == 3\n",
        "\n",
        "f = Fraction(0, 10)\n",
        "assert f.numerator == 0 and f.denominator == 1\n"
      ]
    },
    {
      "cell_type": "code",
      "execution_count": null,
      "metadata": {
        "deletable": false,
        "editable": false,
        "nbgrader": {
          "cell_type": "code",
          "checksum": "c3b12c2d6abc27c5363b0942a7acd827",
          "grade": true,
          "grade_id": "cell-2cabfda268f93ed3",
          "locked": true,
          "points": 10,
          "schema_version": 3,
          "solution": false
        },
        "id": "35Z-mjONclaz",
        "colab": {
          "base_uri": "https://localhost:8080/"
        },
        "outputId": "0cd05293-e64d-45dd-a1ba-5ef733e86a39"
      },
      "outputs": [
        {
          "output_type": "stream",
          "name": "stdout",
          "text": [
            "31/12\n",
            "True\n"
          ]
        }
      ],
      "source": [
        "### 5 points: hidden tests for fraction creation.\n",
        "f = Fraction(8, 6) + Fraction(25, 20)\n",
        "print(f)\n",
        "\n",
        "print(f.numerator == 31 and f.denominator == 12)\n",
        "\n"
      ]
    },
    {
      "cell_type": "code",
      "execution_count": null,
      "metadata": {
        "deletable": false,
        "editable": false,
        "nbgrader": {
          "cell_type": "code",
          "checksum": "b45b23ec8d571c688a5c468f3014556f",
          "grade": false,
          "grade_id": "cell-f32d24e0d4a37c89",
          "locked": true,
          "schema_version": 3,
          "solution": false
        },
        "id": "zCusVgvscla0"
      },
      "outputs": [],
      "source": [
        "## 5 points: tests for fraction operations.\n",
        "\n",
        "f = Fraction(8, 6) + Fraction(25, 20)\n",
        "assert f.numerator == 31 and f.denominator == 12\n",
        "assert f == Fraction(31, 12)\n",
        "assert f == Fraction(62, 24)\n",
        "\n",
        "assert Fraction(6, 4) + Fraction(-8, 6) == Fraction(6, 4) - Fraction(8, 6)\n",
        "assert not (Fraction(6, 4) + Fraction(-8, 6) == Fraction(6, 5) - Fraction(8, 6))\n"
      ]
    },
    {
      "cell_type": "code",
      "execution_count": null,
      "metadata": {
        "deletable": false,
        "editable": false,
        "nbgrader": {
          "cell_type": "code",
          "checksum": "b73ea8f6a676104a46ab1004ad3b7c26",
          "grade": true,
          "grade_id": "cell-a79483c948d8dea7",
          "locked": true,
          "points": 10,
          "schema_version": 3,
          "solution": false
        },
        "id": "WyNfHwG9cla0"
      },
      "outputs": [],
      "source": [
        "## 5 points: Hidden tests for fraction operations.\n",
        "\n"
      ]
    },
    {
      "cell_type": "code",
      "execution_count": null,
      "metadata": {
        "deletable": false,
        "editable": false,
        "nbgrader": {
          "cell_type": "code",
          "checksum": "f2e437dd791274090c02e817d82e325d",
          "grade": false,
          "grade_id": "cell-2fe7cb917bd1370e",
          "locked": true,
          "schema_version": 3,
          "solution": false
        },
        "id": "fY4RrsHDcla0"
      },
      "outputs": [],
      "source": [
        "## 5 points: more tests for fractions operations.\n",
        "\n",
        "assert Fraction(3, 2) * Fraction(2, 3) == Fraction(1, 1)\n",
        "assert Fraction(3, 2) / Fraction(2, 3) == Fraction(9, 4)\n",
        "assert Fraction(3, 2) / Fraction(6, 4) == Fraction(1, 1)\n",
        "assert Fraction(32, 16) == Fraction(2, 1)\n",
        "assert not Fraction(33, 16) == Fraction(4, 2)\n"
      ]
    },
    {
      "cell_type": "code",
      "execution_count": null,
      "metadata": {
        "deletable": false,
        "editable": false,
        "nbgrader": {
          "cell_type": "code",
          "checksum": "483b95126e10d233a20d3174777e3acd",
          "grade": true,
          "grade_id": "cell-1a6123cf3a7681e7",
          "locked": true,
          "points": 10,
          "schema_version": 3,
          "solution": false
        },
        "id": "V-Gh3L3Ucla0"
      },
      "outputs": [],
      "source": [
        "## 5 points: More hidden tests for fraction operations.\n",
        "\n"
      ]
    },
    {
      "cell_type": "code",
      "execution_count": null,
      "metadata": {
        "deletable": false,
        "editable": false,
        "nbgrader": {
          "cell_type": "code",
          "checksum": "68077b0efc5d8935d5d569a14873d822",
          "grade": false,
          "grade_id": "cell-e50726563e5a6e39",
          "locked": true,
          "schema_version": 3,
          "solution": false
        },
        "id": "KAUH_gKFcla0"
      },
      "outputs": [],
      "source": [
        "## 5 points: tests for fraction comparison.\n",
        "\n",
        "assert Fraction(5, 7) < Fraction(5, 6)\n",
        "assert Fraction(-3, 2) < Fraction(0, 3)\n"
      ]
    },
    {
      "cell_type": "code",
      "execution_count": null,
      "metadata": {
        "deletable": false,
        "editable": false,
        "nbgrader": {
          "cell_type": "code",
          "checksum": "e5257c1c085fbdfffa6c3277e7fd9dc7",
          "grade": true,
          "grade_id": "cell-37b6f3021bc2e4f",
          "locked": true,
          "points": 10,
          "schema_version": 3,
          "solution": false
        },
        "id": "oBGhzssScla0"
      },
      "outputs": [],
      "source": [
        "## 5 points: hidden tests for fraction comparisons.\n",
        "\n"
      ]
    },
    {
      "cell_type": "code",
      "execution_count": null,
      "metadata": {
        "deletable": false,
        "editable": false,
        "nbgrader": {
          "cell_type": "code",
          "checksum": "1e8cd8117e3f0ca015c6d234720c0005",
          "grade": false,
          "grade_id": "cell-757537315015fd52",
          "locked": true,
          "schema_version": 3,
          "solution": false
        },
        "id": "e7BJU4bPcla1"
      },
      "outputs": [],
      "source": [
        "## 10 points: Let's check you leave things unchanged.\n",
        "\n",
        "a = Fraction(7, 8)\n",
        "b = Fraction(-4, 5)\n",
        "a + b\n",
        "a / b\n",
        "a < b\n",
        "a * b\n",
        "assert a == Fraction(7, 8)\n",
        "assert b == Fraction(-4, 5)\n"
      ]
    },
    {
      "cell_type": "code",
      "execution_count": null,
      "metadata": {
        "deletable": false,
        "editable": false,
        "nbgrader": {
          "cell_type": "code",
          "checksum": "0a1dcf7ae3fac74d4bdcd1a3d44e8446",
          "grade": false,
          "grade_id": "cell-ccb110e165af6595",
          "locked": true,
          "schema_version": 3,
          "solution": false
        },
        "id": "e3ftvuokcla1"
      },
      "outputs": [],
      "source": [
        "## 10 points: And finally, some random tests.\n",
        "\n",
        "import random\n",
        "for _ in range(1000):\n",
        "    a = Fraction(random.randint(-200, 200), random.randint(1, 100))\n",
        "    b = Fraction(random.randint(-200, 200), random.randint(1, 100))\n",
        "    c = Fraction(random.randint(-200, 200), random.randint(1, 100))\n",
        "    assert Fraction(-1, 1000) < (a - b) * (a - b)\n",
        "    assert (a - b) * (a + b) == a * a - b * b\n",
        "    z = Fraction(0, 1) # Zero, as a fraction.\n",
        "    if not ((a == z) or (b == z) or (c == z)):\n",
        "        assert (a / b) * b == (a / c) * c\n",
        "        assert (a / b) * (a / c) == (a * a) / (b * c)\n",
        "        assert (a / b) / (b / c) == (a * c) / (b * b)\n",
        "        assert (a * a * b * c) / (a * c) == a * b\n"
      ]
    },
    {
      "cell_type": "markdown",
      "metadata": {
        "deletable": false,
        "editable": false,
        "nbgrader": {
          "cell_type": "markdown",
          "checksum": "2221bca3652c665bd1ff834c2f660cde",
          "grade": false,
          "grade_id": "cell-795b663d55dfeb20",
          "locked": true,
          "schema_version": 3,
          "solution": false
        },
        "id": "UWTojpyJcla1"
      },
      "source": [
        "## Question 2: An Int class\n",
        "\n",
        "To define the value 7, you can write `Fraction(14, 2)` or `Fraction(7, 1)` (it's the same), but this is a bit inconvenient.  Write a subclass `Int` of `Fraction`, so that `Int(7)` generates a fraction with value 7. "
      ]
    },
    {
      "cell_type": "code",
      "execution_count": null,
      "metadata": {
        "deletable": false,
        "nbgrader": {
          "cell_type": "code",
          "checksum": "a64dcf911c360c439b939f107ebf283b",
          "grade": false,
          "grade_id": "cell-21aa45adc9bbc8fe",
          "locked": false,
          "schema_version": 3,
          "solution": true
        },
        "id": "fsYXIdBocla1"
      },
      "outputs": [],
      "source": [
        "class Int(Fraction):\n",
        "    def __init__(self, value):\n",
        "        assert isinstance(value, int)\n",
        "        self.numerator = value\n",
        "        self.denominator = 1\n",
        "\n",
        "    def __repr__(self):\n",
        "        return \"{}\".format(self.numerator)\n",
        "\n",
        "    # YOUR CODE HERE\n"
      ]
    },
    {
      "cell_type": "code",
      "execution_count": null,
      "metadata": {
        "deletable": false,
        "editable": false,
        "nbgrader": {
          "cell_type": "code",
          "checksum": "eec45407b8a407410386aa8aeebe9e7f",
          "grade": false,
          "grade_id": "cell-9b24af495aa89299",
          "locked": true,
          "schema_version": 3,
          "solution": false
        },
        "id": "aHeFctxTcla1"
      },
      "outputs": [],
      "source": [
        "## You can test your solution here.\n",
        "\n"
      ]
    },
    {
      "cell_type": "markdown",
      "metadata": {
        "deletable": false,
        "editable": false,
        "nbgrader": {
          "cell_type": "markdown",
          "checksum": "cbef4dbaf630406de2191e042bbdb8d5",
          "grade": false,
          "grade_id": "cell-b239ee2402b10b68",
          "locked": true,
          "schema_version": 3,
          "solution": false
        },
        "id": "OOZq_Dwbcla1"
      },
      "source": [
        "And now for some tests. "
      ]
    },
    {
      "cell_type": "code",
      "execution_count": null,
      "metadata": {
        "deletable": false,
        "editable": false,
        "nbgrader": {
          "cell_type": "code",
          "checksum": "c7ebb5de41e8b68371ad1c8c7b46f59c",
          "grade": false,
          "grade_id": "cell-95fdd909733f4e5d",
          "locked": true,
          "schema_version": 3,
          "solution": false
        },
        "id": "4k3EE5Opcla2"
      },
      "outputs": [],
      "source": [
        "## 5 points: tests for int class.\n",
        "\n",
        "assert Int(3) / Int(2) == Fraction(3, 2)\n",
        "assert Int(3) * Int(4) / (Int(5) + Int(2)) == Fraction(12, 7)\n",
        "assert Int(3) * Int(4) / (Int(5) + Int(1)) == Fraction(2, 1)\n"
      ]
    }
  ],
  "metadata": {
    "colab": {
      "name": "Homework_5_test.ipynb",
      "provenance": [],
      "collapsed_sections": []
    },
    "kernelspec": {
      "display_name": "Python 3 (ipykernel)",
      "language": "python",
      "name": "python3"
    },
    "language_info": {
      "codemirror_mode": {
        "name": "ipython",
        "version": 3
      },
      "file_extension": ".py",
      "mimetype": "text/x-python",
      "name": "python",
      "nbconvert_exporter": "python",
      "pygments_lexer": "ipython3",
      "version": "3.8.10"
    },
    "test_info": {
      "id": "6ff63c5258989883179bb4fb555dc9c6560fa10c"
    }
  },
  "nbformat": 4,
  "nbformat_minor": 0
}
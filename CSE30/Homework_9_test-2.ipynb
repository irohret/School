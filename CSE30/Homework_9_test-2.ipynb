{
  "cells": [
    {
      "cell_type": "markdown",
      "metadata": {
        "id": "wyLnHRWJO_IV"
      },
      "source": [
        "Before you turn this problem in, make sure everything runs as expected. First, **restart the kernel** (in the menubar, select Kernel$\\rightarrow$Restart) and then **run all cells** (in the menubar, select Cell$\\rightarrow$Run All).\n",
        "\n",
        "Make sure you fill in any place that says `YOUR CODE HERE` or \"YOUR ANSWER HERE\", as well as your name and collaborators below:"
      ]
    },
    {
      "cell_type": "code",
      "execution_count": 1,
      "metadata": {
        "id": "Y0fc7NaFO_IX"
      },
      "outputs": [],
      "source": [
        "NAME = \"\"\n",
        "COLLABORATORS = \"\""
      ]
    },
    {
      "cell_type": "markdown",
      "metadata": {
        "id": "fpTYL283O_IY"
      },
      "source": [
        "---"
      ]
    },
    {
      "cell_type": "markdown",
      "metadata": {
        "deletable": false,
        "editable": false,
        "nbgrader": {
          "cell_type": "markdown",
          "checksum": "149d872db629cb9af9265208a553ebbf",
          "grade": false,
          "grade_id": "cell-78d749ab82f9ad6c",
          "locked": true,
          "schema_version": 3,
          "solution": false
        },
        "id": "FCRAssksO_IY"
      },
      "source": [
        "# CSE 30 Winter 2022 - Homework 9\n",
        "\n",
        "\n",
        "### Instructions\n",
        "\n",
        "Please disregard the YOUR NAME and COLLABORATORS above.  They are put there atomatically by the grading tool.\n",
        "You can find instructions on how to work on a homework on Canvas.  Here is a short summary: \n",
        "\n",
        "### Submitting your work\n",
        "\n",
        "To submit your work: \n",
        "\n",
        "* First, click on \"Runtime > Restart and run all\", and check that you get no errors.  This enables you to catch any error you might have introduced, and not noticed, due to your running cells out of order. \n",
        "* Second, download the notebook in .ipynb format (File > Download .ipynb) and upload the .ipynb file to [this form](https://docs.google.com/forms/d/e/1FAIpQLSdGYnfVzHtzq5gtNDJu9zN1ysB2-OMi4-9Mfk5sayovAWpOgQ/viewform?usp=sf_link). \n",
        "\n",
        "You can submit multiple times; the last submission before the deadline is the one that counts. This homework is due by **11:59pm on Wednesday 9 February, 2022**.\n",
        "\n",
        "### Homework format\n",
        "\n",
        "For each question in this notebook, there is: \n",
        "\n",
        "* A text description of the problem. \n",
        "* One or more places where you have to insert your solution.  You need to complete every place marked: \n",
        "\n",
        "    `# YOUR CODE HERE`\n",
        "    \n",
        "    and you should not modify any other place. \n",
        "* One or more test cells.  Each cell is worth some number of points, marked at the top.  You should not modify these tests cells.  The tests pass if no error is printed out: when there is a statement that says, for instance: \n",
        "\n",
        "    `assert x == 2`\n",
        "    \n",
        "    then the test passes if `x` has value 2, and fails otherwise.  You can insert a `print(x)` (for this case!) somewhere if you want to debug your work; it is up to you.  \n",
        "    \n",
        "### Notes:\n",
        "\n",
        "* Your code will be tested both according to the tests you can see (the `assert` statements you can see), _and_ additional tests.  This prevents you from hard-coding the answer to the particular questions posed.  Your code should solve the _general_ intended case, not hard-code the particular answer for the values used in the tests. \n",
        "\n",
        "* **Please do not delete or add cells!** The test is autograded, and if you modify the test by adding or deleting cells, even if you re-add cells you delete, you may not receive credit. \n",
        "\n",
        "* **Please do not import modules that are not part of the [standard library](https://docs.python.org/3/library/index.html).** You do not need any, and they will likely not available in the grading environment, leading your code to fail. \n",
        "\n",
        "* **If you are inactive too long, your notebook might get disconnected from the back-end.** Your work is never lost, but you have to re-run all the cells before you continue. \n",
        "\n",
        "* You can write out print statements in your code, to help you test/debug it. But remember: the code is graded on the basis of what it outputs or returns, not on the basis of what it prints.\n",
        "\n",
        "* **TAs and tutors have access to this notebook,** so if you let them know you need their help, they can look at your work and give you advice. \n",
        "\n",
        "### Grading\n",
        "\n",
        "Each cell where there are tests is worth a certain number of points.  You get the points allocated to a cell only if you pass _all_ the tests in the cell. \n",
        "\n",
        "The tests in a cell include both the tests you can see, and other, similar, tests that are used for grading only.  Therefore, you cannot hard-code the solutions: you really have to solve the essence of the problem, to receive the points in a cell. \n",
        "\n",
        "### Code of Conduct\n",
        "\n",
        "* Work on the test yourself, alone. \n",
        "* You can search documentation on the web, on sites such as the Python documentation sites, Stackoverflow, and similar, and you can use the results. \n",
        "* You cannot share your work with others or solicit their help.\n"
      ]
    },
    {
      "cell_type": "markdown",
      "metadata": {
        "deletable": false,
        "editable": false,
        "nbgrader": {
          "cell_type": "markdown",
          "checksum": "a60b1c4acb54e86a36ca580377e759a7",
          "grade": false,
          "grade_id": "cell-e8f68f081688fa94",
          "locked": true,
          "schema_version": 3,
          "solution": false
        },
        "id": "KoFZIaNQO_IZ"
      },
      "source": [
        "We will develop a data structure to represent arithmetic expressions containing variables, such as $3 + 4$ or $2 + x * (1 - y)$.  \n",
        "\n",
        "What is an expression?  An expression consists of one of these: \n",
        "\n",
        "\n",
        "1. A number\n",
        "2. A variable\n",
        "3. If $e_1$ and $e_2$ are expressions, then $e_1 + e_2$, $e_1 - e_2$, $e_1 * e_2$, and $e_1 / e_2$ are also expressions. \n",
        "\n",
        "Formally, the set of expressions is the _least_ set constructed according to the rules above. \n",
        "\n",
        "Thus, an expression can be either a constant, representing numbers and variables, or a composite expression, consisting of an operator, a left expression, and a right expression.  \n"
      ]
    },
    {
      "cell_type": "markdown",
      "metadata": {
        "deletable": false,
        "editable": false,
        "nbgrader": {
          "cell_type": "markdown",
          "checksum": "42f1fc39d01930020114c5570a73aac3",
          "grade": false,
          "grade_id": "cell-1c7d22158da1453c",
          "locked": true,
          "schema_version": 3,
          "solution": false
        },
        "id": "e61jZ0OGO_Ia"
      },
      "source": [
        "There are (at least) two ways of representing expressions. The simplest way is to represent expressions as trees, and define operations on them. \n",
        "The more sophisticated way consists in representing expressions via classes: there will be one class for variable and constants, and one class representing composite expressions; both of these classes will be subclasses of a generic \"expression\" class. \n",
        "\n",
        "In this chapter, we will represent expression as trees, to gain experience with writing recursive functions on trees; in the next chapter, we will show how to represent them more elegantly as classes."
      ]
    },
    {
      "cell_type": "markdown",
      "metadata": {
        "deletable": false,
        "editable": false,
        "nbgrader": {
          "cell_type": "markdown",
          "checksum": "cff1debc368916d3767b9605f0139d81",
          "grade": false,
          "grade_id": "cell-88c40ae46aec148b",
          "locked": true,
          "schema_version": 3,
          "solution": false
        },
        "id": "QGjNwY83O_Ia"
      },
      "source": [
        "We will represent expressions as trees.  A number will be represented via a number; a variable via a string, and the expression $e_1 \\odot e_2$ via the tuple $(\\odot, e_1, e_2)$, for $\\odot \\in \\{+, -, *, / \\}$.\n",
        "\n",
        "For example, we will represent $2 * (x + 1)$ via:\n",
        "\n",
        "    ('*', 2, ('+', 'x', 1))"
      ]
    },
    {
      "cell_type": "code",
      "execution_count": 2,
      "metadata": {
        "deletable": false,
        "editable": false,
        "nbgrader": {
          "cell_type": "code",
          "checksum": "f8e2eff2b0048742af2dfef3e0fb0b5f",
          "grade": false,
          "grade_id": "cell-733e891de40a0694",
          "locked": true,
          "schema_version": 3,
          "solution": false
        },
        "id": "8AqXvGnjO_Ia"
      },
      "outputs": [],
      "source": [
        "e = ('*', 2, ('+', 'x', 1))\n"
      ]
    },
    {
      "cell_type": "markdown",
      "metadata": {
        "deletable": false,
        "editable": false,
        "nbgrader": {
          "cell_type": "markdown",
          "checksum": "49e407a4569b540797e08aa7ed2ea0f2",
          "grade": false,
          "grade_id": "cell-cde10cef5baf48c5",
          "locked": true,
          "schema_version": 3,
          "solution": false
        },
        "id": "8N9gDVNnO_Ib"
      },
      "source": [
        "In particular, we will consider expressions built out of the four arithmetic operators `\"+\"`, `\"-\"`, `\"*\"`, `\"/\"`. "
      ]
    },
    {
      "cell_type": "markdown",
      "metadata": {
        "deletable": false,
        "editable": false,
        "nbgrader": {
          "cell_type": "markdown",
          "checksum": "15e510a9486229f9ecf79c3398f785b5",
          "grade": false,
          "grade_id": "cell-d85d0d004ad791a2",
          "locked": true,
          "schema_version": 3,
          "solution": false
        },
        "id": "SEacfVweO_Ib"
      },
      "source": [
        "### A compute function\n",
        "\n",
        "Let us define a function compute() that takes one such expression, and returns the expression obtained by performing all possible numerical computation.\n",
        "We consider first the simple case of an expression where the only operators that can appear are `+` and `-`, and where there are no variables.  "
      ]
    },
    {
      "cell_type": "markdown",
      "metadata": {
        "deletable": false,
        "editable": false,
        "nbgrader": {
          "cell_type": "markdown",
          "checksum": "17acc263be0c4f277568f8d76b768006",
          "grade": false,
          "grade_id": "cell-4bf6418d13936e10",
          "locked": true,
          "schema_version": 3,
          "solution": false
        },
        "id": "0GN8gZOKO_Ic"
      },
      "source": [
        "Let us create an exception to raise when we cannot interpret an expression. "
      ]
    },
    {
      "cell_type": "code",
      "execution_count": 3,
      "metadata": {
        "deletable": false,
        "editable": false,
        "nbgrader": {
          "cell_type": "code",
          "checksum": "38e57352800f71a32ca73a255a5b91fc",
          "grade": false,
          "grade_id": "cell-ff569cf448dad1e4",
          "locked": true,
          "schema_version": 3,
          "solution": false
        },
        "id": "3-0DPjC1O_Ic"
      },
      "outputs": [],
      "source": [
        "class IllegalOperator(Exception):\n",
        "    pass\n"
      ]
    },
    {
      "cell_type": "markdown",
      "metadata": {
        "deletable": false,
        "editable": false,
        "nbgrader": {
          "cell_type": "markdown",
          "checksum": "87f2e3663bc411ba7ebe6a27cf9bcec2",
          "grade": false,
          "grade_id": "cell-c84c2def4f91407a",
          "locked": true,
          "schema_version": 3,
          "solution": false
        },
        "id": "y1xqt3ClO_Ic"
      },
      "source": [
        "Let us define a helper function `calc`, which takes as argument an operator and two numbers, and computes the required operation.  It will make it easier to write the rest of the code. "
      ]
    },
    {
      "cell_type": "code",
      "execution_count": 4,
      "metadata": {
        "deletable": false,
        "editable": false,
        "nbgrader": {
          "cell_type": "code",
          "checksum": "8816a3e715b983345f537afd29c547f3",
          "grade": false,
          "grade_id": "cell-26593799886b72d4",
          "locked": true,
          "schema_version": 3,
          "solution": false
        },
        "id": "csjkGoaNO_Ic"
      },
      "outputs": [],
      "source": [
        "def calc(op, left, right):\n",
        "    if op == \"+\":\n",
        "        return left + right\n",
        "    elif op == \"-\":\n",
        "        return left - right\n",
        "    elif op == \"*\":\n",
        "        return left * right\n",
        "    elif op == \"/\":\n",
        "        return left / right\n",
        "    else:\n",
        "        raise IllegalOperator(op)\n"
      ]
    },
    {
      "cell_type": "markdown",
      "metadata": {
        "deletable": false,
        "editable": false,
        "nbgrader": {
          "cell_type": "markdown",
          "checksum": "4e71684606934531c4e64850399312a3",
          "grade": false,
          "grade_id": "cell-5c69ae0ebe0a157c",
          "locked": true,
          "schema_version": 3,
          "solution": false
        },
        "id": "01b-Nv2AO_Ic"
      },
      "source": [
        "With this, we can write our compute method as follows. "
      ]
    },
    {
      "cell_type": "code",
      "execution_count": 5,
      "metadata": {
        "deletable": false,
        "editable": false,
        "nbgrader": {
          "cell_type": "code",
          "checksum": "b397a633d75c1ea07ac95ca6373d041b",
          "grade": false,
          "grade_id": "cell-2aad465f0b0725e6",
          "locked": true,
          "schema_version": 3,
          "solution": false
        },
        "id": "-6CgBddzO_Ic"
      },
      "outputs": [],
      "source": [
        "def compute(e):\n",
        "    if isinstance(e, tuple):\n",
        "        # We have an expression.\n",
        "        op, l, r = e\n",
        "        # We compute the subexpressions.\n",
        "        ll = compute(l)\n",
        "        rr = compute(r)\n",
        "        # And on the basis of those, the whole expression.\n",
        "        return calc(op, ll, rr)\n",
        "    else:\n",
        "        # base expression; just return the number.\n",
        "        return e\n"
      ]
    },
    {
      "cell_type": "code",
      "execution_count": 6,
      "metadata": {
        "deletable": false,
        "editable": false,
        "nbgrader": {
          "cell_type": "code",
          "checksum": "23459ba9662f6035d958c45da1604d9a",
          "grade": false,
          "grade_id": "cell-f59f1e343b49abbf",
          "locked": true,
          "schema_version": 3,
          "solution": false
        },
        "colab": {
          "base_uri": "https://localhost:8080/"
        },
        "id": "jqSrS-4bO_Id",
        "outputId": "4791d2bc-7640-486c-c44d-b7c0791d2475"
      },
      "outputs": [
        {
          "output_type": "execute_result",
          "data": {
            "text/plain": [
              "9"
            ]
          },
          "metadata": {},
          "execution_count": 6
        }
      ],
      "source": [
        "compute((\"+\", 4, 5))\n"
      ]
    },
    {
      "cell_type": "code",
      "execution_count": 7,
      "metadata": {
        "deletable": false,
        "editable": false,
        "nbgrader": {
          "cell_type": "code",
          "checksum": "ee5b89994d4fe0db4bdbcd30b7c1c30e",
          "grade": false,
          "grade_id": "cell-7d16f6c6a43a2a31",
          "locked": true,
          "schema_version": 3,
          "solution": false
        },
        "colab": {
          "base_uri": "https://localhost:8080/"
        },
        "id": "mIhR4-FHO_Id",
        "outputId": "c0ba5e80-2650-447f-8cce-0e4fbb492166"
      },
      "outputs": [
        {
          "output_type": "execute_result",
          "data": {
            "text/plain": [
              "15"
            ]
          },
          "metadata": {},
          "execution_count": 7
        }
      ],
      "source": [
        "compute((\"+\", (\"-\", 3, 1), (\"+\", 4, 9)))\n"
      ]
    },
    {
      "cell_type": "markdown",
      "metadata": {
        "deletable": false,
        "editable": false,
        "nbgrader": {
          "cell_type": "markdown",
          "checksum": "7091ab4673fe1d542eab56efdfc31b84",
          "grade": false,
          "grade_id": "cell-c575b62c80c1653",
          "locked": true,
          "schema_version": 3,
          "solution": false
        },
        "id": "nZxgP1NLO_Id"
      },
      "source": [
        "## Expressions with variables"
      ]
    },
    {
      "cell_type": "markdown",
      "metadata": {
        "deletable": false,
        "editable": false,
        "nbgrader": {
          "cell_type": "markdown",
          "checksum": "5752488a0577a1083a0545f932edfba5",
          "grade": false,
          "grade_id": "cell-130baf3f17d601bd",
          "locked": true,
          "schema_version": 3,
          "solution": false
        },
        "id": "YMG1PTWdO_Id"
      },
      "source": [
        "If an expression can have variables, we can distinguish three types of expressions: \n",
        "\n",
        "* Numbers \n",
        "* Variables\n",
        "* Composite expressions. \n",
        "\n",
        "To facilitate writing code, let us define for you three helper functions that tell us the type of an expression. "
      ]
    },
    {
      "cell_type": "code",
      "execution_count": 8,
      "metadata": {
        "deletable": false,
        "editable": false,
        "nbgrader": {
          "cell_type": "code",
          "checksum": "01c10b9a3662f17cb25d05e84a79f017",
          "grade": false,
          "grade_id": "cell-17515c7da977d88b",
          "locked": true,
          "schema_version": 3,
          "solution": false
        },
        "id": "G1pzCboFO_Id"
      },
      "outputs": [],
      "source": [
        "from numbers import Number # The mother class of all numbers.\n",
        "\n",
        "def isnumber(e):\n",
        "    return isinstance(e, Number)\n",
        "\n",
        "def isvariable(e):\n",
        "    return isinstance(e, str)\n",
        "\n",
        "def iscomposite(e):\n",
        "    return isinstance(e, tuple)\n"
      ]
    },
    {
      "cell_type": "markdown",
      "metadata": {
        "deletable": false,
        "editable": false,
        "nbgrader": {
          "cell_type": "markdown",
          "checksum": "ff04422115c1b0d064b90ddc8df4a24e",
          "grade": false,
          "grade_id": "cell-e2a86137df9f88e2",
          "locked": true,
          "schema_version": 3,
          "solution": false
        },
        "id": "Lr2wUZl8O_Ie"
      },
      "source": [
        "The idea we use to simplify an expression is the following: \n",
        "\n",
        "* If the expression is a Number, you return a number: it's already simplified. \n",
        "* If the expression is a variable, you return the variable (that is, the expression unchanged); there is nothing to be done. \n",
        "* If the expression is an operation, such as \"+\", \"-\", ..., then you consider the right and left children, and you reason: \n",
        "    * If all the two children are numbers, then you can compute the operation and return the result. \n",
        "    * Otherwise, again, there is nothing that can be done, and you return the expression unchanged. \n"
      ]
    },
    {
      "cell_type": "code",
      "execution_count": 9,
      "metadata": {
        "deletable": false,
        "editable": false,
        "nbgrader": {
          "cell_type": "code",
          "checksum": "fb242ff08c57276bc4d91b24b2e77aef",
          "grade": false,
          "grade_id": "cell-cc2cbdeed1ac2c7f",
          "locked": true,
          "schema_version": 3,
          "solution": false
        },
        "id": "nVftGdnaO_Ie"
      },
      "outputs": [],
      "source": [
        "def simplify(e):\n",
        "    if isinstance(e, tuple):\n",
        "        op, l, r = e\n",
        "        # We simplify the children expressions.\n",
        "        ll = simplify(l)\n",
        "        rr = simplify(r)\n",
        "        # We compute the expression if we can.\n",
        "        if isnumber(ll) and isnumber(rr):\n",
        "            return calc(op, ll, rr)\n",
        "        else:\n",
        "            return (op, ll, rr)\n",
        "    else:\n",
        "        # Leaf. No simplification is possible.\n",
        "        return e\n"
      ]
    },
    {
      "cell_type": "markdown",
      "metadata": {
        "deletable": false,
        "editable": false,
        "nbgrader": {
          "cell_type": "markdown",
          "checksum": "46bc19d4755cb3ccc35f0f49c79bc253",
          "grade": false,
          "grade_id": "cell-b55fdabec998824f",
          "locked": true,
          "schema_version": 3,
          "solution": false
        },
        "id": "CXW_uC-tO_Ie"
      },
      "source": [
        "Let's see how this works."
      ]
    },
    {
      "cell_type": "code",
      "execution_count": 10,
      "metadata": {
        "deletable": false,
        "editable": false,
        "nbgrader": {
          "cell_type": "code",
          "checksum": "57c9590f2022601397c386ad98fed25b",
          "grade": false,
          "grade_id": "cell-29aa78650054bdf0",
          "locked": true,
          "schema_version": 3,
          "solution": false
        },
        "colab": {
          "base_uri": "https://localhost:8080/"
        },
        "id": "DSFk5i12O_Ie",
        "outputId": "c25b500d-1325-40be-f4dd-7da9cb2f292e"
      },
      "outputs": [
        {
          "output_type": "execute_result",
          "data": {
            "text/plain": [
              "3"
            ]
          },
          "metadata": {},
          "execution_count": 10
        }
      ],
      "source": [
        "simplify(3)\n"
      ]
    },
    {
      "cell_type": "code",
      "execution_count": 11,
      "metadata": {
        "deletable": false,
        "editable": false,
        "nbgrader": {
          "cell_type": "code",
          "checksum": "2eb6ed41d6eb4058fa6ba989272f82a3",
          "grade": false,
          "grade_id": "cell-d2b96d1f9bf68bee",
          "locked": true,
          "schema_version": 3,
          "solution": false
        },
        "colab": {
          "base_uri": "https://localhost:8080/"
        },
        "id": "tLVvlHWqO_Ie",
        "outputId": "6941e0dc-a27d-4e63-a8cb-91ca97a42dd5"
      },
      "outputs": [
        {
          "output_type": "execute_result",
          "data": {
            "text/plain": [
              "('+', 'x', 1)"
            ]
          },
          "metadata": {},
          "execution_count": 11
        }
      ],
      "source": [
        "simplify((\"+\", \"x\", 1))\n"
      ]
    },
    {
      "cell_type": "markdown",
      "metadata": {
        "deletable": false,
        "editable": false,
        "nbgrader": {
          "cell_type": "markdown",
          "checksum": "c5188779f0d15b68c1da6a1cbb26fd3e",
          "grade": false,
          "grade_id": "cell-ef962b2f7f414a8e",
          "locked": true,
          "schema_version": 3,
          "solution": false
        },
        "id": "NifO1o3gO_Ie"
      },
      "source": [
        "Yes, there was nothing we could simplify.  Let's try now with something we can simplify: "
      ]
    },
    {
      "cell_type": "code",
      "execution_count": 12,
      "metadata": {
        "deletable": false,
        "editable": false,
        "nbgrader": {
          "cell_type": "code",
          "checksum": "2d6dab96bc971a62ee3b429fb51a8036",
          "grade": false,
          "grade_id": "cell-6d43a7a93f8c7e17",
          "locked": true,
          "schema_version": 3,
          "solution": false
        },
        "colab": {
          "base_uri": "https://localhost:8080/"
        },
        "id": "HvWSdvOLO_Ie",
        "outputId": "5b4af66c-024e-43f5-e265-5aa509179dcf"
      },
      "outputs": [
        {
          "output_type": "execute_result",
          "data": {
            "text/plain": [
              "1"
            ]
          },
          "metadata": {},
          "execution_count": 12
        }
      ],
      "source": [
        "simplify(('-', 5, 4))\n"
      ]
    },
    {
      "cell_type": "markdown",
      "metadata": {
        "deletable": false,
        "editable": false,
        "nbgrader": {
          "cell_type": "markdown",
          "checksum": "0d6b366b7de249b4e605d59196d69087",
          "grade": false,
          "grade_id": "cell-20626f67c5be0c2a",
          "locked": true,
          "schema_version": 3,
          "solution": false
        },
        "id": "1synnGfUO_If"
      },
      "source": [
        "Can we simplify bigger expressions? "
      ]
    },
    {
      "cell_type": "code",
      "execution_count": 13,
      "metadata": {
        "deletable": false,
        "editable": false,
        "nbgrader": {
          "cell_type": "code",
          "checksum": "0358cc9ff401f3f3b1bb2be2e1094924",
          "grade": false,
          "grade_id": "cell-cd4df320b5ee2d1a",
          "locked": true,
          "schema_version": 3,
          "solution": false
        },
        "colab": {
          "base_uri": "https://localhost:8080/"
        },
        "id": "fpo0uW2yO_If",
        "outputId": "e0066b9d-ff1f-44c0-dfd1-641aa4ea76f6"
      },
      "outputs": [
        {
          "output_type": "execute_result",
          "data": {
            "text/plain": [
              "11"
            ]
          },
          "metadata": {},
          "execution_count": 13
        }
      ],
      "source": [
        "simplify( ('+', 6, ('-', 7, 2)) )\n"
      ]
    },
    {
      "cell_type": "markdown",
      "metadata": {
        "deletable": false,
        "editable": false,
        "nbgrader": {
          "cell_type": "markdown",
          "checksum": "681217107276a4ffc0a924205d3f26a0",
          "grade": false,
          "grade_id": "cell-b8a7111c553f021b",
          "locked": true,
          "schema_version": 3,
          "solution": false
        },
        "id": "4T8kOt6GO_If"
      },
      "source": [
        "## Question 1: Evaluating expressions with respect to a variable valuation.\n",
        "\n",
        "The function `simplify` above can perform all numerical computations, but stops whenever it encounters a variable. It cannot do any better, in fact, because it does not know the values of variables. \n",
        "\n",
        "If we specify values for variables, we can then use those values in the computation, replacing each variable whose value is specified with the value itself. \n",
        "\n",
        "A _variable valuation_ is a mapping from variables to their values; we can represent it simply as a dictionary associating to each variable a number:"
      ]
    },
    {
      "cell_type": "code",
      "execution_count": 14,
      "metadata": {
        "deletable": false,
        "editable": false,
        "nbgrader": {
          "cell_type": "code",
          "checksum": "670b55600ad6d7d3ae15909af37a2db0",
          "grade": false,
          "grade_id": "cell-cdb2011f9b3a2486",
          "locked": true,
          "schema_version": 3,
          "solution": false
        },
        "id": "gIsPDrM5O_If"
      },
      "outputs": [],
      "source": [
        "varval = {'x': 3, 'y': 8}\n"
      ]
    },
    {
      "cell_type": "markdown",
      "metadata": {
        "deletable": false,
        "editable": false,
        "nbgrader": {
          "cell_type": "markdown",
          "checksum": "5c2593c9ab4846a2aadb92f46b61444e",
          "grade": false,
          "grade_id": "cell-4e75971834873849",
          "locked": true,
          "schema_version": 3,
          "solution": false
        },
        "id": "xBF1jSyXO_If"
      },
      "source": [
        "You can extend the evaluation function to take as input a variable valuation.  The idea is that, when you find a variable, you try to see whether its value is specified in the variable valuation.  If it is, you can replace the variable with the value, and carry on.  If it is not, you leave the variable as it is, since you cannot evaluate it. \n",
        "\n",
        "To check if a variable (a string) `s` is in a dictionary `d`, you can test\n",
        "\n",
        "    s in d\n",
        "\n",
        "and to get the value, in case it is present, you can just do `d[s]` of course.  We let you develop the code. "
      ]
    },
    {
      "cell_type": "code",
      "execution_count": 15,
      "metadata": {
        "deletable": false,
        "nbgrader": {
          "cell_type": "code",
          "checksum": "60d4afe5ac23eda88f0a4ff7b5cafda4",
          "grade": false,
          "grade_id": "cell-7acc24708cc5477f",
          "locked": false,
          "schema_version": 3,
          "solution": true
        },
        "id": "PQY9SiuNO_If"
      },
      "outputs": [],
      "source": [
        "### Evaluating an expression with respect to a variable evaluation\n",
        "'''\n",
        "from numbers import Number # The mother class of all numbers.\n",
        "\n",
        "def isnumber(e):\n",
        "    return isinstance(e, Number)\n",
        "\n",
        "def isvariable(e):\n",
        "    return isinstance(e, str)\n",
        "\n",
        "def iscomposite(e):\n",
        "    return isinstance(e, tuple)\n",
        "'''\n",
        "# see if the variables from expression e are given values in varval, \n",
        "# and then substitute those values back into e\n",
        "def compute(e, varval={}):\n",
        "    # YOUR CODE HERE\n",
        "    if isinstance(e, tuple):\n",
        "        # We have an expression.\n",
        "        op, l, r = e\n",
        "        # We compute the subexpressions.\n",
        "        #ll = compute(l, varval)\n",
        "        #rr = compute(r, varval)\n",
        "        w = op, compute(l, varval), compute(r, varval)\n",
        "        \n",
        "        # And on the basis of those, the whole expression.\n",
        "        return simplify(w)\n",
        "\n",
        "    elif e in varval:\n",
        "        return varval[e]\n",
        "    else:\n",
        "        # base expression; just return the number.\n",
        "        return e\n",
        "    \n",
        "    \n",
        "\n"
      ]
    },
    {
      "cell_type": "code",
      "source": [
        ""
      ],
      "metadata": {
        "id": "kyCrEsrruM13"
      },
      "execution_count": 15,
      "outputs": []
    },
    {
      "cell_type": "markdown",
      "metadata": {
        "deletable": false,
        "editable": false,
        "nbgrader": {
          "cell_type": "markdown",
          "checksum": "9cb84e6c366dffb11c04f8c15c261cca",
          "grade": false,
          "grade_id": "cell-68100ae57622cbce",
          "locked": true,
          "schema_version": 3,
          "solution": false
        },
        "id": "udbmAhOvO_If"
      },
      "source": [
        "Let us play with this. "
      ]
    },
    {
      "cell_type": "code",
      "execution_count": 16,
      "metadata": {
        "deletable": false,
        "editable": false,
        "nbgrader": {
          "cell_type": "code",
          "checksum": "c0708ace8d2bd6219290cd709a3eb274",
          "grade": false,
          "grade_id": "cell-f98bb3dfac870aa7",
          "locked": true,
          "schema_version": 3,
          "solution": false
        },
        "colab": {
          "base_uri": "https://localhost:8080/"
        },
        "id": "pyljfcHVO_If",
        "outputId": "2447e384-ba3b-48ea-bc91-f7ddf56aaeee"
      },
      "outputs": [
        {
          "output_type": "stream",
          "name": "stdout",
          "text": [
            "('*', 2, ('+', 'x', 1))\n",
            "14\n"
          ]
        }
      ],
      "source": [
        "## You can modify this cell to test your code.\n",
        "\n",
        "e = ('*', 2, ('+', 'x', ('-', 3, 2)))\n",
        "print(compute(e))\n",
        "print(compute(e, varval={'x': 6}))\n"
      ]
    },
    {
      "cell_type": "markdown",
      "metadata": {
        "deletable": false,
        "editable": false,
        "nbgrader": {
          "cell_type": "markdown",
          "checksum": "3a2d83c39bdfffd97a0b1b7a2d8fdba5",
          "grade": false,
          "grade_id": "cell-8fec5a72474b27f9",
          "locked": true,
          "schema_version": 3,
          "solution": false
        },
        "id": "j7gbMl-dO_Ig"
      },
      "source": [
        "If we provide the values for only some of the variables, the compute function defined above, will plug in the values for those variables and perform all computations possible.  Of course, if the expression contains variables for which the valuation does not specify a value, the resulting expression will still contain those variables: it will not be simply a number.  In computer science, evaluating an expression as far as possible using the values for a subset of the variables is knwon as _partial evaluation_."
      ]
    },
    {
      "cell_type": "code",
      "execution_count": 17,
      "metadata": {
        "deletable": false,
        "editable": false,
        "nbgrader": {
          "cell_type": "code",
          "checksum": "4f203a9adef3f3acbbdcd396e7c5598c",
          "grade": false,
          "grade_id": "cell-e915334a12a70a2b",
          "locked": true,
          "schema_version": 3,
          "solution": false
        },
        "id": "r0L9doYfO_Ig"
      },
      "outputs": [],
      "source": [
        "## Tests for compute.  10 points.\n",
        "\n",
        "e = 'x'\n",
        "assert compute(e) == 'x'\n",
        "assert compute(e, varval={'x': 3}) == 3\n",
        "\n",
        "e = ('*', 2, ('+', 'x', ('-', 3, 2)))\n",
        "assert compute(e) == ('*', 2, ('+', 'x', 1))\n",
        "assert compute(e, varval={'x': 6}) == 14\n",
        "assert compute(e, varval={'y': 10}) == ('*', 2, ('+', 'x', 1))\n",
        "\n",
        "e = ('+', ('-', 'yy', 3), ('*', 'x', 4))\n",
        "assert compute(e, varval={'x': 2}) == ('+', ('-', 'yy', 3), 8)\n",
        "assert compute(e, varval={'yy': 3}) == ('+', 0, ('*', 'x', 4))\n",
        "assert compute(e, varval={'x': 2, 'yy': 3}) == 8\n"
      ]
    },
    {
      "cell_type": "code",
      "execution_count": 18,
      "metadata": {
        "deletable": false,
        "editable": false,
        "nbgrader": {
          "cell_type": "code",
          "checksum": "898ba1f8a7b32ba52674e464f600c658",
          "grade": true,
          "grade_id": "cell-ce16b5309607ccc1",
          "locked": true,
          "points": 10,
          "schema_version": 3,
          "solution": false
        },
        "id": "fh4Apk5FO_Ig"
      },
      "outputs": [],
      "source": [
        "### Hidden tests for compute.  10 points.\n",
        "\n"
      ]
    },
    {
      "cell_type": "markdown",
      "metadata": {
        "deletable": false,
        "editable": false,
        "nbgrader": {
          "cell_type": "markdown",
          "checksum": "e8c953fe24688d676aa2a649b1a15eb0",
          "grade": false,
          "grade_id": "cell-3650978fb44f016",
          "locked": true,
          "schema_version": 3,
          "solution": false
        },
        "id": "U2n-kHkHO_Ig"
      },
      "source": [
        "## When are two expressions equal? \n",
        "\n",
        "> _Or: it's better to be lucky than to be smart._\n",
        "\n",
        "> _Or: if you don't know how to do it right, do it at random._ \n",
        "\n",
        "> _Or: the power of randomization._"
      ]
    },
    {
      "cell_type": "markdown",
      "metadata": {
        "deletable": false,
        "editable": false,
        "nbgrader": {
          "cell_type": "markdown",
          "checksum": "5e05e646ab1818c513703ebfd47cdcf2",
          "grade": false,
          "grade_id": "cell-fb577912b435ff65",
          "locked": true,
          "schema_version": 3,
          "solution": false
        },
        "id": "U261SjWbO_Ig"
      },
      "source": [
        "We now consider the following problem: given two expressions $e$ and $f$, how can we decide whether they are equal in value, that is, whether they yield always the same value for all values of the variables? \n",
        "\n",
        "This _\"value equality\"_ is a different notion from the structural equality we defined before.  For instance, the two expressions `(\"+\", \"x\", 1)` and `(\"-\", (*, 2, \"x\"), \"x\")` are not structurally equal, but they are equal in values.  \n",
        "\n",
        "How can we test for value equality of expressions?  There are two ways: the high road, and the pirate road. Of course, we take the pirate road.  \n",
        "\n",
        "The high-road approach consists in trying to demonstrate, in some way, that the two expressions are equal.  One way of doing so would be to define a set of [rewriting rules](https://en.wikipedia.org/wiki/Rewriting) for expressions, that try to transform one expression into the other; this would mimick the process often done by hand to show that two expressions are equal.  Another way would be to use theorem provers that can reason about expressions and real numbers, such as [PVS](https://pvs.csl.sri.com).  The problem is that these approaches are a lot of work.  Is there a way to be lazy, and still get the job done? \n",
        "\n",
        "There is, it turns out.  Suppose you have two expressions $f, g$ containing variable $x$ only.  The idea is that if $f$ and $g$ are built with the usual operators of algebra, it is exceedingly unlikely for $f$ and $g$ to give the same value  many values of $x$, and yet not be always equal.  This would not be true if our expressions could contain if-then-else statements, but for the operators we defined so far, it holds.  Indeed, one could be more precise, and try to come up with a theorem of the form: \n",
        "\n",
        "> If $f$ and $g$ have \"zerosity\" $n$, and are equal for $n+1$ values of $x$, then they are equal for all values of $x$. \n",
        "\n",
        "We could then try to define the \"zerosity\" of an expression to make this hold: for example, for two polynomials of degree at most $d$, once you show that they are equal for $d+1$ points, they must be equal everywhere ([why?](https://en.wikipedia.org/wiki/Fundamental_theorem_of_algebra)).  But this again would be a smart approach, and we are trying to see if we can solve the problem while being as stupid as possible.  So our idea will simply be: pick 1000 values of $x$ at random; if the two expressions are equal for all the values, then they must be equal everywhere.  This is a somewhat special case of a [Monte Carlo method](https://en.wikipedia.org/wiki/Monte_Carlo_method), a method used to estimate the probability of complex phenomena (where expression equality is our phenomenon).\n",
        "\n",
        "There are only two wrinkles with this.  The first is that an expression can contain many variables, and we have to try to value assignments for all of the variables.  This is easy to overcome; we just need some helper function that gives us the set of variables in a function.  The second wrinkle is: how do we generate the possible value assignments?  How big do these values need to be on average?  According to what probability distribution?  We could dive into a lot of theory and reasoning about how to compute appropriate probability distributions, but since our goal is to be stupid, we will use one of the simplest distributions with infinite domain: the Gaussian one. "
      ]
    },
    {
      "cell_type": "markdown",
      "metadata": {
        "deletable": false,
        "editable": false,
        "nbgrader": {
          "cell_type": "markdown",
          "checksum": "b1180001e0405de97861ad2f55a3f04e",
          "grade": false,
          "grade_id": "cell-26095e7b2922d56b",
          "locked": true,
          "schema_version": 3,
          "solution": false
        },
        "id": "w7qVZO6FO_Ig"
      },
      "source": [
        "## Question 2: Variable Occurrences\n",
        "\n",
        "Let us start by writing the function `variables` such that, if `e` is an expression, `variables(e)` is the set of variables that appear in it."
      ]
    },
    {
      "cell_type": "code",
      "execution_count": 19,
      "metadata": {
        "deletable": false,
        "nbgrader": {
          "cell_type": "code",
          "checksum": "dfb69f93a5aefc06de21086b3c70d1c8",
          "grade": false,
          "grade_id": "cell-43348855706bfdb9",
          "locked": false,
          "schema_version": 3,
          "solution": true
        },
        "id": "u0A-_DRsO_Ih"
      },
      "outputs": [],
      "source": [
        "#Exercise: define `variables`\n",
        "'''\n",
        "from numbers import Number # The mother class of all numbers.\n",
        "\n",
        "def isnumber(e):\n",
        "    return isinstance(e, Number)\n",
        "\n",
        "def isvariable(e):\n",
        "    return isinstance(e, str)\n",
        "\n",
        "def iscomposite(e):\n",
        "    return isinstance(e, tuple)\n",
        "'''\n",
        "\n",
        "def variables(e):\n",
        "    variablesx = set()\n",
        "    math = [\"+\", \"-\" , \"/\", \"*\" ]\n",
        "    if iscomposite(e):\n",
        "        for ix in e:\n",
        "            if iscomposite(ix):\n",
        "                a = variables(ix)\n",
        "                variablesx = a | variablesx\n",
        "\n",
        "            if isvariable(ix) and ix not in math:\n",
        "                variablesx.add(ix)\n",
        "        return variablesx\n",
        "    else:\n",
        "        return {e}\n",
        " \n",
        "\n",
        "# YOUR CODE HERE\n"
      ]
    },
    {
      "cell_type": "code",
      "execution_count": 20,
      "metadata": {
        "deletable": false,
        "editable": false,
        "nbgrader": {
          "cell_type": "code",
          "checksum": "76a4eee11e05aa462ff4a9aefa0e81c9",
          "grade": false,
          "grade_id": "cell-ee884765a2a531f0",
          "locked": true,
          "schema_version": 3,
          "solution": false
        },
        "id": "50YiN9I8O_Ih",
        "colab": {
          "base_uri": "https://localhost:8080/"
        },
        "outputId": "fdb5040f-703b-4cf8-d5a8-dc4ab186213c"
      },
      "outputs": [
        {
          "output_type": "stream",
          "name": "stdout",
          "text": [
            "('*', ('+', 'x', 2), ('/', 'x', 'yay'))\n",
            "{'x', 'yay'}\n"
          ]
        }
      ],
      "source": [
        "### Here you can write your own test code.\n",
        "\n",
        "e = ('*', ('+', 'x', 2), ('/', 'x', 'yay'))\n",
        "print(e)\n",
        "print(variables(e)) \n"
      ]
    },
    {
      "cell_type": "code",
      "execution_count": 21,
      "metadata": {
        "deletable": false,
        "editable": false,
        "nbgrader": {
          "cell_type": "code",
          "checksum": "b00ffb6c248660f93a314c9ee45676e9",
          "grade": true,
          "grade_id": "cell-3390c0758b6f1fef",
          "locked": true,
          "points": 10,
          "schema_version": 3,
          "solution": false
        },
        "id": "xbIea4BlO_Ih"
      },
      "outputs": [],
      "source": [
        "### 10 points. Tests for `Expr.variables`\n",
        "\n",
        "e = ('*', ('+', 'x', 2), ('/', 'x', 'yay'))\n",
        "assert variables(e) == {'x', 'yay'}\n",
        "\n"
      ]
    },
    {
      "cell_type": "markdown",
      "metadata": {
        "deletable": false,
        "editable": false,
        "nbgrader": {
          "cell_type": "markdown",
          "checksum": "614b87dcd21b94f0385437f30373c250",
          "grade": false,
          "grade_id": "cell-4436dfa74fa803e7",
          "locked": true,
          "schema_version": 3,
          "solution": false
        },
        "id": "AFxOdnV4O_Ih"
      },
      "source": [
        "## Question 3: Value equality\n",
        "\n",
        "Now we let you write the `value_equality` method.  \n",
        "Given the two expressions $e$ and $f$, first compute the set of variables $V$ that appear in either $e$ or $f$. \n",
        "Then, the idea consists in performing `num_sample` times the following test for equality: \n",
        "\n",
        "* First, produce a variable assignment (a dictionary) mapping each variable in $V$ to a random value.  Choose these random values from the gaussian distribution centered around 0 and with standard deviation 10 (for instance; any continuous distribution with infinite domain would work).  You can obtain such numbers using [`random.gauss(0, 10)`](https://docs.python.org/3/library/random.html#random.gauss). \n",
        "* Then, compute the values of $e$ and $f$ with respect to that variable evaluation.  If the values are closer than a specified tolerance `tolerance`, you consider $e$ and $f$ equal (for that variable valuation).  Otherwise, you can stop and return that $e$ and $f$ are different. \n",
        "\n",
        "If you can repeat the process `num_sample` times, and $e$ and $f$ are considered equal every time, then you declare them equal. "
      ]
    },
    {
      "cell_type": "code",
      "execution_count": 22,
      "metadata": {
        "deletable": false,
        "nbgrader": {
          "cell_type": "code",
          "checksum": "852c3f85c343c81a35e9dcae14a3fec6",
          "grade": false,
          "grade_id": "cell-a0a23854c0f9f7d4",
          "locked": false,
          "schema_version": 3,
          "solution": true
        },
        "id": "6FCDmC7uO_Ih"
      },
      "outputs": [],
      "source": [
        "\n",
        "### Exercise: implementation of value equality\n",
        "'''\n",
        "from numbers import Number # The mother class of all numbers.\n",
        "\n",
        "def isnumber(e):\n",
        "    return isinstance(e, Number)\n",
        "\n",
        "def isvariable(e):\n",
        "    return isinstance(e, str)\n",
        "\n",
        "def iscomposite(e):\n",
        "    return isinstance(e, tuple)\n",
        "'''\n",
        "\n",
        "import random\n",
        "\n",
        "def value_equality(e, f, num_samples=1000, tolerance=1e-6):\n",
        "    \"\"\"Return True if the two expressions self and other are numerically\n",
        "    equivalent. Equivalence is tested by generating\n",
        "    num_samples assignments, and checking that equality holds\n",
        "    for all of them. Equality is checked up to tolerance, that is,\n",
        "    the values of the two expressions have to be closer than tolerance.\n",
        "    It can be done in less than 10 lines of code.\"\"\"\n",
        "    # YOUR CODE HERE\n",
        "    # = self and f = other\n",
        "\n",
        "    x = variables(e) | variables(f)\n",
        "    for _ in range(num_samples):\n",
        "        y = {y: random.gauss(0, 10) for y in x}\n",
        "        return False if abs(compute(e, y) - compute(f, y)) > tolerance else True\n",
        "             \n",
        "        \n"
      ]
    },
    {
      "cell_type": "code",
      "execution_count": 23,
      "metadata": {
        "deletable": false,
        "editable": false,
        "nbgrader": {
          "cell_type": "code",
          "checksum": "fe61013957c0d4c5637753e6dc99b74b",
          "grade": false,
          "grade_id": "cell-1f8f9361606df42a",
          "locked": true,
          "schema_version": 3,
          "solution": false
        },
        "id": "Oh231TegO_Ih",
        "colab": {
          "base_uri": "https://localhost:8080/"
        },
        "outputId": "48180aa4-6d84-4b02-d244-86f558db8759"
      },
      "outputs": [
        {
          "output_type": "stream",
          "name": "stdout",
          "text": [
            "True\n"
          ]
        }
      ],
      "source": [
        "### Here you can test your solution.\n",
        "\n",
        "print(value_equality(3,3))\n"
      ]
    },
    {
      "cell_type": "code",
      "execution_count": 24,
      "metadata": {
        "deletable": false,
        "editable": false,
        "nbgrader": {
          "cell_type": "code",
          "checksum": "0ee97066e24add5770e3ce710554e6aa",
          "grade": false,
          "grade_id": "cell-937263b653e59d52",
          "locked": true,
          "schema_version": 3,
          "solution": false
        },
        "id": "ZExxld0kO_Ih"
      },
      "outputs": [],
      "source": [
        "### 5 points: Tests for value equality\n",
        "\n",
        "assert value_equality('x', 'x')\n",
        "assert value_equality(3, 3)\n",
        "assert not value_equality(3, 'x')\n",
        "\n",
        "e1 = ('+', ('*', 'x', 1), ('*', 'y', 0))\n",
        "e2 = 'x'\n",
        "assert value_equality(e1, e2)\n",
        "\n",
        "e3 = ('/', ('*', 'x', 'x'), ('*', 'x', 1))\n",
        "e3b = ('/', ('*', 'x', 'y'), ('*', 'x', 1))\n",
        "assert value_equality(e1, e3)\n",
        "assert not value_equality(e1, e3b)\n",
        "\n",
        "e4 = ('/', 'y', 2)\n",
        "assert not value_equality(e1, e4)\n",
        "assert not value_equality(e3, e4)\n",
        "\n",
        "e5 = (\"+\", \"cat\", (\"-\", \"dog\", \"dog\"))\n",
        "assert value_equality(e5, \"cat\")\n"
      ]
    },
    {
      "cell_type": "code",
      "execution_count": 25,
      "metadata": {
        "deletable": false,
        "editable": false,
        "nbgrader": {
          "cell_type": "code",
          "checksum": "0b5189cd430cc47055f8949453a5a439",
          "grade": true,
          "grade_id": "cell-6eddb38fe2db25cb",
          "locked": true,
          "points": 10,
          "schema_version": 3,
          "solution": false
        },
        "id": "hADk8krXO_Ih"
      },
      "outputs": [],
      "source": [
        "## 10 points: hidden tests for value equality.\n",
        "\n"
      ]
    },
    {
      "cell_type": "markdown",
      "metadata": {
        "deletable": false,
        "editable": false,
        "nbgrader": {
          "cell_type": "markdown",
          "checksum": "75fc79eb696486d33e945c2152c4c730",
          "grade": false,
          "grade_id": "cell-19fe1fa8d360a5cd",
          "locked": true,
          "schema_version": 3,
          "solution": false
        },
        "id": "IIwgW9L3O_Ih"
      },
      "source": [
        "## Symbolic Expressions\n",
        "\n",
        "The notation we developed enables the representation of _symbolic expressions:_ expressions in which not only numbers appear, but also symbols.  Accordingly, we can perform _symbolic_ operations on the expressions: operations that encode what you do with pencil and paper when you work on an expression. \n",
        "\n",
        "Our first symbolic operations will be the implementation of _derivatives._"
      ]
    },
    {
      "cell_type": "markdown",
      "metadata": {
        "deletable": false,
        "editable": false,
        "nbgrader": {
          "cell_type": "markdown",
          "checksum": "0d2b4a5198998c52e2fbd65a9d3e6948",
          "grade": false,
          "grade_id": "cell-3a3f133a5d0a4fb0",
          "locked": true,
          "schema_version": 3,
          "solution": false
        },
        "id": "uSnhQg1DO_Ii"
      },
      "source": [
        "### Derivatives\n",
        "\n",
        "Given an expression $f$ and a variable $x$, we can compute symbolically the (partial) derivative\n",
        "\n",
        "$$\n",
        "\\frac{\\partial f}{\\partial x}\n",
        "$$\n",
        "\n",
        "of $f$ with respect to $x$. \n",
        "For instance:\n",
        "\n",
        "$$\n",
        "\\begin{align*}\n",
        "\\frac{\\partial}{\\partial x}(x^2 + 3y + 4) & = 2x \\\\[1ex]\n",
        "\\frac{\\partial}{\\partial x}(x^2y + xy^2 + z) & = 2yx + y^2 + z \\; . \n",
        "\\end{align*}\n",
        "$$\n",
        "\n",
        "Here, the \"partial\" in partial derivative simply means: if you need to take the derivative with respect to a specific variable, simply treat all other variables as constants. \n",
        "\n",
        "Computing symbolic derivatives seems complicated, but we can take it in steps.  Our expression trees have leaves, consisting of \n",
        "\n",
        "* numerical constants\n",
        "* variables\n",
        "\n",
        "and operators, corresponding to `+`, `-`, `*`, `/`. \n",
        "Therefore, we break down the task into the computation of the symbolic derivative for numerical constants, variables, and arithmetic operators.  The cases for the leaf nodes are:  \n",
        "\n",
        "* For a constant $c$, $\\partial c / \\partial x = 0$.\n",
        "* For a variable $y \\neq x$,  $\\partial y / \\partial x = 0$.\n",
        "* $\\partial x / \\partial x = 1$.\n",
        "\n",
        "For operators, we can use:\n",
        "\n",
        "$$\n",
        " \\begin{align*}\n",
        " \\frac{\\partial}{\\partial x}(f \\pm g) & = \\frac{\\partial f}{\\partial x} \\pm \\frac  {\\partial g}{\\partial x}, \\\\[1ex]\n",
        " \\frac{\\partial}{\\partial x}(f \\cdot g) & = \\frac{\\partial f}{\\partial x} \\cdot g + f \\cdot \\frac{\\partial g}{\\partial x}, \\\\[1ex]\n",
        " \\frac{\\partial}{\\partial x}\\left(\\frac{f}{g}\\right) & = \\frac{\\frac\n",
        "  {\\partial f}{\\partial x} \\cdot g - f \\cdot \\frac{\\partial g}{\\partial x}}{g^2}. \n",
        "\\end{align*}\n",
        "$$"
      ]
    },
    {
      "cell_type": "markdown",
      "metadata": {
        "deletable": false,
        "editable": false,
        "nbgrader": {
          "cell_type": "markdown",
          "checksum": "ae4ced96433c0b8d0cef0cf2d096b818",
          "grade": false,
          "grade_id": "cell-6ee3c044f800e3af",
          "locked": true,
          "schema_version": 3,
          "solution": false
        },
        "id": "ZmG2dj56O_Ii"
      },
      "source": [
        "## Question 4: Derivative of a leaf expression\n",
        "\n",
        "Let's start from a leaf expression.  The function `derivate_leaf` takes as argument an expression that is a leaf, and a variable, and returns the symbolic derivative of the leaf writh respect to the variable. "
      ]
    },
    {
      "cell_type": "code",
      "execution_count": 26,
      "metadata": {
        "deletable": false,
        "nbgrader": {
          "cell_type": "code",
          "checksum": "fbebc489d0b6ed7107f45b3c67c7ee36",
          "grade": false,
          "grade_id": "cell-138a03ce19407726",
          "locked": false,
          "schema_version": 3,
          "solution": true
        },
        "id": "gdIyeJTNO_Ii"
      },
      "outputs": [],
      "source": [
        "### Derivation of a leaf expression\n",
        "'''\n",
        "from numbers import Number # The mother class of all numbers.\n",
        "\n",
        "def isnumber(e):\n",
        "    return isinstance(e, Number)\n",
        "\n",
        "def isvariable(e):\n",
        "    return isinstance(e, str)\n",
        "\n",
        "def iscomposite(e):\n",
        "    return isinstance(e, tuple)\n",
        "'''\n",
        "def derivate_leaf(e, x):\n",
        "    \"\"\"This function takes as input an expression e and a variable x,\n",
        "    and returns the symbolic derivative of e wrt. x, as an expression.\"\"\"\n",
        "    # YOUR CODE HERE\n",
        "    if isvariable(e) and isvariable(x):\n",
        "        if x in e:\n",
        "            return 1\n",
        "    return 0\n"
      ]
    },
    {
      "cell_type": "code",
      "execution_count": 27,
      "metadata": {
        "deletable": false,
        "editable": false,
        "nbgrader": {
          "cell_type": "code",
          "checksum": "8e1a550249a5fd7ef4476ec4d2841907",
          "grade": false,
          "grade_id": "cell-407ea88086c6f859",
          "locked": true,
          "schema_version": 3,
          "solution": false
        },
        "id": "TFuwVBW3O_Ii"
      },
      "outputs": [],
      "source": [
        "### You can play here with your code.\n"
      ]
    },
    {
      "cell_type": "markdown",
      "metadata": {
        "deletable": false,
        "editable": false,
        "nbgrader": {
          "cell_type": "markdown",
          "checksum": "698dc4031ca28f83b49f9d36e6ca340b",
          "grade": false,
          "grade_id": "cell-633ab8037e0144a4",
          "locked": true,
          "schema_version": 3,
          "solution": false
        },
        "id": "5zPBDUXbO_Ii"
      },
      "source": [
        "Here are some tests. "
      ]
    },
    {
      "cell_type": "code",
      "execution_count": 28,
      "metadata": {
        "deletable": false,
        "editable": false,
        "nbgrader": {
          "cell_type": "code",
          "checksum": "f1b0b8641718ead954b4d44fce54128d",
          "grade": false,
          "grade_id": "cell-76eab707201f1bb7",
          "locked": true,
          "schema_version": 3,
          "solution": false
        },
        "id": "O3dLQYcBO_Ii"
      },
      "outputs": [],
      "source": [
        "# 5 points.\n",
        "\n",
        "assert derivate_leaf(\"x\", \"x\") == 1\n",
        "assert derivate_leaf(\"x\", \"y\") == 0\n",
        "assert derivate_leaf(\"y\", \"z\") == 0\n",
        "assert derivate_leaf(4, \"x\") == 0\n"
      ]
    },
    {
      "cell_type": "markdown",
      "metadata": {
        "deletable": false,
        "editable": false,
        "nbgrader": {
          "cell_type": "markdown",
          "checksum": "c05cfa9b09df3d1a354fdb8b308ca015",
          "grade": false,
          "grade_id": "cell-df17b29d025ed5f",
          "locked": true,
          "schema_version": 3,
          "solution": false
        },
        "id": "A72lG-P8O_Ii"
      },
      "source": [
        "## Question 5: Derivative of an expression\n",
        "\n",
        "We now let you implement the derivative of a general expression.  The function is recursive: for instance, if the expression is (`*`, $f$, $g$), to compute its derivative with respect to a variable $x$, we use: \n",
        "\n",
        "$$\n",
        "\\frac{\\partial}{\\partial x}(f \\cdot g) = \\frac{\\partial f}{\\partial x} \\cdot g + f \\cdot \\frac{\\partial g}{\\partial x}\n",
        "$$\n",
        "\n",
        "and so we need to recursively call symbolic derivation on the $f$ and $g$ sub-expressions, to obtain $\\partial f / \\partial x$ and $\\partial g / \\partial x$, and then produce and return an expression representing the result. \n",
        "\n",
        "**Important:** The code for checking expression equality is _not_ able to cope with the commutativity of `+` and `*`.  So, in your solution, please use _exactly_ these forms: \n",
        "\n",
        "$$\n",
        " \\begin{align*}\n",
        " \\frac{\\partial}{\\partial x}(f \\pm g) & = \\frac{\\partial f}{\\partial x} \\pm \\frac  {\\partial g}{\\partial x}, \\\\[1ex]\n",
        " \\frac{\\partial}{\\partial x}(f \\cdot g) & = \\frac{\\partial f}{\\partial x} \\cdot g + f \\cdot \\frac{\\partial g}{\\partial x}, \\\\[1ex]\n",
        " \\frac{\\partial}{\\partial x}\\left(\\frac{f}{g}\\right) & = \\frac{\\frac\n",
        "  {\\partial f}{\\partial x} \\cdot g - f \\cdot \\frac{\\partial g}{\\partial x}}{g^2}. \n",
        "\\end{align*}\n",
        "$$\n",
        "\n",
        "and not, for instance, $\\frac{\\partial}{\\partial x}(f \\cdot g) = g \\cdot \\frac{\\partial f}{\\partial x} + f \\cdot \\frac{\\partial g}{\\partial x}$, which is mathematically equivalent, but would be considered different by the tests. \n",
        "\n",
        "\n",
        "\n"
      ]
    },
    {
      "cell_type": "code",
      "execution_count": 29,
      "metadata": {
        "deletable": false,
        "nbgrader": {
          "cell_type": "code",
          "checksum": "87c171969db12a02851a811c4ae28e3a",
          "grade": false,
          "grade_id": "cell-53e50f9274f97e52",
          "locked": false,
          "schema_version": 3,
          "solution": true
        },
        "id": "2alI6syaO_Ii"
      },
      "outputs": [],
      "source": [
        "### Implement `derivate`\n",
        "\n",
        "def derivate(e, x):\n",
        "    \"\"\"Returns the derivative of e wrt x.\n",
        "    It can be done in less than 15 lines of code.\"\"\"\n",
        "    # YOUR CODE HERE\n",
        "\n",
        "    if not iscomposite(e):\n",
        "        return derivate_leaf(e, x)\n",
        "\n",
        "    op, l, r = e\n",
        "\n",
        "    dx = derivate(l, x) if iscomposite(l) else derivate_leaf(l, x)\n",
        "    dz = derivate(r, x) if iscomposite(r) else derivate_leaf(r, x)\n",
        "\n",
        "    if op in \"+\":\n",
        "        return (op, dx, dz)\n",
        "    elif op == \"-\":\n",
        "        return (op, dx, dz)\n",
        "    elif op == \"*\":\n",
        "        return (\"+\", ( \"*\", dx, r), (\"*\", l, dz))\n",
        "    elif op == \"/\":\n",
        "        return (\"/\", (\"-\",(\"*\",dx, r), (\"*\", l, dz)), (\"*\", r, r) )\n",
        "\n"
      ]
    },
    {
      "cell_type": "code",
      "execution_count": 30,
      "metadata": {
        "deletable": false,
        "editable": false,
        "nbgrader": {
          "cell_type": "code",
          "checksum": "6991e5b8fa1f7a521f10467529a4836f",
          "grade": false,
          "grade_id": "cell-b3a4ea921bc52a19",
          "locked": true,
          "schema_version": 3,
          "solution": false
        },
        "id": "Yx-9ZsRjO_Ii"
      },
      "outputs": [],
      "source": [
        "### You can play here with your code.\n"
      ]
    },
    {
      "cell_type": "code",
      "execution_count": 31,
      "metadata": {
        "deletable": false,
        "editable": false,
        "nbgrader": {
          "cell_type": "code",
          "checksum": "bff3a88e9247f123ce88d56d5fa2f248",
          "grade": false,
          "grade_id": "cell-d4f3eed7f76956a1",
          "locked": true,
          "schema_version": 3,
          "solution": false
        },
        "id": "L6gcFC6CO_Ij"
      },
      "outputs": [],
      "source": [
        "### 5 points: Tests for `derivate` for single-operator expressions\n",
        "\n",
        "assert derivate(('+', 'x', 'x'), 'x') == ('+', 1, 1)\n",
        "assert derivate(('-', 4, 'x'), 'x') == ('-', 0, 1)\n",
        "assert derivate(('*', 2, 'x'), 'x') == ('+', ('*', 0, 'x'), ('*', 2, 1))\n",
        "assert derivate(('/', 2, 'x'), 'x') == ('/', ('-', ('*', 0, 'x'), ('*', 2, 1)), ('*', 'x', 'x'))\n"
      ]
    },
    {
      "cell_type": "code",
      "execution_count": 32,
      "metadata": {
        "deletable": false,
        "editable": false,
        "nbgrader": {
          "cell_type": "code",
          "checksum": "edd2f88f70495a3a5735cc7391184fcf",
          "grade": true,
          "grade_id": "cell-3026371ccff0740b",
          "locked": true,
          "points": 10,
          "schema_version": 3,
          "solution": false
        },
        "id": "6FGsAvOuO_Ij"
      },
      "outputs": [],
      "source": [
        "### 5 points: Hidden tests for `derivate` for single-operator expressions\n",
        "\n"
      ]
    },
    {
      "cell_type": "code",
      "execution_count": 33,
      "metadata": {
        "deletable": false,
        "editable": false,
        "nbgrader": {
          "cell_type": "code",
          "checksum": "d327f5776a5baf45f177fb4cd4a7e9ae",
          "grade": true,
          "grade_id": "cell-d6d3107b27764419",
          "locked": true,
          "points": 10,
          "schema_version": 3,
          "solution": false
        },
        "id": "Hx5pEyuuO_Ij"
      },
      "outputs": [],
      "source": [
        "### 10 points: Tests for `derivate` for composite expressions\n",
        "\n",
        "e1 = ('*', 'x', 'x')\n",
        "e2 = ('*', 3, 'x')\n",
        "num = ('-', e1, e2)\n",
        "e3 = ('*', 'a', 'x')\n",
        "den = ('+', e1, e3)\n",
        "e = ('/', num, den)\n",
        "\n",
        "f = ('/',\n",
        " ('-',\n",
        "  ('*',\n",
        "   ('-',\n",
        "    ('+', ('*', 1, 'x'), ('*', 'x', 1)),\n",
        "    ('+', ('*', 0, 'x'), ('*', 3, 1))),\n",
        "   ('+', ('*', 'x', 'x'), ('*', 'a', 'x'))),\n",
        "  ('*',\n",
        "   ('-', ('*', 'x', 'x'), ('*', 3, 'x')),\n",
        "   ('+',\n",
        "    ('+', ('*', 1, 'x'), ('*', 'x', 1)),\n",
        "    ('+', ('*', 0, 'x'), ('*', 'a', 1))))),\n",
        " ('*',\n",
        "  ('+', ('*', 'x', 'x'), ('*', 'a', 'x')),\n",
        "  ('+', ('*', 'x', 'x'), ('*', 'a', 'x'))))\n",
        "\n",
        "assert derivate(e, 'x') == f\n",
        "\n"
      ]
    },
    {
      "cell_type": "code",
      "execution_count": 33,
      "metadata": {
        "deletable": false,
        "editable": false,
        "nbgrader": {
          "cell_type": "code",
          "checksum": "7bac96c63b9eed28849cf1a9021a791c",
          "grade": false,
          "grade_id": "cell-6be45e8874f93d3f",
          "locked": true,
          "schema_version": 3,
          "solution": false
        },
        "id": "GUhzQUWYO_Ij"
      },
      "outputs": [],
      "source": [
        ""
      ]
    }
  ],
  "metadata": {
    "colab": {
      "collapsed_sections": [],
      "name": "Homework_9_test.ipynb",
      "provenance": []
    },
    "kernelspec": {
      "display_name": "Python 3",
      "language": "python",
      "name": "python3"
    },
    "language_info": {
      "codemirror_mode": {
        "name": "ipython",
        "version": 3
      },
      "file_extension": ".py",
      "mimetype": "text/x-python",
      "name": "python",
      "nbconvert_exporter": "python",
      "pygments_lexer": "ipython3",
      "version": "3.8.10"
    },
    "test_info": {
      "id": "6ff63c5258989883179bb4fb555dc9c6560fa10c"
    }
  },
  "nbformat": 4,
  "nbformat_minor": 0
}
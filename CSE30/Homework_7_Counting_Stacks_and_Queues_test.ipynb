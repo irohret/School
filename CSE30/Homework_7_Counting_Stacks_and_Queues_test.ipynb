{
  "cells": [
    {
      "cell_type": "markdown",
      "metadata": {
        "id": "8ofiPEsEBIh3"
      },
      "source": [
        "Before you turn this problem in, make sure everything runs as expected. First, **restart the kernel** (in the menubar, select Kernel$\\rightarrow$Restart) and then **run all cells** (in the menubar, select Cell$\\rightarrow$Run All).\n",
        "\n",
        "Make sure you fill in any place that says `YOUR CODE HERE` or \"YOUR ANSWER HERE\", as well as your name and collaborators below:"
      ]
    },
    {
      "cell_type": "code",
      "execution_count": null,
      "metadata": {
        "id": "GHazw27VBIh6"
      },
      "outputs": [],
      "source": [
        "NAME = \"\"\n",
        "COLLABORATORS = \"\""
      ]
    },
    {
      "cell_type": "markdown",
      "metadata": {
        "id": "NR1zTI6rBIh7"
      },
      "source": [
        "---"
      ]
    },
    {
      "cell_type": "markdown",
      "metadata": {
        "deletable": false,
        "editable": false,
        "nbgrader": {
          "cell_type": "markdown",
          "checksum": "0c4b227e5635d52e3d7ea97eaa40bc7c",
          "grade": false,
          "grade_id": "cell-2ec730bacd63a590",
          "locked": true,
          "schema_version": 3,
          "solution": false
        },
        "id": "Ab84n8uQBIh7"
      },
      "source": [
        "# Homework 7: Counting Stacks and Queues\n",
        "### Copyright Luca de Alfaro, 2019-21.  License: CC-BY-NC. "
      ]
    },
    {
      "cell_type": "markdown",
      "metadata": {
        "deletable": false,
        "editable": false,
        "nbgrader": {
          "cell_type": "markdown",
          "checksum": "c66d56ba800c01717bc93e5eb029f56d",
          "grade": false,
          "grade_id": "cell-1bfeb748c0ddd817",
          "locked": true,
          "schema_version": 3,
          "solution": false
        },
        "id": "A6sqsyVlBIh7"
      },
      "source": [
        "## Submission\n",
        "\n",
        "* Download the .ipynb file:\n",
        "\n",
        "    File > Download .ipynb\n",
        "    \n",
        "    \n",
        "* Then, [submit the .ipynb to this Google Form](https://docs.google.com/forms/d/e/1FAIpQLSd1xb4Pj7tK6HWOciXwM4Twtf2eYY716j2wqcY1HHyLzlbOvQ/viewform?usp=sf_link).  This homework is due by **11:59pm on Tuesday, 1 February 2022**.\n"
      ]
    },
    {
      "cell_type": "markdown",
      "metadata": {
        "deletable": false,
        "editable": false,
        "nbgrader": {
          "cell_type": "markdown",
          "checksum": "df7801fcbbe65308e58d0e945236b03e",
          "grade": false,
          "grade_id": "cell-f220dca7b485f83b",
          "locked": true,
          "schema_version": 3,
          "solution": false
        },
        "id": "WxineJkgBIh7"
      },
      "source": [
        "## About this homework\n",
        "\n",
        "Two things are new about this homework assignment. \n",
        "\n",
        "First, this homework is graded using `assert`, which is the standard way in Python of asking for something to be True.  So, a cell succeeds if no error is raised; you no longer see \"Success\" printed out all the time. \n",
        "\n",
        "Second, there are essentially no hidden tests: rather, we make sure your implementation works by comparing your implementation with a reference one.  Precisely, we will be comparing the implementation of CountingQueue with that of Queue. "
      ]
    },
    {
      "cell_type": "markdown",
      "metadata": {
        "deletable": false,
        "editable": false,
        "nbgrader": {
          "cell_type": "markdown",
          "checksum": "2719ce166ead02318efda20bcf91af37",
          "grade": false,
          "grade_id": "cell-145923a874235fe3",
          "locked": true,
          "schema_version": 3,
          "solution": false
        },
        "id": "89mGcZTKBIh8"
      },
      "source": [
        "## Stacks, Queues, and Their Counting Versions\n",
        "\n",
        "A stack is a data structure with two operations: push, and pop.  Picture it as a pile of dishes sitting on a counter.  A push operation places a dish on top of the pile.  A pop operation returns the dish on top of the pile, or None if the pile is empty, that is, contains no dishes.  A \"dish\" can be any Python object. \n",
        "\n",
        "A queue is a data structure with two operations: put, and get.  Imagine it as a stack of books horizontally on a shelf.  A put operation adds the book to the left end of the books on the shelf; a get operation gets the book from the right end of the shelf.  \n",
        "\n",
        "Thus, the difference between a stack and a queue is that the stack is FILO (First In, Last Out), whereas the queue is FIFO (First In, First Out).  Elements in a stack are retrieved newest first. \n",
        "Elements in a queue are retrieved in the order they were put in, oldest first.\n",
        "\n",
        "We will implement here these data structures, with a small twist: we will also introduce _counting_ versions of them, which avoid keeping multiple identical copies of objects in a row. \n",
        "\n"
      ]
    },
    {
      "cell_type": "markdown",
      "metadata": {
        "deletable": false,
        "editable": false,
        "nbgrader": {
          "cell_type": "markdown",
          "checksum": "016fae9bc09df3c8646c4f07660eb3e7",
          "grade": false,
          "grade_id": "cell-84fedae477bcdca4",
          "locked": true,
          "schema_version": 3,
          "solution": false
        },
        "id": "8h6rji-lBIh9"
      },
      "source": [
        "Let us begin by implementing a plain vanilla stack."
      ]
    },
    {
      "cell_type": "code",
      "execution_count": null,
      "metadata": {
        "deletable": false,
        "editable": false,
        "nbgrader": {
          "cell_type": "code",
          "checksum": "841ae7c451410f6b7e98f0e0301ef4af",
          "grade": false,
          "grade_id": "cell-b0d64656e2913e4c",
          "locked": true,
          "schema_version": 3,
          "solution": false
        },
        "id": "G5TJxWmyBIh9"
      },
      "outputs": [],
      "source": [
        "class Stack(object):\n",
        "\n",
        "    def __init__(self):\n",
        "        self.stack = []\n",
        "\n",
        "    def __repr__(self):\n",
        "        \"\"\"Defining a __repr__ function will enable us to print the\n",
        "        stack contents, and facilitate debugging.\"\"\"\n",
        "        return repr(self.stack) # Good enough.\n",
        "\n",
        "    def push(self, x):\n",
        "        \"\"\"The \"top\" of the stack is the end of the list.\"\"\"\n",
        "        self.stack.append(x)\n",
        "\n",
        "    def pop(self):\n",
        "        return self.stack.pop() if len(self.stack) > 0 else None\n",
        "\n",
        "    def isempty(self):\n",
        "        return len(self.stack) == 0\n",
        "\n",
        "    def __len__(self):\n",
        "        return len(self.stack)\n",
        "\n",
        "    def __iter__(self):\n",
        "        for el in self.stack:\n",
        "            yield el\n",
        "\n",
        "    def __getitem__(self, i):\n",
        "        return self.stack[i]\n",
        "\n",
        "    def __contains__(self, x):\n",
        "        return x in self.stack\n",
        "\n"
      ]
    },
    {
      "cell_type": "markdown",
      "metadata": {
        "deletable": false,
        "editable": false,
        "nbgrader": {
          "cell_type": "markdown",
          "checksum": "0e84d7154692ac4bf819f0c48ed7d36f",
          "grade": false,
          "grade_id": "cell-cc209086779449f6",
          "locked": true,
          "schema_version": 3,
          "solution": false
        },
        "id": "hGCWE9NFBIh-"
      },
      "source": [
        "Let's see how this works."
      ]
    },
    {
      "cell_type": "code",
      "execution_count": null,
      "metadata": {
        "deletable": false,
        "editable": false,
        "nbgrader": {
          "cell_type": "code",
          "checksum": "5b61b254b00e55c03eacd9507b1f3561",
          "grade": false,
          "grade_id": "cell-7f27dd6af0102eb0",
          "locked": true,
          "schema_version": 3,
          "solution": false
        },
        "colab": {
          "base_uri": "https://localhost:8080/"
        },
        "id": "Aq1wUuHUBIh-",
        "outputId": "e8166298-6828-4130-eed1-5e1835f04fe6"
      },
      "outputs": [
        {
          "output_type": "stream",
          "name": "stdout",
          "text": [
            "None\n",
            "b\n",
            "a\n",
            "None\n"
          ]
        }
      ],
      "source": [
        "s = Stack()\n",
        "print(s.pop())\n",
        "s.push('a')\n",
        "s.push('b')\n",
        "print(s.pop())\n",
        "print(s.pop())\n",
        "print(s.pop())\n"
      ]
    },
    {
      "cell_type": "markdown",
      "metadata": {
        "deletable": false,
        "editable": false,
        "nbgrader": {
          "cell_type": "markdown",
          "checksum": "1a26f42fc62d8931bdb63cf8786ba312",
          "grade": false,
          "grade_id": "cell-c5dde9f357e64eac",
          "locked": true,
          "schema_version": 3,
          "solution": false
        },
        "id": "P1ILS5RRBIh-"
      },
      "source": [
        "Ok!  The definition of a queue is similar. "
      ]
    },
    {
      "cell_type": "code",
      "execution_count": null,
      "metadata": {
        "deletable": false,
        "editable": false,
        "nbgrader": {
          "cell_type": "code",
          "checksum": "fc74981e388aad995412f2b9ed95c3d7",
          "grade": false,
          "grade_id": "cell-9d27d9d57fe600a8",
          "locked": true,
          "schema_version": 3,
          "solution": false
        },
        "id": "VKs5rlt8BIh-"
      },
      "outputs": [],
      "source": [
        "class Queue(object):\n",
        "\n",
        "    def __init__(self):\n",
        "        self.queue = []\n",
        "\n",
        "    def __repr__(self):\n",
        "        \"\"\"Defining a __repr__ function will enable us to print the\n",
        "        queue contents, and facilitate debugging.\"\"\"\n",
        "        return repr(self.queue) # Good enough.\n",
        "\n",
        "    def add(self, x):\n",
        "        self.queue.append(x)\n",
        "\n",
        "    def get(self):\n",
        "        # This is the only difference compared to the stack above.\n",
        "        return self.queue.pop(0) if len(self.queue) > 0 else None\n",
        "\n",
        "    def isempty(self):\n",
        "        return len(self.queue) == 0\n",
        "\n",
        "    def __len__(self):\n",
        "        return len(self.queue)\n",
        "\n",
        "    def __iter__(self):\n",
        "        for el in self.queue:\n",
        "            yield el\n",
        "\n",
        "    def __getitem__(self, i):\n",
        "        return self.queue[i]\n",
        "\n",
        "    def __contains__(self, x):\n",
        "        return x in self.queue\n"
      ]
    },
    {
      "cell_type": "markdown",
      "metadata": {
        "deletable": false,
        "editable": false,
        "nbgrader": {
          "cell_type": "markdown",
          "checksum": "b123b4c640360541db0d142aa8ba85f5",
          "grade": false,
          "grade_id": "cell-374337566043171e",
          "locked": true,
          "schema_version": 3,
          "solution": false
        },
        "id": "8CKLDv1IBIh_"
      },
      "source": [
        "Let's see how it works. "
      ]
    },
    {
      "cell_type": "code",
      "execution_count": null,
      "metadata": {
        "deletable": false,
        "editable": false,
        "nbgrader": {
          "cell_type": "code",
          "checksum": "99f027fecc8ca5afb51702ab08a201f2",
          "grade": false,
          "grade_id": "cell-5f981c4e107c1b27",
          "locked": true,
          "schema_version": 3,
          "solution": false
        },
        "colab": {
          "base_uri": "https://localhost:8080/"
        },
        "id": "dd7HR5JfBIh_",
        "outputId": "4dbb20de-2066-4ec2-8513-9e984b376f4a"
      },
      "outputs": [
        {
          "output_type": "stream",
          "name": "stdout",
          "text": [
            "None\n",
            "a\n",
            "b\n",
            "None\n"
          ]
        }
      ],
      "source": [
        "s = Queue()\n",
        "print(s.get())\n",
        "s.add('a')\n",
        "s.add('b')\n",
        "print(s.get())\n",
        "print(s.get())\n",
        "print(s.get())\n"
      ]
    },
    {
      "cell_type": "markdown",
      "metadata": {
        "deletable": false,
        "editable": false,
        "nbgrader": {
          "cell_type": "markdown",
          "checksum": "bfc7b7fef1311c46d3f6c7eee0cceaa4",
          "grade": false,
          "grade_id": "cell-7c3aac7af4f6d816",
          "locked": true,
          "schema_version": 3,
          "solution": false
        },
        "id": "Bpl5GJhPBIh_"
      },
      "source": [
        "As you see, in a queue, the elements are retrieved in the same order in which they were added. "
      ]
    },
    {
      "cell_type": "markdown",
      "metadata": {
        "deletable": false,
        "editable": false,
        "nbgrader": {
          "cell_type": "markdown",
          "checksum": "6ca83e41cb50b5b9f32aba1aa188e040",
          "grade": false,
          "grade_id": "cell-94d771a30032dd03",
          "locked": true,
          "schema_version": 3,
          "solution": false
        },
        "id": "uBOeUNrrBIh_"
      },
      "source": [
        "Python experts might note that, for a queue, we would do better by using the [`collections.deque` class](https://docs.python.org/3.7/library/collections.html#collections.deque), rather than the list class, to make the `pop(0)` operation more efficient; in lists, it takes time proportional to the length of the list; in deques, it takes constant time.  For small lists, however, the difference is negligible.\n"
      ]
    },
    {
      "cell_type": "markdown",
      "metadata": {
        "deletable": false,
        "editable": false,
        "nbgrader": {
          "cell_type": "markdown",
          "checksum": "0247c29ae54e202bbbb0a43c4a8c282e",
          "grade": false,
          "grade_id": "cell-e9978255a070e1b5",
          "locked": true,
          "schema_version": 3,
          "solution": false
        },
        "id": "00ywN0zyBIh_"
      },
      "source": [
        "We now consider a use case in which we may need to put in the queue or stack many repeated copies of the same object.  For instance, assume that the queue is used to store events, and assume that some event may end up being repeated many times in a row.  As an example, the events can be \"s\", for the tick of a second, \"m\", when the minute advances, and \"h\", when the hour advances.  There will be 60 consecutive \"s\" events between any two \"m\" events, and it seems a waste to store so many consecutive identical events.  Storing many identical things in a row is akin to counting in unary notation, after all.  We would be better off storing the repeated elements only once, along with a count of the number of times they occur.  Let's develop a queue using this idea (a stack can be done similarly)."
      ]
    },
    {
      "cell_type": "code",
      "execution_count": null,
      "metadata": {
        "deletable": false,
        "editable": false,
        "nbgrader": {
          "cell_type": "code",
          "checksum": "19e0668cdeabd17ef222139cb0aa180a",
          "grade": false,
          "grade_id": "cell-57fece45d65ae0a8",
          "locked": true,
          "schema_version": 3,
          "solution": false
        },
        "id": "UvgGtte8BIiA"
      },
      "outputs": [],
      "source": [
        "class CountingQueue(object):\n",
        "\n",
        "    def __init__(self):\n",
        "        self.queue = []\n",
        "\n",
        "    def __repr__(self):\n",
        "        return repr(self.queue)\n",
        "\n",
        "    def add(self, x, count=1):\n",
        "        # If the element is the same as the last element, we simply\n",
        "        # increment the count.  This assumes we can test equality of\n",
        "        # elements.\n",
        "        if len(self.queue) > 0:\n",
        "            xx, cc = self.queue[-1]\n",
        "            if xx == x:\n",
        "                self.queue[-1] = (xx, cc + count)\n",
        "            else:\n",
        "                self.queue.append((x, count))\n",
        "        else:\n",
        "            self.queue = [(x, count)]\n",
        "\n",
        "    def get(self):\n",
        "        if len(self.queue) == 0:\n",
        "            return None\n",
        "        x, c = self.queue[0]\n",
        "        if c == 1:\n",
        "            self.queue.pop(0)\n",
        "            return x\n",
        "        else:\n",
        "            self.queue[0] = (x, c - 1)\n",
        "            return x\n",
        "\n",
        "    def isempty(self):\n",
        "        # Since the count of an element is never 0, we can just check\n",
        "        # whether the queue is empty.\n",
        "        return len(self.queue) == 0\n"
      ]
    },
    {
      "cell_type": "markdown",
      "metadata": {
        "deletable": false,
        "editable": false,
        "nbgrader": {
          "cell_type": "markdown",
          "checksum": "185dccdad7d645cf9acecbbf9d648e2e",
          "grade": false,
          "grade_id": "cell-34726b005848d5a8",
          "locked": true,
          "schema_version": 3,
          "solution": false
        },
        "id": "7UiGllBABIiA"
      },
      "source": [
        "Let's put this to the same test as before, printing the queue contents at each step to see what is going on."
      ]
    },
    {
      "cell_type": "code",
      "execution_count": null,
      "metadata": {
        "deletable": false,
        "editable": false,
        "nbgrader": {
          "cell_type": "code",
          "checksum": "da497f4f42542ad94a144aac1e7928d5",
          "grade": false,
          "grade_id": "cell-4a727d003dab58a4",
          "locked": true,
          "schema_version": 3,
          "solution": false
        },
        "colab": {
          "base_uri": "https://localhost:8080/"
        },
        "id": "mXp_56jaBIiA",
        "outputId": "d5dc64b0-4763-4384-d38c-60815a20bc78"
      },
      "outputs": [
        {
          "output_type": "stream",
          "name": "stdout",
          "text": [
            "[('a', 1)]\n",
            "[('a', 1), ('b', 5)]\n",
            "[('a', 1), ('b', 5), ('c', 2)]\n",
            "a\n",
            "[('b', 5), ('c', 2)]\n",
            "b\n",
            "[('b', 4), ('c', 2)]\n",
            "b\n",
            "[('b', 3), ('c', 2)]\n",
            "b\n",
            "[('b', 2), ('c', 2)]\n",
            "b\n",
            "[('b', 1), ('c', 2)]\n",
            "b\n",
            "[('c', 2)]\n",
            "c\n",
            "[('c', 1)]\n",
            "c\n",
            "[]\n"
          ]
        }
      ],
      "source": [
        "q = CountingQueue()\n",
        "q.add('a')\n",
        "print(q)\n",
        "q.add('b', count=5)\n",
        "print(q)\n",
        "q.add('c', count=2)\n",
        "print(q)\n",
        "while not q.isempty():\n",
        "    print(q.get())\n",
        "    print(q)\n"
      ]
    },
    {
      "cell_type": "markdown",
      "metadata": {
        "deletable": false,
        "editable": false,
        "nbgrader": {
          "cell_type": "markdown",
          "checksum": "ecf379d00749d8b818c0d0a209d9079b",
          "grade": false,
          "grade_id": "cell-b1a40b10bcc5c053",
          "locked": true,
          "schema_version": 3,
          "solution": false
        },
        "id": "DRZM8zEcBIiA"
      },
      "source": [
        "It works!  And notice that it works even if we add elements one by one."
      ]
    },
    {
      "cell_type": "code",
      "execution_count": null,
      "metadata": {
        "deletable": false,
        "editable": false,
        "nbgrader": {
          "cell_type": "code",
          "checksum": "8e886927cea88f044e9afab3645e6b48",
          "grade": false,
          "grade_id": "cell-219046bcda6f8f9e",
          "locked": true,
          "schema_version": 3,
          "solution": false
        },
        "colab": {
          "base_uri": "https://localhost:8080/"
        },
        "id": "_1p_f1A8BIiA",
        "outputId": "d7ecd52a-44d0-4c78-9d09-4945ca5f85f3"
      },
      "outputs": [
        {
          "output_type": "stream",
          "name": "stdout",
          "text": [
            "[('a', 10), ('b', 1), ('c', 6)]\n"
          ]
        }
      ],
      "source": [
        "q = CountingQueue()\n",
        "for i in range(10):\n",
        "    q.add('a')\n",
        "q.add('b')\n",
        "for i in range(3):\n",
        "    q.add('c', count=2)\n",
        "print(q)\n"
      ]
    },
    {
      "cell_type": "markdown",
      "metadata": {
        "deletable": false,
        "editable": false,
        "nbgrader": {
          "cell_type": "markdown",
          "checksum": "220d78fc050dd7432b5f22d43ad5f0d4",
          "grade": false,
          "grade_id": "cell-2c40ceef229a3a37",
          "locked": true,
          "schema_version": 3,
          "solution": false
        },
        "id": "b_ZUSYaOBIiA"
      },
      "source": [
        "## The Homework Assignment\n",
        "\n",
        "For this homework, you must implement the following methods for `CountingQueue`: \n",
        "\n",
        "* `__len__`\n",
        "* `__iter__`\n",
        "* `__in__`\n",
        "* `__getitem__`\n",
        "\n",
        "Your goal is to have `CountingQueue` behave exactly like `Queue` to an outside user: the objects have to be different only due to their internal implementation.  So for instance, `__len__` must return the number of elements, including repetitions; not the number of (element, count) pairs in `self.queue`. \n",
        "\n",
        "Note that we are adding methods to a class that has already been defined, so our definition have the following somewhat unusual form: "
      ]
    },
    {
      "cell_type": "code",
      "execution_count": null,
      "metadata": {
        "deletable": false,
        "editable": false,
        "nbgrader": {
          "cell_type": "code",
          "checksum": "f53125668a2869fade5efc9a75191dbf",
          "grade": false,
          "grade_id": "cell-5b36f9a67db90645",
          "locked": true,
          "schema_version": 3,
          "solution": false
        },
        "id": "Ltx82CCZBIiB"
      },
      "outputs": [],
      "source": [
        "def counting_queue_peek(self):\n",
        "    if len(self.queue) == 0:\n",
        "        return None\n",
        "    el, _ = self.queue[0]\n",
        "    return el\n",
        "\n",
        "CountingQueue.peek = counting_queue_peek\n"
      ]
    },
    {
      "cell_type": "markdown",
      "metadata": {
        "deletable": false,
        "editable": false,
        "nbgrader": {
          "cell_type": "markdown",
          "checksum": "c424a77b4fe30fd461cf7413c21de258",
          "grade": false,
          "grade_id": "cell-e4bdee12da9ba797",
          "locked": true,
          "schema_version": 3,
          "solution": false
        },
        "id": "kYMUf6ktBIiB"
      },
      "source": [
        "In other words, we first create a function (in this case `counting_queue_peek`) and then we assign it to the method `peek` of `CountingQueue`.  It's a bit unusual, but it works, and it relieves us from the task of redefining the class each time we need a new method. "
      ]
    },
    {
      "cell_type": "code",
      "execution_count": null,
      "metadata": {
        "deletable": false,
        "editable": false,
        "nbgrader": {
          "cell_type": "code",
          "checksum": "db3e11bd4ce49cca0c5046a0224fd8ec",
          "grade": false,
          "grade_id": "cell-93549db318bb1feb",
          "locked": true,
          "schema_version": 3,
          "solution": false
        },
        "id": "8iOciIPlBIiB",
        "outputId": "3451c440-91e0-4fe2-f823-798a4f72c96d",
        "colab": {
          "base_uri": "https://localhost:8080/",
          "height": 35
        }
      },
      "outputs": [
        {
          "output_type": "execute_result",
          "data": {
            "text/plain": [
              "'cat'"
            ],
            "application/vnd.google.colaboratory.intrinsic+json": {
              "type": "string"
            }
          },
          "metadata": {},
          "execution_count": 10
        }
      ],
      "source": [
        "q = CountingQueue()\n",
        "q.add(\"cat\")\n",
        "q.add(\"dog\")\n",
        "q.peek()\n"
      ]
    },
    {
      "cell_type": "markdown",
      "metadata": {
        "deletable": false,
        "editable": false,
        "nbgrader": {
          "cell_type": "markdown",
          "checksum": "32c7acbc0cd54c83e918f78efe382711",
          "grade": false,
          "grade_id": "cell-feee7c46e5990783",
          "locked": true,
          "schema_version": 3,
          "solution": false
        },
        "id": "EH8OJ8ueBIiB"
      },
      "source": [
        "### `__len__`"
      ]
    },
    {
      "cell_type": "code",
      "execution_count": null,
      "metadata": {
        "deletable": false,
        "nbgrader": {
          "cell_type": "code",
          "checksum": "3e836f8b8c52a53a6762d0a6b8ec6a02",
          "grade": false,
          "grade_id": "cell-63a8d97a4c1adc43",
          "locked": false,
          "schema_version": 3,
          "solution": true
        },
        "id": "-6UGgO83BIiB"
      },
      "outputs": [],
      "source": [
        "def counting_queue_len(self):\n",
        "    lenth = 0\n",
        "    for k, v in self.queue:\n",
        "        lenth += v\n",
        "    return lenth\n",
        " \n",
        "CountingQueue.__len__ = counting_queue_len\n"
      ]
    },
    {
      "cell_type": "code",
      "execution_count": null,
      "metadata": {
        "deletable": false,
        "editable": false,
        "nbgrader": {
          "cell_type": "code",
          "checksum": "64f3e668d883f05a59d687d094ae1411",
          "grade": false,
          "grade_id": "cell-62c53aa33bafc257",
          "locked": true,
          "schema_version": 3,
          "solution": false
        },
        "id": "oDz0yx-0BIiB"
      },
      "outputs": [],
      "source": [
        "# 5 points.  Simple tests\n",
        "\n",
        "q = CountingQueue()\n",
        "assert len(q) == 0\n",
        "q.add(\"cat\")\n",
        "q.add(\"dog\")\n",
        "assert len(q) == 2\n"
      ]
    },
    {
      "cell_type": "code",
      "execution_count": null,
      "metadata": {
        "deletable": false,
        "editable": false,
        "nbgrader": {
          "cell_type": "code",
          "checksum": "e89845d2c9079915771037e1a80c82d7",
          "grade": false,
          "grade_id": "cell-f677ff803fa6e693",
          "locked": true,
          "schema_version": 3,
          "solution": false
        },
        "id": "6GqdknKCBIiB"
      },
      "outputs": [],
      "source": [
        "# 5 points.  More complicated tests.\n",
        "\n",
        "q = CountingQueue()\n",
        "assert len(q) == 0\n",
        "q.add(\"cat\")\n",
        "q.add(\"cat\")\n",
        "assert len(q.queue) == 1\n",
        "assert len(q) == 2\n",
        "q.add(\"dog\")\n",
        "assert len(q) == 3\n",
        "assert len(q.queue) == 2\n",
        "q.add(\"dog\")\n",
        "assert len(q) == 4\n",
        "assert len(q) == 4 # Hey, just in case you went for the quantum-mechanical solution ;-)\n",
        "assert len(q) == 4\n",
        "assert len(q.queue) == 2\n"
      ]
    },
    {
      "cell_type": "code",
      "execution_count": null,
      "metadata": {
        "deletable": false,
        "editable": false,
        "nbgrader": {
          "cell_type": "code",
          "checksum": "76c3c001e44a7be3d8e696712094f607",
          "grade": false,
          "grade_id": "cell-117c7db193e13589",
          "locked": true,
          "schema_version": 3,
          "solution": false
        },
        "id": "aerZEdJtBIiB"
      },
      "outputs": [],
      "source": [
        "# 5 points.  Works same as Queue.\n",
        "\n",
        "import random\n",
        "\n",
        "for k in range(100):\n",
        "    q0 = Queue()\n",
        "    q1 = CountingQueue()\n",
        "    for _ in range(100):\n",
        "        el = random.choice([\"a\", \"b\", \"c\"])\n",
        "        q0.add(el)\n",
        "        q1.add(el)\n",
        "        assert len(q0) == len(q1)\n",
        "        assert len(q0.queue) >= len(q1.queue)\n"
      ]
    },
    {
      "cell_type": "markdown",
      "metadata": {
        "deletable": false,
        "editable": false,
        "nbgrader": {
          "cell_type": "markdown",
          "checksum": "33c4970df985be19d3ae18a7e6887418",
          "grade": false,
          "grade_id": "cell-e6854b0c0cb3c847",
          "locked": true,
          "schema_version": 3,
          "solution": false
        },
        "id": "ZnzI8KMYBIiC"
      },
      "source": [
        "### `__iter__`"
      ]
    },
    {
      "cell_type": "code",
      "execution_count": null,
      "metadata": {
        "deletable": false,
        "nbgrader": {
          "cell_type": "code",
          "checksum": "a4185e81e33956225d200e382232eacb",
          "grade": false,
          "grade_id": "cell-a963e973f847f8f8",
          "locked": false,
          "schema_version": 3,
          "solution": true
        },
        "id": "59QiGtxqBIiC"
      },
      "outputs": [],
      "source": [
        "def counting_queue_iter(self):\n",
        "    # YOUR CODE HER\n",
        "    for i in self.queue:\n",
        "        for _ in range(i[1]):\n",
        "            yield i[0]\n",
        "\n",
        "CountingQueue.__iter__ = counting_queue_iter\n"
      ]
    },
    {
      "cell_type": "code",
      "execution_count": null,
      "metadata": {
        "deletable": false,
        "editable": false,
        "nbgrader": {
          "cell_type": "code",
          "checksum": "72e9b7e33c29ba095873eac818755087",
          "grade": false,
          "grade_id": "cell-f8eb348dba5f8282",
          "locked": true,
          "schema_version": 3,
          "solution": false
        },
        "id": "kqJEyu91BIiC",
        "outputId": "0a02604c-95c7-4c70-82ed-4c77ace339ff",
        "colab": {
          "base_uri": "https://localhost:8080/"
        }
      },
      "outputs": [
        {
          "output_type": "stream",
          "name": "stdout",
          "text": [
            "True\n",
            "['cat', 'cat', 'dog', 'dog', 'dog']\n"
          ]
        }
      ],
      "source": [
        "# 5 points.  Simple tests.\n",
        "\n",
        "q = CountingQueue()\n",
        "q.add(\"cat\", count=2)\n",
        "q.add(\"dog\", count=3)\n",
        "assert [x for x in q] == [\"cat\"] * 2 + [\"dog\"] * 3\n",
        "print([x for x in q] == [\"cat\"] * 2 + [\"dog\"] * 3)\n",
        "print([x for x in q])\n"
      ]
    },
    {
      "cell_type": "code",
      "execution_count": null,
      "metadata": {
        "deletable": false,
        "editable": false,
        "nbgrader": {
          "cell_type": "code",
          "checksum": "806483ac4f8a57b6a28a56f6f8502c50",
          "grade": false,
          "grade_id": "cell-acaf33db92c3daf7",
          "locked": true,
          "schema_version": 3,
          "solution": false
        },
        "id": "zKHm9My-BIiC"
      },
      "outputs": [],
      "source": [
        "# 5 points.  Works the same as queue.\n",
        "\n",
        "for k in range(100):\n",
        "    q0 = Queue()\n",
        "    q1 = CountingQueue()\n",
        "    for _ in range(100):\n",
        "        el = random.choice([\"a\", \"b\", \"c\"])\n",
        "        q0.add(el)\n",
        "        q1.add(el)\n",
        "        assert [x for x in q0] == [x for x in q1]\n"
      ]
    },
    {
      "cell_type": "markdown",
      "metadata": {
        "deletable": false,
        "editable": false,
        "nbgrader": {
          "cell_type": "markdown",
          "checksum": "f9e9d25515a2ac2d88163d8b76c89b17",
          "grade": false,
          "grade_id": "cell-d66f57e58950719",
          "locked": true,
          "schema_version": 3,
          "solution": false
        },
        "id": "ItTKKHdcBIiC"
      },
      "source": [
        "### `__in__`"
      ]
    },
    {
      "cell_type": "code",
      "execution_count": null,
      "metadata": {
        "deletable": false,
        "nbgrader": {
          "cell_type": "code",
          "checksum": "a9fef71a5e75a00564f5d63078c4c9fb",
          "grade": false,
          "grade_id": "cell-1f2dcce4dfbe1354",
          "locked": false,
          "schema_version": 3,
          "solution": true
        },
        "id": "OVy2P_O6BIiC"
      },
      "outputs": [],
      "source": [
        "def counting_queue_in(self, el):\n",
        "    # YOUR CODE HERE\n",
        "    # if el in self.queue return True else return False \n",
        "    return True if el in self.queue else False\n",
        "\n",
        "    \"\"\"\n",
        "    if el in self.queue:\n",
        "        return True\n",
        "    else:\n",
        "        return False\n",
        "    \"\"\"\n",
        "\n",
        "\n",
        "CountingQueue.__in__ = counting_queue_in\n"
      ]
    },
    {
      "cell_type": "code",
      "execution_count": null,
      "metadata": {
        "deletable": false,
        "editable": false,
        "nbgrader": {
          "cell_type": "code",
          "checksum": "d3dbad0da53a1cdecfba49822cf474c5",
          "grade": false,
          "grade_id": "cell-1384ee70aade4cc0",
          "locked": true,
          "schema_version": 3,
          "solution": false
        },
        "id": "d-haB7n9BIiC"
      },
      "outputs": [],
      "source": [
        "# 0 points.  Simple cases.\n",
        "\n",
        "q = CountingQueue()\n",
        "assert \"cat\" not in q\n",
        "q.add(\"cat\", count=2)\n",
        "assert \"cat\" in q\n",
        "assert \"dog\" not in q\n",
        "q.add(\"dog\")\n",
        "assert \"cat\" in q\n",
        "assert \"dog\" in q\n",
        "q.get()\n",
        "assert \"cat\" in q\n",
        "assert \"dog\" in q\n",
        "q.get()\n",
        "assert \"cat\" not in q\n",
        "assert \"dog\" in q\n",
        "q.get()\n",
        "assert \"cat\" not in q\n",
        "assert \"dog\" not in q\n"
      ]
    },
    {
      "cell_type": "code",
      "execution_count": null,
      "metadata": {
        "deletable": false,
        "editable": false,
        "nbgrader": {
          "cell_type": "code",
          "checksum": "8655af0f5ee975e1763348763ec757ab",
          "grade": false,
          "grade_id": "cell-26217854f21e4baa",
          "locked": true,
          "schema_version": 3,
          "solution": false
        },
        "id": "LnmzR768BIiC"
      },
      "outputs": [],
      "source": [
        "# 0 points.  Behaves the same as Queue.\n",
        "\n",
        "elements = range(5)\n",
        "for k in range(100):\n",
        "    q0 = Queue()\n",
        "    q1 = CountingQueue()\n",
        "    for _ in range(20):\n",
        "        el = random.choice(elements)\n",
        "        q0.add(el)\n",
        "        q1.add(el)\n",
        "        for x in elements:\n",
        "            assert (x in q0) == (x in q1)\n"
      ]
    },
    {
      "cell_type": "markdown",
      "metadata": {
        "deletable": false,
        "editable": false,
        "nbgrader": {
          "cell_type": "markdown",
          "checksum": "83011af22ee4b2440ca196e519b9a040",
          "grade": false,
          "grade_id": "cell-367924707ee61e18",
          "locked": true,
          "schema_version": 3,
          "solution": false
        },
        "id": "cKjZ1ydsBIiD"
      },
      "source": [
        "### `__getitem__`"
      ]
    },
    {
      "cell_type": "code",
      "execution_count": null,
      "metadata": {
        "deletable": false,
        "nbgrader": {
          "cell_type": "code",
          "checksum": "0109c814253350f1772a54bbe5861970",
          "grade": false,
          "grade_id": "cell-1db28826c3a27785",
          "locked": false,
          "schema_version": 3,
          "solution": true
        },
        "id": "ZODVog3MBIiD"
      },
      "outputs": [],
      "source": [
        "def counting_queue_getitem(self, n):\n",
        "    # YOUR CODE HERE\n",
        "    x = []\n",
        "    for i in self.queue:\n",
        "        for _ in range(i[1]):\n",
        "            x.append(i[0])\n",
        "    return x[n]\n",
        "\n",
        "\n",
        "CountingQueue.__getitem__ = counting_queue_getitem\n"
      ]
    },
    {
      "cell_type": "code",
      "execution_count": null,
      "metadata": {
        "deletable": false,
        "editable": false,
        "nbgrader": {
          "cell_type": "code",
          "checksum": "8870db58b3cf13a14a047cc611928efe",
          "grade": false,
          "grade_id": "cell-cff6f2ee157058d6",
          "locked": true,
          "schema_version": 3,
          "solution": false
        },
        "id": "22a4kNPNBIiD",
        "outputId": "ab6ee16f-d980-4c75-87fa-4470bc5e4d2e",
        "colab": {
          "base_uri": "https://localhost:8080/"
        }
      },
      "outputs": [
        {
          "output_type": "stream",
          "name": "stdout",
          "text": [
            "['cat', 'cat', 'dog', 'dog', 'dog', 'bird', 'bird', 'bird', 'bird']\n"
          ]
        }
      ],
      "source": [
        "# 5 points: simple tests.\n",
        "\n",
        "q = CountingQueue()\n",
        "q.add(\"cat\", count=2)\n",
        "q.add(\"dog\", count=3)\n",
        "q.add(\"bird\", count=4)\n",
        "els = [q[i] for i in range(9)]\n",
        "print(els)\n",
        "assert els == ['cat'] * 2 + ['dog'] * 3 + ['bird'] * 4\n",
        "# Let's do it again.\n",
        "els = [q[i] for i in range(9)]\n",
        "assert els == ['cat'] * 2 + ['dog'] * 3 + ['bird'] * 4\n"
      ]
    },
    {
      "cell_type": "code",
      "execution_count": null,
      "metadata": {
        "deletable": false,
        "editable": false,
        "nbgrader": {
          "cell_type": "code",
          "checksum": "cb3017e1846ec5d6780e91436282398b",
          "grade": true,
          "grade_id": "cell-6b9bea9f3454694d",
          "locked": true,
          "points": 10,
          "schema_version": 3,
          "solution": false
        },
        "id": "MvlTbYfoBIiD"
      },
      "outputs": [],
      "source": [
        "# 5 points: you raise IndexError when accessing elements out of bounds.\n",
        "\n",
        "q = CountingQueue()\n",
        "q.add(\"cat\", count=2)\n",
        "q.add(\"dog\", count=3)\n",
        "\n",
        "# Raise IndexError when it's too high...\n",
        "try:\n",
        "    q[5]\n",
        "    assert False, \"Failed to raise IndexError\"\n",
        "except IndexError:\n",
        "    pass\n",
        "assert q[4] == \"dog\"\n",
        "try:\n",
        "    q[5]\n",
        "    assert False, \"Failed to raise IndexError\"\n",
        "except IndexError:\n",
        "    pass\n",
        "\n",
        "# And also when it's too low.\n",
        "try:\n",
        "    q[-10]\n",
        "    assert False, \"Failed to raise IndexError\"\n",
        "except IndexError:\n",
        "    pass\n",
        "\n",
        "# or too large:\n",
        "try:\n",
        "    q[10]\n",
        "    assert False, \"Failed to raise IndexError\"\n",
        "except IndexError:\n",
        "    pass\n",
        "\n",
        "# And raise TypeError if you try to index with a non-integer.\n",
        "try:\n",
        "    q[\"hello\"]\n",
        "    assert False, \"Failed to raise TypeError\"\n",
        "except TypeError:\n",
        "    pass\n",
        "\n"
      ]
    },
    {
      "cell_type": "code",
      "execution_count": null,
      "metadata": {
        "deletable": false,
        "editable": false,
        "nbgrader": {
          "cell_type": "code",
          "checksum": "1237c14baacebef0ed1fc792c8b74d3a",
          "grade": false,
          "grade_id": "cell-3e46950dcf883e65",
          "locked": true,
          "schema_version": 3,
          "solution": false
        },
        "id": "3hm5klhDBIiD"
      },
      "outputs": [],
      "source": [
        "# 5 points.  Behaves the same as Queue.\n",
        "\n",
        "elements = range(3)\n",
        "for k in range(100):\n",
        "    q0 = Queue()\n",
        "    q1 = CountingQueue()\n",
        "    for m in range(40):\n",
        "        el = random.choice(elements)\n",
        "        q0.add(el)\n",
        "        q1.add(el)\n",
        "        for i in range(m):\n",
        "            assert q0[i] == q1[i]\n",
        "\n",
        "\n",
        "q = CountingQueue()\n",
        "q.add(\"cow\", count=4)\n",
        "q.add(\"turtle\", count=5)\n",
        "\n",
        "# Raise IndexError when it's too high...\n",
        "try:\n",
        "    q[10]\n",
        "    assert False, \"Failed to raise IndexError\"\n",
        "except IndexError:\n",
        "    pass\n",
        "assert q[8] == \"turtle\"\n",
        "try:\n",
        "    q[9]\n",
        "    assert False, \"Failed to raise IndexError\"\n",
        "except IndexError:\n",
        "    pass\n",
        "\n",
        "# And also when it's too low.\n",
        "try:\n",
        "    q[-20]\n",
        "    assert False, \"Failed to raise IndexError\"\n",
        "except IndexError:\n",
        "    pass\n",
        "\n",
        "# And raise TypeError if you try to index with a non-integer.\n",
        "try:\n",
        "    q[\"cow\"]\n",
        "    assert False, \"Failed to raise TypeError\"\n",
        "except TypeError:\n",
        "    pass"
      ]
    }
  ],
  "metadata": {
    "colab": {
      "collapsed_sections": [],
      "name": "Homework_7_Counting_Stacks_and_Queues_test.ipynb",
      "provenance": []
    },
    "kernelspec": {
      "display_name": "Python 3",
      "language": "python",
      "name": "python3"
    },
    "language_info": {
      "codemirror_mode": {
        "name": "ipython",
        "version": 3
      },
      "file_extension": ".py",
      "mimetype": "text/x-python",
      "name": "python",
      "nbconvert_exporter": "python",
      "pygments_lexer": "ipython3",
      "version": "3.8.10"
    },
    "test_info": {
      "id": "6ff63c5258989883179bb4fb555dc9c6560fa10c"
    }
  },
  "nbformat": 4,
  "nbformat_minor": 0
}
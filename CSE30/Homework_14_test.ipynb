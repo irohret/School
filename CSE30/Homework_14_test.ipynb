{
  "cells": [
    {
      "cell_type": "markdown",
      "metadata": {
        "id": "KcPMoWD-se7h"
      },
      "source": [
        "Before you turn this problem in, make sure everything runs as expected. First, **restart the kernel** (in the menubar, select Kernel$\\rightarrow$Restart) and then **run all cells** (in the menubar, select Cell$\\rightarrow$Run All).\n",
        "\n",
        "Make sure you fill in any place that says `YOUR CODE HERE` or \"YOUR ANSWER HERE\", as well as your name and collaborators below:"
      ]
    },
    {
      "cell_type": "code",
      "execution_count": 1,
      "metadata": {
        "id": "3hbNCnuCse7j"
      },
      "outputs": [],
      "source": [
        "NAME = \"\"\n",
        "COLLABORATORS = \"\""
      ]
    },
    {
      "cell_type": "markdown",
      "metadata": {
        "id": "9jsLao0vse7k"
      },
      "source": [
        "---"
      ]
    },
    {
      "cell_type": "markdown",
      "metadata": {
        "deletable": false,
        "editable": false,
        "nbgrader": {
          "grade": false,
          "grade_id": "cell-82a5993775192a57",
          "locked": true,
          "schema_version": 3,
          "solution": false
        },
        "id": "6_Ved_jmse7k"
      },
      "source": [
        "# CSE 30 Winter 2022 - Homework 14\n",
        "\n",
        "## Sudoku\n",
        "\n",
        "\n",
        "### Instructions\n",
        "\n",
        "Please disregard the YOUR NAME and COLLABORATORS above.  They are put there atomatically by the grading tool.\n",
        "You can find instructions on how to work on a homework on Canvas.  Here is a short summary: \n",
        "\n",
        "### Submitting your work\n",
        "\n",
        "To submit your work: \n",
        "\n",
        "* First, click on \"Runtime > Restart and run all\", and check that you get no errors.  This enables you to catch any error you might have introduced, and not noticed, due to your running cells out of order. \n",
        "* Second, download the notebook in .ipynb format (File > Download .ipynb) and upload the .ipynb file to [this form](https://docs.google.com/forms/d/e/1FAIpQLSchfnEZzTMsO7V_gX0gmRwLJ8HA6UZy0OfTBNZSZTmCuOJOEw/viewform?usp=sf_link). This homework is due at **11:59pm on Thursday, 3 March 2022**.\n",
        "\n",
        "You can submit multiple times; the last submission before the deadline is the one that counts.\n",
        "\n",
        "### Homework format\n",
        "\n",
        "For each question in this notebook, there is: \n",
        "\n",
        "* A text description of the problem. \n",
        "* One or more places where you have to insert your solution.  You need to complete every place marked: \n",
        "\n",
        "    `# YOUR CODE HERE`\n",
        "    \n",
        "    and you should not modify any other place. \n",
        "* One or more test cells.  Each cell is worth some number of points, marked at the top.  You should not modify these tests cells.  The tests pass if no error is printed out: when there is a statement that says, for instance: \n",
        "\n",
        "    `assert x == 2`\n",
        "    \n",
        "    then the test passes if `x` has value 2, and fails otherwise.  You can insert a `print(x)` (for this case!) somewhere if you want to debug your work; it is up to you.  \n",
        "    \n",
        "### Notes:\n",
        "\n",
        "* Your code will be tested both according to the tests you can see (the `assert` statements you can see), _and_ additional tests.  This prevents you from hard-coding the answer to the particular questions posed.  Your code should solve the _general_ intended case, not hard-code the particular answer for the values used in the tests. \n",
        "\n",
        "* **Please do not delete or add cells!** The test is autograded, and if you modify the test by adding or deleting cells, even if you re-add cells you delete, you may not receive credit. \n",
        "\n",
        "* **Please do not import modules that are not part of the [standard library](https://docs.python.org/3/library/index.html).** You do not need any, and they will likely not available in the grading environment, leading your code to fail. \n",
        "\n",
        "* **If you are inactive too long, your notebook might get disconnected from the back-end.** Your work is never lost, but you have to re-run all the cells before you continue. \n",
        "\n",
        "* You can write out print statements in your code, to help you test/debug it. But remember: the code is graded on the basis of what it outputs or returns, not on the basis of what it prints.\n",
        "\n",
        "* **TAs and tutors have access to this notebook,** so if you let them know you need their help, they can look at your work and give you advice. \n",
        "\n",
        "### Grading\n",
        "\n",
        "Each cell where there are tests is worth a certain number of points.  You get the points allocated to a cell only if you pass _all_ the tests in the cell. \n",
        "\n",
        "The tests in a cell include both the tests you can see, and other, similar, tests that are used for grading only.  Therefore, you cannot hard-code the solutions: you really have to solve the essence of the problem, to receive the points in a cell. \n",
        "\n",
        "### Code of Conduct\n",
        "\n",
        "* Work on the test yourself, alone. \n",
        "* You can search documentation on the web, on sites such as the Python documentation sites, Stackoverflow, and similar, and you can use the results. \n",
        "* You cannot share your work with others or solicit their help.\n"
      ]
    },
    {
      "cell_type": "markdown",
      "metadata": {
        "deletable": false,
        "editable": false,
        "nbgrader": {
          "grade": false,
          "grade_id": "cell-972e0458a2e0a3b0",
          "locked": true,
          "schema_version": 3,
          "solution": false
        },
        "id": "6xqnxcv1se7l"
      },
      "source": [
        "## Submission\n",
        "\n",
        "[Please submit to this Google Form](https://docs.google.com/forms/d/e/1FAIpQLSf0r9gB2y6Wcf4pWM9aqpzyZfQOvNqFJol36NtS4Msdvd3VXA/viewform?usp=sf_link).\n",
        "\n",
        "Deadline: Tuesday December 8, 11pm (check on Canvas for updated information)."
      ]
    },
    {
      "cell_type": "markdown",
      "metadata": {
        "deletable": false,
        "editable": false,
        "nbgrader": {
          "grade": false,
          "grade_id": "cell-e0fbbd83d5c50d17",
          "locked": true,
          "schema_version": 3,
          "solution": false
        },
        "id": "WCIItO6Sse7l"
      },
      "source": [
        "## Test Format\n",
        "\n",
        "There are 6 questions, but not all of them require you to write code: \n",
        "* Question 1 asks you to complete the code for propagating a single cell.\n",
        "* Question 2 asks you to write the code to propagate all cells. \n",
        "* For Question 3, you just need to copy your solution to Question 2 in another place. \n",
        "* Question 4 asks you to implement a helper function that detects elements that occur in only one of a list of sets. \n",
        "* Question 5 asks you to implement the _where can it go_ heuristic. \n",
        "* Question 6 simply checks that your code is efficient; you don't need to write any code. \n",
        "\n",
        "There are a total of 70 points. "
      ]
    },
    {
      "cell_type": "markdown",
      "metadata": {
        "deletable": false,
        "editable": false,
        "nbgrader": {
          "grade": false,
          "grade_id": "cell-7a8bf36d8ec9f6d5",
          "locked": true,
          "schema_version": 3,
          "solution": false
        },
        "id": "VPb3thDpse7l"
      },
      "source": [
        "Let us write a [Sudoku](https://en.wikipedia.org/wiki/Sudoku) solver.  We want to get as input a Sudoku with some cells filled with values, and we want to get as output a solution, if one exists, and otherwise a notice that the input Sudoku puzzle has no solutions. \n",
        "\n",
        "You will wonder, why spend so much time on Sudoku? \n",
        "\n",
        "For two reasons. \n",
        "\n",
        "First, the way we go about solving Sudoku is prototypical of a very large number of problems in computer science.  In these problems, the solution is attained through a mix of search (we attempt to fill a square with a number and see if it works out), and constraint propagation (if we fill a square with, say, a 1, then there can be no 1's in the same row, column, and 3x3 square).\n",
        "\n",
        "Second, and related, the way we go about solving Sudoku puzzles is closely related to how [SAT solvers](https://en.wikipedia.org/wiki/Boolean_satisfiability_problem#Algorithms_for_solving_SAT) work.  So closely related, in fact, that while _we_ describe for you how a Sudoku solver works, _you_ will have to write a SAT solver as exercise. \n"
      ]
    },
    {
      "cell_type": "markdown",
      "metadata": {
        "deletable": false,
        "editable": false,
        "nbgrader": {
          "grade": false,
          "grade_id": "cell-169ee1232cf13ae0",
          "locked": true,
          "schema_version": 3,
          "solution": false
        },
        "id": "SkxvwY20se7l"
      },
      "source": [
        "## Sudoku representation\n",
        "\n",
        "First, let us do some grunt work and define a representation for a Sudoku problem. \n",
        "\n",
        "One initial idea would be to represent a Sudoku problem via a $9 \\times 9$ matrix, where each entry can be either a digit from 1 to 9, or 0 to signify \"blank\".  This would work in some sense, but it would not be a very useful representation.  If you have solved Sudoku by hand (and if you have not, please go and solve a couple; it will teach you a lot about what we need to do), you will know that the following strategy works: \n",
        "\n",
        "Repeat: \n",
        "* Look at all blank spaces.  Can you find one where only one digit fits? If so, write the digit there. \n",
        "* If you cannot find any blank space as above, try to find one where only a couple or so digits can fit.  Try putting in one of those digits, and see if you can solve the puzzle with that choice.  If not, backtrack, and try another digit. \n",
        "\n",
        "Thus, it will be very useful to us to remember not only the known digits, but also, which digits can fit into any blank space. \n",
        "Hence, we represent a Sudoku problem via a $9 \\times 9$ matrix of _sets_: each set contains the digits that can fit in a given space. \n",
        "Of course, a known digit is just a set containing only one element. \n",
        "We will solve a Sudoku problem by progressively \"shrinking\" these sets of possibilities, until they all contain exactly one element. \n",
        "\n",
        "Let us write some code that enables us to define a Sudoku problem, and display it for us; this will be very useful both for our fun and for debugging. \n"
      ]
    },
    {
      "cell_type": "markdown",
      "metadata": {
        "deletable": false,
        "editable": false,
        "nbgrader": {
          "grade": false,
          "grade_id": "cell-bea38bbea291ef9d",
          "locked": true,
          "schema_version": 3,
          "solution": false
        },
        "id": "c0VXdF5Bse7l"
      },
      "source": [
        "First, though, let's write a tiny helper function that returns the only element from a singleton set."
      ]
    },
    {
      "cell_type": "code",
      "execution_count": 2,
      "metadata": {
        "deletable": false,
        "editable": false,
        "nbgrader": {
          "grade": false,
          "grade_id": "cell-ff3ff04726ade9e1",
          "locked": true,
          "schema_version": 3,
          "solution": false
        },
        "id": "VVberleGse7m"
      },
      "outputs": [],
      "source": [
        "def getel(s):\n",
        "    \"\"\"Returns the unique element in a singleton set (or list).\"\"\"\n",
        "    assert len(s) == 1\n",
        "    return list(s)[0]\n"
      ]
    },
    {
      "cell_type": "code",
      "execution_count": 3,
      "metadata": {
        "deletable": false,
        "editable": false,
        "nbgrader": {
          "grade": false,
          "grade_id": "cell-2c1266ba60e8beb4",
          "locked": true,
          "schema_version": 3,
          "solution": false
        },
        "id": "BzjTWZxVse7m"
      },
      "outputs": [],
      "source": [
        "import json\n",
        "\n",
        "class Sudoku(object):\n",
        "\n",
        "    def __init__(self, elements):\n",
        "        \"\"\"Elements can be one of:\n",
        "        Case 1: a list of 9 strings of length 9 each.\n",
        "        Each string represents a row of the initial Sudoku puzzle,\n",
        "        with either a digit 1..9 in it, or with a blank or _ to signify\n",
        "        a blank cell.\n",
        "        Case 2: an instance of Sudoku.  In that case, we initialize an\n",
        "        object to be equal (a copy) of the one in elements.\n",
        "        Case 3: a list of list of sets, used to initialize the problem.\"\"\"\n",
        "        if isinstance(elements, Sudoku):\n",
        "            # We let self.m consist of copies of each set in elements.m\n",
        "            self.m = [[x.copy() for x in row] for row in elements.m]\n",
        "        else:\n",
        "            assert len(elements) == 9\n",
        "            for s in elements:\n",
        "                assert len(s) == 9\n",
        "            # We let self.m be our Sudoku problem, a 9x9 matrix of sets.\n",
        "            self.m = []\n",
        "            for s in elements:\n",
        "                row = []\n",
        "                for c in s:\n",
        "                    if isinstance(c, str):\n",
        "                        if c.isdigit():\n",
        "                            row.append({int(c)})\n",
        "                        else:\n",
        "                            row.append({1, 2, 3, 4, 5, 6, 7, 8, 9})\n",
        "                    else:\n",
        "                        assert isinstance(c, set)\n",
        "                        row.append(c)\n",
        "                self.m.append(row)\n",
        "\n",
        "\n",
        "    def show(self, details=False):\n",
        "        \"\"\"Prints out the Sudoku matrix.  If details=False, we print out\n",
        "        the digits only for cells that have singleton sets (where only\n",
        "        one digit can fit).  If details=True, for each cell, we display the\n",
        "        sets associated with the cell.\"\"\"\n",
        "        if details:\n",
        "            print(\"+-----------------------------+-----------------------------+-----------------------------+\")\n",
        "            for i in range(9):\n",
        "                r = '|'\n",
        "                for j in range(9):\n",
        "                    # We represent the set {2, 3, 5} via _23_5____\n",
        "                    s = ''\n",
        "                    for k in range(1, 10):\n",
        "                        s += str(k) if k in self.m[i][j] else '_'\n",
        "                    r += s\n",
        "                    r += '|' if (j + 1) % 3 == 0 else ' '\n",
        "                print(r)\n",
        "                if (i + 1) % 3 == 0:\n",
        "                    print(\"+-----------------------------+-----------------------------+-----------------------------+\")\n",
        "        else:\n",
        "            print(\"+---+---+---+\")\n",
        "            for i in range(9):\n",
        "                r = '|'\n",
        "                for j in range(9):\n",
        "                    if len(self.m[i][j]) == 1:\n",
        "                        r += str(getel(self.m[i][j]))\n",
        "                    else:\n",
        "                        r += \".\"\n",
        "                    if (j + 1) % 3 == 0:\n",
        "                        r += \"|\"\n",
        "                print(r)\n",
        "                if (i + 1) % 3 == 0:\n",
        "                    print(\"+---+---+---+\")\n",
        "\n",
        "\n",
        "    def to_string(self):\n",
        "        \"\"\"This method is useful for producing a representation that\n",
        "        can be used in testing.\"\"\"\n",
        "        as_lists = [[list(self.m[i][j]) for j in range(9)] for i in range(9)]\n",
        "        return json.dumps(as_lists)\n",
        "\n",
        "\n",
        "    @staticmethod\n",
        "    def from_string(s):\n",
        "        \"\"\"Inverse of above.\"\"\"\n",
        "        as_lists = json.loads(s)\n",
        "        as_sets = [[set(el) for el in row] for row in as_lists]\n",
        "        return Sudoku(as_sets)\n",
        "\n",
        "\n",
        "    def __eq__(self, other):\n",
        "        \"\"\"Useful for testing.\"\"\"\n",
        "        return self.m == other.m\n"
      ]
    },
    {
      "cell_type": "markdown",
      "metadata": {
        "deletable": false,
        "editable": false,
        "nbgrader": {
          "grade": false,
          "grade_id": "cell-3f0a62d8cfafb6b3",
          "locked": true,
          "schema_version": 3,
          "solution": false
        },
        "id": "N461_2dQse7m"
      },
      "source": [
        "Let us input a problem (the Sudoku example found on [this Wikipedia page](https://en.wikipedia.org/wiki/Sudoku)) and check that our serialization and deserialization works."
      ]
    },
    {
      "cell_type": "code",
      "execution_count": 4,
      "metadata": {
        "deletable": false,
        "editable": false,
        "nbgrader": {
          "grade": false,
          "grade_id": "cell-4470c17eda9badac",
          "locked": true,
          "schema_version": 3,
          "solution": false
        },
        "id": "2kAWQTLmse7m",
        "colab": {
          "base_uri": "https://localhost:8080/"
        },
        "outputId": "68cc8c84-98ed-49f2-f964-c007070f2ead"
      },
      "outputs": [
        {
          "output_type": "stream",
          "name": "stdout",
          "text": [
            "Looking in indexes: https://pypi.org/simple, https://us-python.pkg.dev/colab-wheels/public/simple/\n",
            "Collecting nose\n",
            "  Downloading nose-1.3.7-py3-none-any.whl (154 kB)\n",
            "\u001b[K     |████████████████████████████████| 154 kB 6.7 MB/s \n",
            "\u001b[?25hInstalling collected packages: nose\n",
            "Successfully installed nose-1.3.7\n"
          ]
        }
      ],
      "source": [
        "# Let us ensure that nose is installed.\n",
        "try:\n",
        "    from nose.tools import assert_equal, assert_true\n",
        "    from nose.tools import assert_false, assert_almost_equal\n",
        "except:\n",
        "    !pip install nose\n",
        "    from nose.tools import assert_equal, assert_true\n",
        "    from nose.tools import assert_false, assert_almost_equal\n"
      ]
    },
    {
      "cell_type": "code",
      "execution_count": 5,
      "metadata": {
        "deletable": false,
        "editable": false,
        "nbgrader": {
          "grade": false,
          "grade_id": "cell-b21595b8b53933a0",
          "locked": true,
          "schema_version": 3,
          "solution": false
        },
        "colab": {
          "base_uri": "https://localhost:8080/"
        },
        "id": "0OoIlueFse7n",
        "outputId": "43548e1f-4efe-4548-de2a-e25d45dae1d3"
      },
      "outputs": [
        {
          "output_type": "stream",
          "name": "stdout",
          "text": [
            "+---+---+---+\n",
            "|53.|.7.|...|\n",
            "|6..|195|...|\n",
            "|.98|...|.6.|\n",
            "+---+---+---+\n",
            "|8..|.6.|..3|\n",
            "|4..|8.3|..1|\n",
            "|7..|.2.|..6|\n",
            "+---+---+---+\n",
            "|.6.|...|28.|\n",
            "|...|419|..5|\n",
            "|...|.8.|.79|\n",
            "+---+---+---+\n",
            "+-----------------------------+-----------------------------+-----------------------------+\n",
            "|____5____ __3______ 123456789|123456789 ______7__ 123456789|123456789 123456789 123456789|\n",
            "|_____6___ 123456789 123456789|1________ ________9 ____5____|123456789 123456789 123456789|\n",
            "|123456789 ________9 _______8_|123456789 123456789 123456789|123456789 _____6___ 123456789|\n",
            "+-----------------------------+-----------------------------+-----------------------------+\n",
            "|_______8_ 123456789 123456789|123456789 _____6___ 123456789|123456789 123456789 __3______|\n",
            "|___4_____ 123456789 123456789|_______8_ 123456789 __3______|123456789 123456789 1________|\n",
            "|______7__ 123456789 123456789|123456789 _2_______ 123456789|123456789 123456789 _____6___|\n",
            "+-----------------------------+-----------------------------+-----------------------------+\n",
            "|123456789 _____6___ 123456789|123456789 123456789 123456789|_2_______ _______8_ 123456789|\n",
            "|123456789 123456789 123456789|___4_____ 1________ ________9|123456789 123456789 ____5____|\n",
            "|123456789 123456789 123456789|123456789 _______8_ 123456789|123456789 ______7__ ________9|\n",
            "+-----------------------------+-----------------------------+-----------------------------+\n",
            "+-----------------------------+-----------------------------+-----------------------------+\n",
            "|____5____ __3______ 123456789|123456789 ______7__ 123456789|123456789 123456789 123456789|\n",
            "|_____6___ 123456789 123456789|1________ ________9 ____5____|123456789 123456789 123456789|\n",
            "|123456789 ________9 _______8_|123456789 123456789 123456789|123456789 _____6___ 123456789|\n",
            "+-----------------------------+-----------------------------+-----------------------------+\n",
            "|_______8_ 123456789 123456789|123456789 _____6___ 123456789|123456789 123456789 __3______|\n",
            "|___4_____ 123456789 123456789|_______8_ 123456789 __3______|123456789 123456789 1________|\n",
            "|______7__ 123456789 123456789|123456789 _2_______ 123456789|123456789 123456789 _____6___|\n",
            "+-----------------------------+-----------------------------+-----------------------------+\n",
            "|123456789 _____6___ 123456789|123456789 123456789 123456789|_2_______ _______8_ 123456789|\n",
            "|123456789 123456789 123456789|___4_____ 1________ ________9|123456789 123456789 ____5____|\n",
            "|123456789 123456789 123456789|123456789 _______8_ 123456789|123456789 ______7__ ________9|\n",
            "+-----------------------------+-----------------------------+-----------------------------+\n"
          ]
        }
      ],
      "source": [
        "from nose.tools import assert_equal\n",
        "\n",
        "sd = Sudoku([\n",
        "    '53__7____',\n",
        "    '6__195___',\n",
        "    '_98____6_',\n",
        "    '8___6___3',\n",
        "    '4__8_3__1',\n",
        "    '7___2___6',\n",
        "    '_6____28_',\n",
        "    '___419__5',\n",
        "    '____8__79'\n",
        "])\n",
        "sd.show()\n",
        "sd.show(details=True)\n",
        "s = sd.to_string()\n",
        "sdd = Sudoku.from_string(s)\n",
        "sdd.show(details=True)\n",
        "assert_equal(sd, sdd)\n"
      ]
    },
    {
      "cell_type": "markdown",
      "metadata": {
        "deletable": false,
        "editable": false,
        "nbgrader": {
          "grade": false,
          "grade_id": "cell-c72158653871a613",
          "locked": true,
          "schema_version": 3,
          "solution": false
        },
        "id": "DIrf9p0Vse7n"
      },
      "source": [
        "Let's test our constructor statement when passed a Sudoku instance."
      ]
    },
    {
      "cell_type": "code",
      "execution_count": 6,
      "metadata": {
        "deletable": false,
        "editable": false,
        "nbgrader": {
          "grade": false,
          "grade_id": "cell-f5bf1a4856d70a5a",
          "locked": true,
          "schema_version": 3,
          "solution": false
        },
        "id": "OsDb3v1Bse7n"
      },
      "outputs": [],
      "source": [
        "sd1 = Sudoku(sd)\n",
        "assert_equal(sd, sd1)\n"
      ]
    },
    {
      "cell_type": "markdown",
      "metadata": {
        "deletable": false,
        "editable": false,
        "nbgrader": {
          "grade": false,
          "grade_id": "cell-83e6f3e8c87eb7ba",
          "locked": true,
          "schema_version": 3,
          "solution": false
        },
        "id": "_UA3S2Pose7n"
      },
      "source": [
        "## Constraint propagation\n",
        "\n",
        "When the set in a Sudoku cell contains only one element, this means that the digit at that cell is known. \n",
        "We can then propagate the knowledge, ruling out that digit in the same row, in the same column, and in the same 3x3 cell. \n",
        "\n",
        "We first write a method that propagates the constraint from a single cell.  The method will return the list of newly-determined cells, that is, the list of cells who also now (but not before) are associated with a 1-element set.  This is useful, because we can then propagate the constraints from those cells in turn.  Further, if an empty set is ever generated, we raise the exception Unsolvable: this means that there is no solution to the proposed Sudoku puzzle. \n",
        "\n",
        "We don't want to steal all the fun from you; thus, we will give you the main pieces of the implemenetation, but we ask you to fill in the blanks.  We provide tests so you can catch any errors right away."
      ]
    },
    {
      "cell_type": "markdown",
      "metadata": {
        "deletable": false,
        "editable": false,
        "nbgrader": {
          "grade": false,
          "grade_id": "cell-c96adc17aec7534b",
          "locked": true,
          "schema_version": 3,
          "solution": false
        },
        "id": "HOi6dTGFse7n"
      },
      "source": [
        "## Question 1: Propagating a single cell"
      ]
    },
    {
      "cell_type": "code",
      "execution_count": 7,
      "metadata": {
        "deletable": false,
        "editable": false,
        "nbgrader": {
          "grade": false,
          "grade_id": "cell-354909b98b41a7df",
          "locked": true,
          "schema_version": 3,
          "solution": false
        },
        "id": "HWo2duGcse7o"
      },
      "outputs": [],
      "source": [
        "class Unsolvable(Exception):\n",
        "    pass\n",
        "\n",
        "\n",
        "def sudoku_ruleout(self, i, j, x):\n",
        "    \"\"\"The input consists in a cell (i, j), and a value x.\n",
        "    The function removes x from the set self.m[i][j] at the cell, if present, and:\n",
        "    - if the result is empty, raises Unsolvable;\n",
        "    - if the cell used to be a non-singleton cell and is now a singleton\n",
        "      cell, then returns the set {(i, j)};\n",
        "    - otherwise, returns the empty set.\"\"\"\n",
        "    c = self.m[i][j]\n",
        "    n = len(c)\n",
        "    c.discard(x)\n",
        "    self.m[i][j] = c\n",
        "    if len(c) == 0:\n",
        "        raise Unsolvable()\n",
        "    return {(i, j)} if 1 == len(c) < n else set()\n",
        "\n",
        "Sudoku.ruleout = sudoku_ruleout\n"
      ]
    },
    {
      "cell_type": "markdown",
      "metadata": {
        "deletable": false,
        "editable": false,
        "nbgrader": {
          "grade": false,
          "grade_id": "cell-d82a5047e3490fd7",
          "locked": true,
          "schema_version": 3,
          "solution": false
        },
        "id": "SY4519ZMse7o"
      },
      "source": [
        "The method `propagate_cell(ij)` takes as input a pair `ij` of coordinates.  If the set of possible digits `self.m[i][j]` for cell i,j contains more than one digit, then no propagation is done.  If the set contains a single digit `x`, then we: \n",
        "\n",
        "* Remove `x` from the sets of all other cells on the same row, column, and 3x3 block. \n",
        "* Collect all the newly singleton cells that are formed, due to the digit `x` being removed, and we return them as a set. \n",
        "\n",
        "We give you an implementation that takes care of removing `x` from the same row, and we ask you to complete the implementation to take care of the column and 3x3 block as well."
      ]
    },
    {
      "cell_type": "code",
      "execution_count": 8,
      "metadata": {
        "deletable": false,
        "nbgrader": {
          "grade": false,
          "grade_id": "cell-1acd82e374a56793",
          "locked": false,
          "schema_version": 3,
          "solution": true
        },
        "id": "RdeNrIJzse7o"
      },
      "outputs": [],
      "source": [
        "### Exercise: define cell propagation\n",
        "\n",
        "def sudoku_propagate_cell(self, ij):\n",
        "    \"\"\"Propagates the singleton value at cell (i, j), returning the list\n",
        "    of newly-singleton cells.\"\"\"\n",
        "    i, j = ij\n",
        "    if len(self.m[i][j]) > 1:\n",
        "        # Nothing to propagate from cell (i,j).\n",
        "        return set()\n",
        "    # We keep track of the newly-singleton cells.\n",
        "    newly_singleton = set()\n",
        "    x = getel(self.m[i][j]) # Value at (i, j).\n",
        "    # Same row.\n",
        "    for jj in range(9):\n",
        "        if jj != j: # Do not propagate to the element itself.\n",
        "            newly_singleton.update(self.ruleout(i, jj, x))\n",
        "    # Same column.\n",
        "    # YOUR CODE HERE\n",
        "    for ii in range(9):\n",
        "        if ii != i:\n",
        "            newly_singleton.update(self.ruleout(ii, j, x))\n",
        "\n",
        "    # Same block of 3x3 cells.\n",
        "    ''' \n",
        "    jj = row = zz\n",
        "    ii = column == yy\n",
        "    +---+---+---+ \n",
        "    | 1 | 2 | 3 |\n",
        "    +---+---+---+\n",
        "    | 4 | 5 | 6 |\n",
        "    +---+---+---+\n",
        "    | 7 | 8 | 9 |\n",
        "    +---+---+---+\n",
        "\n",
        "    i = row \n",
        "    j = column\n",
        "    '''\n",
        "    xx = 3*(j//3) #which is 3\n",
        "    yy = 3*(i//3) #which is 0\n",
        "\n",
        "    for jj in range(xx, xx+3):\n",
        "        for ii in range(yy, yy+3):\n",
        "            if ii != i and jj !=j:\n",
        "                newly_singleton.update(self.ruleout(ii, jj, x))\n",
        "\n",
        "    # Returns the list of newly-singleton cells.\n",
        "    return newly_singleton\n",
        "\n",
        "Sudoku.propagate_cell = sudoku_propagate_cell\n",
        "\n",
        "    "
      ]
    },
    {
      "cell_type": "code",
      "execution_count": 9,
      "metadata": {
        "deletable": false,
        "nbgrader": {
          "grade": false,
          "grade_id": "cell-aa198cbbd710d937",
          "locked": false,
          "schema_version": 3,
          "solution": true
        },
        "id": "T623Rq9Use7o"
      },
      "outputs": [],
      "source": [
        "# Here you can write your own tests if you like.\n",
        "\n",
        "# YOUR CODE HERE\n"
      ]
    },
    {
      "cell_type": "code",
      "execution_count": 10,
      "metadata": {
        "deletable": false,
        "editable": false,
        "nbgrader": {
          "grade": true,
          "grade_id": "cell-489da9be13dc9f15",
          "locked": true,
          "points": 10,
          "schema_version": 3,
          "solution": false
        },
        "colab": {
          "base_uri": "https://localhost:8080/"
        },
        "id": "EYzVP0CYse7o",
        "outputId": "be01467a-7a88-4b7d-9569-f2ea63c91a8e"
      },
      "outputs": [
        {
          "output_type": "stream",
          "name": "stdout",
          "text": [
            "+-----------------------------+-----------------------------+-----------------------------+\n",
            "|____5____ __3______ _2_______|_____6___ ______7__ _______8_|________9 12_4_____ _2_______|\n",
            "|_____6___ ______7__ 12_4__7__|123______ ________9 ____5____|__3______ 12_4_____ _______8_|\n",
            "|12_______ ________9 _______8_|__3______ ___4_____ 12_______|____5____ _____6___ ______7__|\n",
            "+-----------------------------+-----------------------------+-----------------------------+\n",
            "|_______8_ ____5____ ________9|1_____7_9 _____6___ 1__4__7_9|___4_____ _2_______ __3______|\n",
            "|___4_____ _2_______ _____6___|_______8_ ____5____ __3______|______7__ ________9 1________|\n",
            "|______7__ 1________ __3______|________9 _2_______ ___4_____|_______8_ ____5____ _____6___|\n",
            "+-----------------------------+-----------------------------+-----------------------------+\n",
            "|1_______9 _____6___ 1___5_7_9|____5_7_9 __3______ ______7_9|_2_______ _______8_ ___4_____|\n",
            "|_2______9 _______8_ _2____7_9|___4_____ 1________ _2____7_9|_____6___ __3______ ____5____|\n",
            "|__3______ ___4_____ _2345____|_2__56___ _______8_ _____6___|1________ ______7__ ________9|\n",
            "+-----------------------------+-----------------------------+-----------------------------+\n",
            "Good! It was unsolvable.\n",
            "+-----------------------------+-----------------------------+-----------------------------+\n",
            "|____5____ __3______ _2_______|_____6___ ______7__ _______8_|________9 12_4_____ _23______|\n",
            "|_____6___ ______7__ 12_4__7__|123______ ________9 ____5____|__3______ 12_4_____ _______8_|\n",
            "|12_______ ________9 _______8_|__3______ ___4_____ 12_______|____5____ _____6___ ______7__|\n",
            "+-----------------------------+-----------------------------+-----------------------------+\n",
            "|_______8_ ____5____ ________9|1_____7_9 _____6___ 1__4__7_9|___4_____ _2_______ __3______|\n",
            "|___4_____ _2_______ _____6___|_______8_ ____5____ __3______|______7__ ________9 1________|\n",
            "|______7__ 1________ __3______|________9 _2_______ ___4_____|_______8_ ____5____ _____6___|\n",
            "+-----------------------------+-----------------------------+-----------------------------+\n",
            "|1_______9 _____6___ 1___5_7_9|____5_7_9 __3______ ______7_9|_2_______ _______8_ ___4_____|\n",
            "|_2______9 _______8_ _2____7_9|___4_____ 1________ _2____7_9|_____6___ __3______ ____5____|\n",
            "|__3______ ___4_____ _2345____|_2__56___ _______8_ _____6___|1________ ______7__ ________9|\n",
            "+-----------------------------+-----------------------------+-----------------------------+\n"
          ]
        }
      ],
      "source": [
        "### 10 points: Tests for cell propagation\n",
        "\n",
        "tsd = Sudoku.from_string('[[[5], [3], [2], [6], [7], [8], [9], [1, 2, 4], [2]], [[6], [7], [1, 2, 4, 7], [1, 2, 3], [9], [5], [3], [1, 2, 4], [8]], [[1, 2], [9], [8], [3], [4], [1, 2], [5], [6], [7]], [[8], [5], [9], [1, 9, 7], [6], [1, 4, 9, 7], [4], [2], [3]], [[4], [2], [6], [8], [5], [3], [7], [9], [1]], [[7], [1], [3], [9], [2], [4], [8], [5], [6]], [[1, 9], [6], [1, 5, 9, 7], [9, 5, 7], [3], [9, 7], [2], [8], [4]], [[9, 2], [8], [9, 2, 7], [4], [1], [9, 2, 7], [6], [3], [5]], [[3], [4], [2, 3, 4, 5], [2, 5, 6], [8], [6], [1], [7], [9]]]')\n",
        "tsd.show(details=True)\n",
        "try:\n",
        "    tsd.propagate_cell((0, 2))\n",
        "except Unsolvable:\n",
        "    print(\"Good! It was unsolvable.\")\n",
        "else:\n",
        "    raise Exception(\"Hey, it was unsolvable\")\n",
        "\n",
        "tsd = Sudoku.from_string('[[[5], [3], [2], [6], [7], [8], [9], [1, 2, 4], [2, 3]], [[6], [7], [1, 2, 4, 7], [1, 2, 3], [9], [5], [3], [1, 2, 4], [8]], [[1, 2], [9], [8], [3], [4], [1, 2], [5], [6], [7]], [[8], [5], [9], [1, 9, 7], [6], [1, 4, 9, 7], [4], [2], [3]], [[4], [2], [6], [8], [5], [3], [7], [9], [1]], [[7], [1], [3], [9], [2], [4], [8], [5], [6]], [[1, 9], [6], [1, 5, 9, 7], [9, 5, 7], [3], [9, 7], [2], [8], [4]], [[9, 2], [8], [9, 2, 7], [4], [1], [9, 2, 7], [6], [3], [5]], [[3], [4], [2, 3, 4, 5], [2, 5, 6], [8], [6], [1], [7], [9]]]')\n",
        "tsd.show(details=True)\n",
        "assert_equal(tsd.propagate_cell((0, 2)), {(0, 8), (2, 0)})\n",
        "\n"
      ]
    },
    {
      "cell_type": "markdown",
      "metadata": {
        "deletable": false,
        "editable": false,
        "nbgrader": {
          "grade": false,
          "grade_id": "cell-aa6224139500327b",
          "locked": true,
          "schema_version": 3,
          "solution": false
        },
        "id": "Xjxd7roWse7p"
      },
      "source": [
        "### Propagating all cells, once\n",
        "\n",
        "The simplest thing we can do is propagate each cell, once. "
      ]
    },
    {
      "cell_type": "code",
      "execution_count": 11,
      "metadata": {
        "deletable": false,
        "editable": false,
        "nbgrader": {
          "grade": false,
          "grade_id": "cell-24134be6b0141b29",
          "locked": true,
          "schema_version": 3,
          "solution": false
        },
        "id": "uxeaV1_4se7p"
      },
      "outputs": [],
      "source": [
        "def sudoku_propagate_all_cells_once(self):\n",
        "    \"\"\"This function propagates the constraints from all singletons.\"\"\"\n",
        "    for i in range(9):\n",
        "        for j in range(9):\n",
        "            self.propagate_cell((i, j))\n",
        "\n",
        "Sudoku.propagate_all_cells_once = sudoku_propagate_all_cells_once\n"
      ]
    },
    {
      "cell_type": "code",
      "execution_count": 12,
      "metadata": {
        "deletable": false,
        "editable": false,
        "nbgrader": {
          "grade": false,
          "grade_id": "cell-fac056684c9eded4",
          "locked": true,
          "schema_version": 3,
          "solution": false
        },
        "colab": {
          "base_uri": "https://localhost:8080/"
        },
        "id": "YIEBgmMvse7p",
        "outputId": "990190ad-c0b1-409a-b537-17f56eec08ff"
      },
      "outputs": [
        {
          "output_type": "stream",
          "name": "stdout",
          "text": [
            "+---+---+---+\n",
            "|53.|.7.|...|\n",
            "|6..|195|...|\n",
            "|.98|...|.6.|\n",
            "+---+---+---+\n",
            "|8..|.6.|..3|\n",
            "|4..|8.3|..1|\n",
            "|7..|.2.|..6|\n",
            "+---+---+---+\n",
            "|.6.|...|28.|\n",
            "|...|419|..5|\n",
            "|...|.8.|.79|\n",
            "+---+---+---+\n",
            "+---+---+---+\n",
            "|53.|.7.|...|\n",
            "|6..|195|...|\n",
            "|.98|...|.6.|\n",
            "+---+---+---+\n",
            "|8..|.6.|..3|\n",
            "|4..|853|..1|\n",
            "|7..|.2.|..6|\n",
            "+---+---+---+\n",
            "|.6.|..7|284|\n",
            "|...|419|.35|\n",
            "|...|.8.|.79|\n",
            "+---+---+---+\n",
            "+-----------------------------+-----------------------------+-----------------------------+\n",
            "|____5____ __3______ 12_4_____|_2___6___ ______7__ _2_4_6_8_|1__4___89 12_4____9 _2_4___8_|\n",
            "|_____6___ _2_4__7__ _2_4__7__|1________ ________9 ____5____|__34__78_ _234_____ _2_4__78_|\n",
            "|12_______ ________9 _______8_|_23______ __34_____ _2_4_____|1_345_7__ _____6___ _2_4__7__|\n",
            "+-----------------------------+-----------------------------+-----------------------------+\n",
            "|_______8_ 12__5____ 12__5___9|____5_7_9 _____6___ 1__4__7__|___45_7_9 _2_45___9 __3______|\n",
            "|___4_____ _2__5____ _2__56__9|_______8_ ____5____ __3______|____5_7_9 _2__5___9 1________|\n",
            "|______7__ 1___5____ 1_3_5___9|____5___9 _2_______ 1__4_____|___45__89 ___45___9 _____6___|\n",
            "+-----------------------------+-----------------------------+-----------------------------+\n",
            "|1_3_____9 _____6___ 1_345_7_9|__3_5_7__ __3_5____ ______7__|_2_______ _______8_ ___4_____|\n",
            "|_23______ _2____78_ _23___7__|___4_____ 1________ ________9|__3__6___ __3______ ____5____|\n",
            "|123______ 12_45____ 12345____|_23_56___ _______8_ _2___6___|1_34_6___ ______7__ ________9|\n",
            "+-----------------------------+-----------------------------+-----------------------------+\n"
          ]
        }
      ],
      "source": [
        "sd = Sudoku([\n",
        "    '53__7____',\n",
        "    '6__195___',\n",
        "    '_98____6_',\n",
        "    '8___6___3',\n",
        "    '4__8_3__1',\n",
        "    '7___2___6',\n",
        "    '_6____28_',\n",
        "    '___419__5',\n",
        "    '____8__79'\n",
        "])\n",
        "sd.show()\n",
        "sd.propagate_all_cells_once()\n",
        "sd.show()\n",
        "sd.show(details=True)\n"
      ]
    },
    {
      "cell_type": "markdown",
      "metadata": {
        "deletable": false,
        "editable": false,
        "nbgrader": {
          "grade": false,
          "grade_id": "cell-243b1b1c93a239b6",
          "locked": true,
          "schema_version": 3,
          "solution": false
        },
        "id": "egZvOwvBse7p"
      },
      "source": [
        "## Question 2: Propagating all cells, repeatedly\n",
        "\n",
        "This is a good beginning, but it's not quite enough. \n",
        "As we propagate the constraints, cells that did not use to be singletons may have become singletons.  For eample, in the above example, the center cell has become known to be a 5: we need to make sure that also these singletons are propagated. \n",
        "\n",
        "This is why we have written propagate_cell so that it returns the set of newly-singleton cells.  \n",
        "We need now to write a method `full_propagation` that at the beginning starts with a set of `to_propagate` cells (if it is not specified, then we just take it to consist of all singleton cells).  Then, it picks a cell from the to_propagate set, and propagates from it, adding any newly singleton cell to to_propagate.  Once there are no more cells to be propagated, the method returns. \n",
        "If this sounds similar to graph reachability, it is ... because it is!  It is once again the algorithmic pattern of keeping a list of work to be done, then iteratively picking an element from the list, doing it, possibly updating the list of work to be done with new work that has to be done as a result of what we just did, and continuing in this fashion until there is nothing left to do. \n",
        "We will let you write this function.  The portion you have to write can be done in three lines of code."
      ]
    },
    {
      "cell_type": "code",
      "execution_count": 13,
      "metadata": {
        "deletable": false,
        "nbgrader": {
          "grade": false,
          "grade_id": "cell-583b0f900c478a",
          "locked": false,
          "schema_version": 3,
          "solution": true
        },
        "id": "2FTEMSg_se7p"
      },
      "outputs": [],
      "source": [
        "### Exercise: define full propagation\n",
        "\n",
        "def sudoku_full_propagation(self, to_propagate=None):\n",
        "    \"\"\"Iteratively propagates from all singleton cells, and from all\n",
        "    newly discovered singleton cells, until no more propagation is possible.\n",
        "    @param to_propagate: sets of cells from where to propagate.  If None, propagates\n",
        "        from all singleton cells.\n",
        "    @return: nothing.\n",
        "    \"\"\"\n",
        "    if to_propagate is None:\n",
        "        to_propagate = {(i, j) for i in range(9) for j in range(9)}\n",
        "    # This code is the (A) code; will be referenced later.\n",
        "    # YOUR CODE HERE\n",
        "    '''\n",
        "    while len(to_propagate) > 0: # run until no more propagation is possible\n",
        "        for i, j in set(to_propagate): # creating a copy of to_propagate and using it to iterate through while we edit the actual to_propagate set\n",
        "            to_propagate.update(self.propagate_cell((i, j))) # add any new singletons to to_propagate\n",
        "            to_propagate.remove((i, j)) #remove this cell out of to_propagate, for now\n",
        "    '''\n",
        "    while len(to_propagate) > 0:\n",
        "        var1 = to_propagate.pop()\n",
        "        var2 = self.propagate_cell(var1)\n",
        "        to_propagate.update(var2)\n",
        "\n",
        "Sudoku.full_propagation = sudoku_full_propagation\n"
      ]
    },
    {
      "cell_type": "code",
      "execution_count": 14,
      "metadata": {
        "deletable": false,
        "nbgrader": {
          "grade": false,
          "grade_id": "cell-eb405eb761156552",
          "locked": false,
          "schema_version": 3,
          "solution": true
        },
        "id": "mGEejpoCse7p"
      },
      "outputs": [],
      "source": [
        "# Here you can write your own tests if you like.\n",
        "\n",
        "# YOUR CODE HERE\n"
      ]
    },
    {
      "cell_type": "code",
      "execution_count": 15,
      "metadata": {
        "deletable": false,
        "editable": false,
        "nbgrader": {
          "grade": true,
          "grade_id": "cell-738c16c57871821",
          "locked": true,
          "points": 10,
          "schema_version": 3,
          "solution": false
        },
        "colab": {
          "base_uri": "https://localhost:8080/"
        },
        "id": "1hJUNOqase7q",
        "outputId": "66e39063-92ac-4a03-ea4c-38b6367e1350"
      },
      "outputs": [
        {
          "output_type": "stream",
          "name": "stdout",
          "text": [
            "+-----------------------------+-----------------------------+-----------------------------+\n",
            "|____5____ __3______ ___4_____|_____6___ ______7__ _______8_|________9 1________ _2_______|\n",
            "|_____6___ ______7__ _2_______|1________ ________9 ____5____|__3______ ___4_____ _______8_|\n",
            "|1________ ________9 _______8_|__3______ ___4_____ _2_______|____5____ _____6___ ______7__|\n",
            "+-----------------------------+-----------------------------+-----------------------------+\n",
            "|_______8_ ____5____ ________9|______7__ _____6___ 1________|___4_____ _2_______ __3______|\n",
            "|___4_____ _2_______ _____6___|_______8_ ____5____ __3______|______7__ ________9 1________|\n",
            "|______7__ 1________ __3______|________9 _2_______ ___4_____|_______8_ ____5____ _____6___|\n",
            "+-----------------------------+-----------------------------+-----------------------------+\n",
            "|________9 _____6___ 1________|____5____ __3______ ______7__|_2_______ _______8_ ___4_____|\n",
            "|_2_______ _______8_ ______7__|___4_____ 1________ ________9|_____6___ __3______ ____5____|\n",
            "|__3______ ___4_____ ____5____|_2_______ _______8_ _____6___|1________ ______7__ ________9|\n",
            "+-----------------------------+-----------------------------+-----------------------------+\n"
          ]
        }
      ],
      "source": [
        "### 10 points: Tests for full propagation\n",
        "\n",
        "sd = Sudoku([\n",
        "    '53__7____',\n",
        "    '6__195___',\n",
        "    '_98____6_',\n",
        "    '8___6___3',\n",
        "    '4__8_3__1',\n",
        "    '7___2___6',\n",
        "    '_6____28_',\n",
        "    '___419__5',\n",
        "    '____8__79'\n",
        "])\n",
        "sd.full_propagation()\n",
        "sd.show(details=True)\n",
        "sdd = Sudoku.from_string('[[[5], [3], [4], [6], [7], [8], [9], [1], [2]], [[6], [7], [2], [1], [9], [5], [3], [4], [8]], [[1], [9], [8], [3], [4], [2], [5], [6], [7]], [[8], [5], [9], [7], [6], [1], [4], [2], [3]], [[4], [2], [6], [8], [5], [3], [7], [9], [1]], [[7], [1], [3], [9], [2], [4], [8], [5], [6]], [[9], [6], [1], [5], [3], [7], [2], [8], [4]], [[2], [8], [7], [4], [1], [9], [6], [3], [5]], [[3], [4], [5], [2], [8], [6], [1], [7], [9]]]')\n",
        "assert_equal(sd, sdd)\n",
        "\n"
      ]
    },
    {
      "cell_type": "markdown",
      "metadata": {
        "deletable": false,
        "editable": false,
        "nbgrader": {
          "grade": false,
          "grade_id": "cell-3c0c8332e5503fda",
          "locked": true,
          "schema_version": 3,
          "solution": false
        },
        "id": "vXwSgPv_se7q"
      },
      "source": [
        "We solved our example problem!  Constraint propagation, iterated, led us to the solution!"
      ]
    },
    {
      "cell_type": "markdown",
      "metadata": {
        "deletable": false,
        "editable": false,
        "nbgrader": {
          "grade": false,
          "grade_id": "cell-f77bc2361c340d3f",
          "locked": true,
          "schema_version": 3,
          "solution": false
        },
        "id": "mlCIl9CQse7q"
      },
      "source": [
        "## Searching for a solution\n",
        "\n",
        "Many Sudoku problems can be solved entirely by constraint propagation.  \n",
        "They are designed to be so: they are designed to be relatively easy, so that humans can solve them while on a lounge chair at the beach -- I know this from personal experience! \n",
        "\n",
        "But it is by no means necessary that this is true. \n",
        "If we create more complex problems, or less determined problems, constraint propagation no longer suffices. \n",
        "As a simple example, let's just blank some cells in the previous problem, and run full propagation again:"
      ]
    },
    {
      "cell_type": "code",
      "execution_count": 16,
      "metadata": {
        "deletable": false,
        "editable": false,
        "nbgrader": {
          "grade": false,
          "grade_id": "cell-b7848ff3708f0428",
          "locked": true,
          "schema_version": 3,
          "solution": false
        },
        "colab": {
          "base_uri": "https://localhost:8080/"
        },
        "id": "ym9TSP5Cse7q",
        "outputId": "dd26b613-103e-4589-c5cc-d66b06bb8298"
      },
      "outputs": [
        {
          "output_type": "stream",
          "name": "stdout",
          "text": [
            "+---+---+---+\n",
            "|53.|.7.|...|\n",
            "|6..|.95|...|\n",
            "|.98|...|.6.|\n",
            "+---+---+---+\n",
            "|8..|.6.|..3|\n",
            "|4..|8.3|..1|\n",
            "|7..|.2.|..6|\n",
            "+---+---+---+\n",
            "|.6.|...|28.|\n",
            "|...|41.|..5|\n",
            "|...|.8.|.79|\n",
            "+---+---+---+\n",
            "+-----------------------------+-----------------------------+-----------------------------+\n",
            "|____5____ __3______ 12_4_____|12___6___ ______7__ 12___6_8_|___4___89 12_4_____ _2_____8_|\n",
            "|_____6___ 1__4__7__ 12_4__7__|123______ ________9 ____5____|__34___8_ 12_4_____ _2____78_|\n",
            "|12_______ ________9 _______8_|123______ ___4_____ 12_______|__3_5____ _____6___ _2____7__|\n",
            "+-----------------------------+-----------------------------+-----------------------------+\n",
            "|_______8_ 1___5____ 1___5___9|1_____7_9 _____6___ 1__4__7_9|___45____ _2_45____ __3______|\n",
            "|___4_____ _2_______ _____6___|_______8_ ____5____ __3______|______7__ ________9 1________|\n",
            "|______7__ 1___5____ 1_3_5___9|1_______9 _2_______ 1__4____9|___45__8_ ___45____ _____6___|\n",
            "+-----------------------------+-----------------------------+-----------------------------+\n",
            "|1_______9 _____6___ 1___5_7_9|____5_7_9 __3______ ______7_9|_2_______ _______8_ ___4_____|\n",
            "|_2______9 ______78_ _2____7_9|___4_____ 1________ _2____7_9|_____6___ __3______ ____5____|\n",
            "|_23______ ___45____ _2345____|_2__56___ _______8_ _2___6___|1________ ______7__ ________9|\n",
            "+-----------------------------+-----------------------------+-----------------------------+\n"
          ]
        }
      ],
      "source": [
        "sd = Sudoku([\n",
        "    '53__7____',\n",
        "    '6___95___',\n",
        "    '_98____6_',\n",
        "    '8___6___3',\n",
        "    '4__8_3__1',\n",
        "    '7___2___6',\n",
        "    '_6____28_',\n",
        "    '___41___5',\n",
        "    '____8__79'\n",
        "])\n",
        "sd.show()\n",
        "sd.full_propagation()\n",
        "sd.show(details=True)\n"
      ]
    },
    {
      "cell_type": "markdown",
      "metadata": {
        "deletable": false,
        "editable": false,
        "nbgrader": {
          "grade": false,
          "grade_id": "cell-671c8e2956c91d58",
          "locked": true,
          "schema_version": 3,
          "solution": false
        },
        "id": "QlWz0HSHse7q"
      },
      "source": [
        "As we see, there are still undetermined values.  We can peek into the detailed state of the solution:\n"
      ]
    },
    {
      "cell_type": "code",
      "execution_count": 17,
      "metadata": {
        "deletable": false,
        "editable": false,
        "nbgrader": {
          "grade": false,
          "grade_id": "cell-72c066fad7387e0f",
          "locked": true,
          "schema_version": 3,
          "solution": false
        },
        "colab": {
          "base_uri": "https://localhost:8080/"
        },
        "id": "w7zB5opEse7q",
        "outputId": "3d5fc38d-b9d1-42fa-c77b-c8d38a5a8985"
      },
      "outputs": [
        {
          "output_type": "stream",
          "name": "stdout",
          "text": [
            "+-----------------------------+-----------------------------+-----------------------------+\n",
            "|____5____ __3______ 12_4_____|12___6___ ______7__ 12___6_8_|___4___89 12_4_____ _2_____8_|\n",
            "|_____6___ 1__4__7__ 12_4__7__|123______ ________9 ____5____|__34___8_ 12_4_____ _2____78_|\n",
            "|12_______ ________9 _______8_|123______ ___4_____ 12_______|__3_5____ _____6___ _2____7__|\n",
            "+-----------------------------+-----------------------------+-----------------------------+\n",
            "|_______8_ 1___5____ 1___5___9|1_____7_9 _____6___ 1__4__7_9|___45____ _2_45____ __3______|\n",
            "|___4_____ _2_______ _____6___|_______8_ ____5____ __3______|______7__ ________9 1________|\n",
            "|______7__ 1___5____ 1_3_5___9|1_______9 _2_______ 1__4____9|___45__8_ ___45____ _____6___|\n",
            "+-----------------------------+-----------------------------+-----------------------------+\n",
            "|1_______9 _____6___ 1___5_7_9|____5_7_9 __3______ ______7_9|_2_______ _______8_ ___4_____|\n",
            "|_2______9 ______78_ _2____7_9|___4_____ 1________ _2____7_9|_____6___ __3______ ____5____|\n",
            "|_23______ ___45____ _2345____|_2__56___ _______8_ _2___6___|1________ ______7__ ________9|\n",
            "+-----------------------------+-----------------------------+-----------------------------+\n"
          ]
        }
      ],
      "source": [
        "sd.show(details=True)\n",
        "# Let's save this Sudoku for later.\n",
        "sd_partially_solved = Sudoku(sd)\n"
      ]
    },
    {
      "cell_type": "markdown",
      "metadata": {
        "deletable": false,
        "editable": false,
        "nbgrader": {
          "grade": false,
          "grade_id": "cell-e84f063b90f06c39",
          "locked": true,
          "schema_version": 3,
          "solution": false
        },
        "id": "xemnw9PHse7r"
      },
      "source": [
        "What can we do when constraint propagation fails? \n",
        "The only thing we can do is make a guess.  We can take one of the cells whose set contains multiple digits, such as cell (2, 0) (starting counting at 0, as in Python), which contains $\\{1, 2\\}$, and try one of the values, for instance $1$.  \n",
        "We can see whether assigning to the cell the singleton set $\\{1\\}$ leads to the solution. \n",
        "If not, we try the value $\\{2\\}$ instead. \n",
        "If the Sudoku problem has a solution, one of these two values must work. \n",
        "\n",
        "Classically, this way of searching for a solution has been called search with _backtracking._\n",
        "The backtracking is because we can choose a value, say $1$, and then do a lot of work, propagating the new constraint, making further guesses, and so on and so forth.  If that does not pan out, we must \"backtrack\" and return to our guess, choosing (in our example) $2$ instead. \n",
        "\n",
        "Let us implement search with backtracking.  What we need to do is something like this: \n",
        "\n",
        "search():\n",
        "1. propagate constraints.\n",
        "1. if solved, hoorrayy!\n",
        "1. if impossible, raise Unsolvable()\n",
        "1. if not fully solved, pick a cell with multiple digits possible, and iteratively:\n",
        " * Assign one of the possible values to the cell. \n",
        " * Call search() with that value for the cell.\n",
        " * If Unsolvable is raised by the search() call, move on to the next value.\n",
        " * If all values returned Unsolvable (if we tried them all), then we raise Unsolvable.\n",
        "\n",
        "So we see that search() is a recursive function.  \n",
        "From the pseudo-code above, we see that it might be better to pick a cell with few values possible at step 4 above, so as to make our chances of success as good as possible.  For instance, it is much better to choose a cell with set $\\{1, 2\\}$ than one with set $\\{1, 3, 5, 6, 7, 9\\}$, as the probability of success is $1/2$ in the first case and $1/6$ in the second case. \n",
        "Of course, it may be possible to come up with much better heuristics to guide our search, but this will have to do so far. \n",
        "\n",
        "One fine point with the search above is the following.  So far, an object has a self.m matrix, which contains the status of the Sudoku solution. \n",
        "We cannot simply pass self.m recursively to search(), because in the course of the search and constraint propagation, self.m will be modified, and there is no easy way to keep track of these modifications. \n",
        "Rather, we will write search() as a method, and when we call it, we will:\n",
        "\n",
        "* First, create a copy of the current object via the Sudoku constructor, so we have a copy we can modify. \n",
        "* Second, we assign one of the values to the cell, as above; \n",
        "* Third, we will call the search() method of that object. \n",
        "\n",
        "Furthermore, when a solution is found, as in the hoorraay! above, we need to somehow return the solution. \n",
        "There are two ways of doing this: via standard returns, or by raising an exception. \n"
      ]
    },
    {
      "cell_type": "code",
      "execution_count": 18,
      "metadata": {
        "deletable": false,
        "editable": false,
        "nbgrader": {
          "grade": false,
          "grade_id": "cell-b511e916f91f5a13",
          "locked": true,
          "schema_version": 3,
          "solution": false
        },
        "id": "0clg_GUGse7r"
      },
      "outputs": [],
      "source": [
        "def sudoku_done(self):\n",
        "    \"\"\"Checks whether an instance of Sudoku is solved.\"\"\"\n",
        "    for i in range(9):\n",
        "        for j in range(9):\n",
        "            if len(self.m[i][j]) > 1:\n",
        "                return False\n",
        "    return True\n",
        "\n",
        "Sudoku.done = sudoku_done\n",
        "\n",
        "\n",
        "def sudoku_search(self, new_cell=None):\n",
        "    \"\"\"Tries to solve a Sudoku instance.\"\"\"\n",
        "    to_propagate = None if new_cell is None else {new_cell}\n",
        "    self.full_propagation(to_propagate=to_propagate)\n",
        "    if self.done():\n",
        "        return self # We are a solution\n",
        "    # We need to search.  Picks a cell with as few candidates as possible.\n",
        "    candidates = [(len(self.m[i][j]), i, j)\n",
        "                   for i in range(9) for j in range(9) if len(self.m[i][j]) > 1]\n",
        "    _, i, j = min(candidates)\n",
        "    values = self.m[i][j]\n",
        "    # values contains the list of values we need to try for cell i, j.\n",
        "    # print(\"Searching values\", values, \"for cell\", i, j)\n",
        "    for x in values:\n",
        "        # print(\"Trying value\", x)\n",
        "        sd = Sudoku(self)\n",
        "        sd.m[i][j] = {x}\n",
        "        try:\n",
        "            # If we find a solution, we return it.\n",
        "            return sd.search(new_cell=(i, j))\n",
        "        except Unsolvable:\n",
        "            # Go to next value.\n",
        "            pass\n",
        "    # All values have been tried, apparently with no success.\n",
        "    raise Unsolvable()\n",
        "\n",
        "Sudoku.search = sudoku_search\n",
        "\n",
        "\n",
        "def sudoku_solve(self, do_print=True):\n",
        "    \"\"\"Wrapper function, calls self and shows the solution if any.\"\"\"\n",
        "    try:\n",
        "        r = self.search()\n",
        "        if do_print:\n",
        "            print(\"We found a solution:\")\n",
        "            r.show()\n",
        "            return r\n",
        "    except Unsolvable:\n",
        "        if do_print:\n",
        "            print(\"The problem has no solutions\")\n",
        "\n",
        "Sudoku.solve = sudoku_solve\n"
      ]
    },
    {
      "cell_type": "markdown",
      "metadata": {
        "deletable": false,
        "editable": false,
        "nbgrader": {
          "grade": false,
          "grade_id": "cell-9d7fe10c9bbbd19d",
          "locked": true,
          "schema_version": 3,
          "solution": false
        },
        "id": "_PL_LV6Vse7s"
      },
      "source": [
        "Let us try this on our previous Sudoku problem that was not solvable via constraint propagation alone."
      ]
    },
    {
      "cell_type": "code",
      "execution_count": 19,
      "metadata": {
        "deletable": false,
        "editable": false,
        "nbgrader": {
          "grade": false,
          "grade_id": "cell-54239e147e7e7693",
          "locked": true,
          "schema_version": 3,
          "solution": false
        },
        "colab": {
          "base_uri": "https://localhost:8080/"
        },
        "id": "h3jPs6yWse7s",
        "outputId": "c423df78-3ba9-4391-9770-8b5b040c1d7b"
      },
      "outputs": [
        {
          "output_type": "stream",
          "name": "stdout",
          "text": [
            "We found a solution:\n",
            "+---+---+---+\n",
            "|531|678|942|\n",
            "|674|295|318|\n",
            "|298|341|567|\n",
            "+---+---+---+\n",
            "|859|167|423|\n",
            "|426|853|791|\n",
            "|713|924|856|\n",
            "+---+---+---+\n",
            "|165|739|284|\n",
            "|987|412|635|\n",
            "|342|586|179|\n",
            "+---+---+---+\n"
          ]
        }
      ],
      "source": [
        "sd = Sudoku([\n",
        "    '53__7____',\n",
        "    '6___95___',\n",
        "    '_98____6_',\n",
        "    '8___6___3',\n",
        "    '4__8_3__1',\n",
        "    '7___2___6',\n",
        "    '_6____28_',\n",
        "    '___41___5',\n",
        "    '____8__79'\n",
        "])\n",
        "_ = sd.solve()\n"
      ]
    },
    {
      "cell_type": "markdown",
      "metadata": {
        "deletable": false,
        "editable": false,
        "nbgrader": {
          "grade": false,
          "grade_id": "cell-a0a7212a0c441bc6",
          "locked": true,
          "schema_version": 3,
          "solution": false
        },
        "id": "z43yIQLsse7s"
      },
      "source": [
        "It works, search with constraint propagation solved the Sudoku puzzle!"
      ]
    },
    {
      "cell_type": "markdown",
      "metadata": {
        "deletable": false,
        "editable": false,
        "nbgrader": {
          "grade": false,
          "grade_id": "cell-8efa7ff885279fce",
          "locked": true,
          "schema_version": 3,
          "solution": false
        },
        "id": "k5KWmXL0se7s"
      },
      "source": [
        "## The choice - constraint propagation - recursion paradigm.\n",
        "\n",
        "We have learned a general strategy for solving difficult problems.  The strategy can be summarized thus: **choice - constraint propagation - recursion.** \n",
        "\n",
        "In the _choice_ step, we make one guess from a set of possible guesses.  If we want our search for a solution to be exhaustive, as in the above Sudoku example, we ensure that we try iteratively all choices from a set of choices chosen so that at least one of them must succeed.  In the above example, we know that at least one of the digit values must be the true one, hence our search is exhaustive.  In other cases, we can trade off exhaustiveness for efficiency, and we may try only a few choices, guided perhaps by an heuristic. \n",
        "\n",
        "The _constraint propagation_ step propagates the consequences of the choice to the problem.  Each choice thus gives rise to a new problem, which is a little bit simpler than the original one as some of the possible choices, that is, some of its complexity, has been removed.  In the Sudoku case, the new problem has less indetermination, as at least one more of its cells has a known digit in it. \n",
        "\n",
        "The problems resulting from _constraint propagation_, while simpler, may not be solved yet.  Hence, we _recur_, calling the solution procedure on them as well.  As these problems are simpler (they contain fewer choices), eventually the recursion must reach a point where no more choice is possible, and whether constraint propagation should yield a completely defined problem, one of which it is possible to say whether it is solvable or not with a trivial test.  This forms the base case for the recursion. \n",
        "\n",
        "This solution strategy applies very generally, to problems well beyond Sudoku."
      ]
    },
    {
      "cell_type": "markdown",
      "metadata": {
        "deletable": false,
        "editable": false,
        "nbgrader": {
          "grade": false,
          "grade_id": "cell-7680e5de6405bef7",
          "locked": true,
          "schema_version": 3,
          "solution": false
        },
        "id": "-Nj3soZbse7s"
      },
      "source": [
        "## Part 2: Digits must go somewhere\n",
        "\n",
        "If you have played Sudoku before, you might have found the way we solved Sudoku puzzles a bit odd. \n",
        "The constraint we encoded is: \n",
        "\n",
        "> If a digit appears in a cell, it cannot appear anywhere else on the same row, column, or 3x3 block as the cell. \n",
        "\n",
        "This _is_ a rule of Sudoku.  Normally, however, we hear Sudoku described in a different way:\n",
        "\n",
        "> Every column, row, and 3x3 block should contain all the 1...9 digits exactly once.\n",
        "\n",
        "There are two questions.  The first is: are the two definitions equivalent? \n",
        "Well, no; the first definition does not say what the digits are (e.g., does not rule out 0).  But in our Sudoku representation, we _start_ by saying that every cell can contain only one of 1...9.  If every row (or column, or 3x3 block) cannot contain more than one repetition of each digit, and if there are 9 digits and 9 cells in the row (or column, or block), then clearly every digit must appear exactly once in the row (or column, or block).  So once the set of digits is specified, the two definitions are equivalent. \n",
        "\n",
        "The second question is: but still, what happens to the method we usually employ to solve Sudoku? \n",
        "I generally don't solve Sudoku puzzles by focusing on one cell at a time, and thinking: is it the case that this call can contain only one digit? \n",
        "This is the strategy employed by the solver above.  But it is not the strategy I normally use. \n",
        "I generally solve Sudoku puzzles by looking at a block (or row, or column), and thinking: let's consider the digit $k$ ($1 \\leq k \\leq 9$).  Where can it go in the block?  And if I find that the digit can go in one block cell only, I write it there.  \n",
        "Does the solver work even without this \"where can it go\" strategy?  And can we make it follow it? \n",
        "\n",
        "The solver works even without the \"where can it go\" strategy because it exaustively tries all possibilities.  This means the solver works without the strategy; it does not say that the solver works _well_ without the strategy. \n",
        "\n",
        "We can certainly implement the _where can it go_ strategy, as part of constraint propagation; it would make our solver more efficient. \n"
      ]
    },
    {
      "cell_type": "markdown",
      "metadata": {
        "deletable": false,
        "editable": false,
        "nbgrader": {
          "grade": false,
          "grade_id": "cell-6cfd79647dce92da",
          "locked": true,
          "schema_version": 3,
          "solution": false
        },
        "id": "bvojr7tRse7s"
      },
      "source": [
        "## Question 3: A better `full_propagation` method\n",
        "### Not a real question; just copy some previous code into a new method.\n",
        "There is a subtle point in applying the _where can it go_ heuristics. \n",
        "\n",
        "Before, when our only constraint was the uniqueness in each row, column, and block, we needed to propagate only from cells that hold a singleton value. \n",
        "If a cell held a non-singleton set of digits, such as $\\{2, 5\\}$, no values could be ruled out as a consequence of this on the same row, column, or block. \n",
        "\n",
        "The _where can it go_ heuristic, instead, benefits from knowing that in a cell, the set of values went for instance from $\\{2, 3, 5\\}$ to $\\{2, 5\\}$: by ruling out the possibility of a $3$ in this cell, it may be possibe to deduct that the digit $3$ can appear in only one (other) place in the block, and place it there. \n",
        "\n",
        "Thus, we modify the `full_propagation` method.  The method does:\n",
        "* Repeat:\n",
        "  * first does propagation as before, based on singletons; \n",
        "  * then, it applies the _where can it go_ heuristic on the whole Sudoku board. \n",
        "* until there is nothing more that can be propagated. \n",
        "\n",
        "Thus, we replace the `full_propagation` method previously defined with this new one, where the (A) block of code is what you previously wrote in `full_propagation`.\n",
        "You don't need to write new code here: just copy your solution for `full_propagation` into the (A) block below. "
      ]
    },
    {
      "cell_type": "code",
      "execution_count": 20,
      "metadata": {
        "deletable": false,
        "nbgrader": {
          "grade": false,
          "grade_id": "cell-17996bad0746d36a",
          "locked": false,
          "schema_version": 3,
          "solution": true
        },
        "id": "l2oqm-SYse7t"
      },
      "outputs": [],
      "source": [
        "### Exercise: define full propagation with where can it go\n",
        "\n",
        "def sudoku_full_propagation_with_where_can_it_go(self, to_propagate=None):\n",
        "    \"\"\"Iteratively propagates from all singleton cells, and from all\n",
        "    newly discovered singleton cells, until no more propagation is possible.\"\"\"\n",
        "    if to_propagate is None:\n",
        "        to_propagate = {(i, j) for i in range(9) for j in range(9)}\n",
        "\n",
        "    while len(to_propagate) > 0:\n",
        "        # Here is your previous solution code from (A) in full_propagation.\n",
        "        # Please copy it below. No change is required.\n",
        "        # YOUR CODE HERE\n",
        "        while len(to_propagate) > 0:\n",
        "            var1 = to_propagate.pop()\n",
        "            var2 = self.propagate_cell(var1)\n",
        "            to_propagate.update(var2)\n",
        "\n",
        "        # Now we check whether there is any other propagation that we can\n",
        "        # get from the where can it go rule.\n",
        "        to_propagate = self.where_can_it_go()\n",
        "\n"
      ]
    },
    {
      "cell_type": "markdown",
      "metadata": {
        "deletable": false,
        "editable": false,
        "nbgrader": {
          "grade": false,
          "grade_id": "cell-4117539806a4cc86",
          "locked": true,
          "schema_version": 3,
          "solution": false
        },
        "id": "0ku2SJbose7t"
      },
      "source": [
        "## Question 4: Implement the `occurs_once_in_sets` helper"
      ]
    },
    {
      "cell_type": "markdown",
      "metadata": {
        "deletable": false,
        "editable": false,
        "nbgrader": {
          "grade": false,
          "grade_id": "cell-45724a9040b84b52",
          "locked": true,
          "schema_version": 3,
          "solution": false
        },
        "id": "pQxNgi2Sse7t"
      },
      "source": [
        "To implement the `where_can_it_go` method, let us write a helper function, or better, let's have you write it.  Given a sequence of sets $S_1, S_2, \\ldots, S_n$, we want to obtain the set of elements that appear in _exactly one_ of the sets (that is, they appear in one set, and _only_ in one set).   Mathematically, we can write this as \n",
        "$$\n",
        "(S_1 \\setminus (S_2 \\cup \\cdots \\cup S_n)) \\cup (S_2 \\setminus (S_1 \\cup S_3 \\cup \\cdots \\cup S_n)) \\cup \\cdots \\cup\n",
        "(S_n \\setminus (S_1 \\cup \\cdots \\cup S_{n-1}))\n",
        "$$\n",
        "even though that's certainly not the easiest way to compute it!\n",
        "The problem can be solved with the help of [defaultdict](https://docs.python.org/3/library/collections.html#collections.defaultdict!) to count the occurrences, and is 5 lines long.\n",
        "Of course, other solutions are possible as well. \n"
      ]
    },
    {
      "cell_type": "code",
      "execution_count": 21,
      "metadata": {
        "deletable": false,
        "nbgrader": {
          "grade": false,
          "grade_id": "cell-c308d18b00c624f9",
          "locked": false,
          "schema_version": 3,
          "solution": true
        },
        "id": "aPIrvbYnse7u"
      },
      "outputs": [],
      "source": [
        "### Exercise: define helper function to check once-only occurrence\n",
        "\n",
        "from collections import defaultdict\n",
        "\n",
        "def occurs_once_in_sets(set_sequence):\n",
        "    \"\"\"Returns the elements that occur only once in the sequence of sets set_sequence.\n",
        "    The elements are returned as a set.\"\"\"\n",
        "    # YOUR CODE HERE\n",
        "    dict_of_numbers = defaultdict(int) # construct a defaultdict so that we do not have to manually initialize elements of the dictionary\n",
        "    for s in set_sequence: # loop through the list, set_sequence, to access each set\n",
        "        for n in s: dict_of_numbers[n] += 1 # loop through each number of the set and increment its corresponding dictionary key by 1\n",
        "    set_of_singles = {k for k in dict_of_numbers if dict_of_numbers[k] == 1} #create a set of the numbers in the dictionary that have a value of 1 count\n",
        "    return set_of_singles\n"
      ]
    },
    {
      "cell_type": "code",
      "execution_count": 22,
      "metadata": {
        "deletable": false,
        "nbgrader": {
          "grade": false,
          "grade_id": "cell-9250bf6d19ca8d8",
          "locked": false,
          "schema_version": 3,
          "solution": true
        },
        "id": "TT6q04Muse7u"
      },
      "outputs": [],
      "source": [
        "# Here you can write your own tests if you like.\n",
        "\n",
        "# YOUR CODE HERE\n"
      ]
    },
    {
      "cell_type": "markdown",
      "metadata": {
        "deletable": false,
        "editable": false,
        "nbgrader": {
          "grade": false,
          "grade_id": "cell-b94cca1c6e08a420",
          "locked": true,
          "schema_version": 3,
          "solution": false
        },
        "id": "MIAtNMqtse7u"
      },
      "source": [
        "Let us test it."
      ]
    },
    {
      "cell_type": "code",
      "execution_count": 23,
      "metadata": {
        "deletable": false,
        "editable": false,
        "nbgrader": {
          "grade": true,
          "grade_id": "cell-41e09f39b82b0a78",
          "locked": true,
          "points": 10,
          "schema_version": 3,
          "solution": false
        },
        "id": "_XxF6jeIse7u"
      },
      "outputs": [],
      "source": [
        "### 10 points: Tests for once-only\n",
        "\n",
        "from nose.tools import assert_equal\n",
        "\n",
        "assert_equal(occurs_once_in_sets([{1, 2}, {2, 3}]), {1, 3})\n",
        "assert_equal(occurs_once_in_sets([]), set())\n",
        "assert_equal(occurs_once_in_sets([{2, 3, 4}]), {2, 3, 4})\n",
        "assert_equal(occurs_once_in_sets([set()]), set())\n",
        "assert_equal(occurs_once_in_sets([{2, 3, 4, 5, 6}, {5, 6, 7, 8}, {5, 6, 7}, {4, 6, 7}]), {2, 3, 8})\n",
        "\n"
      ]
    },
    {
      "cell_type": "markdown",
      "metadata": {
        "deletable": false,
        "editable": false,
        "nbgrader": {
          "grade": false,
          "grade_id": "cell-55c3d72ef8d18ddb",
          "locked": true,
          "schema_version": 3,
          "solution": false
        },
        "id": "r3LOKCYise7u"
      },
      "source": [
        "## Question 5: Implement _where can it go_. \n",
        "\n",
        "We are now ready to write -- or better, to have you write -- the _where can it go_ method.  \n",
        "The method is global: it examines all rows, all columns, and all blocks.  \n",
        "If it finds that in a row (or column, or block), a value can fit in only one cell, and that cell is not currently a singleton (for otherwise there is nothing to be done), it sets the value in the cell, and it adds the cell to the newly_singleton set that is returned, just as in propagate_cell. \n",
        "The portion of method that you need to write is about two dozen lines of code long."
      ]
    },
    {
      "cell_type": "code",
      "execution_count": 24,
      "metadata": {
        "deletable": false,
        "nbgrader": {
          "grade": false,
          "grade_id": "cell-b0e6f1a04a61fe9c",
          "locked": false,
          "schema_version": 3,
          "solution": true
        },
        "id": "0k_JJeEose7u"
      },
      "outputs": [],
      "source": [
        "### Exercise: write where_can_it_go\n",
        "\n",
        "def sudoku_where_can_it_go(self):\n",
        "    \"\"\"Sets some cell values according to the where can it go\n",
        "    heuristics, by examining all rows, colums, and blocks.\"\"\"\n",
        "    newly_singleton = set()\n",
        "\n",
        "    # YOUR CODE HERE\n",
        "    '''\n",
        "    for i in range(9): # loop through each row\n",
        "        for j in range(9): # loop through each column\n",
        "            if len(self.m[i][j]) > 1: #check if the cell is a singleton or not, because if it is, then there is nothing to do\n",
        "                # create a list each for the column, row, and 3x3 block around cell (i, j)\n",
        "                column_list = list() \n",
        "                block_list = list()\n",
        "\n",
        "                cool = occurs_once_in_sets(self.m[i])\n",
        "\n",
        "                for ii in range(9): \n",
        "                    column_list.append(self.m[ii][j])\n",
        "                    \n",
        "                beans = occurs_once_in_sets(column_list)\n",
        "            \n",
        "                xx = 3*(j//3) #which is 3\n",
        "                yy = 3*(i//3) #which is 0\n",
        "\n",
        "                for jj in range(xx, xx+3):\n",
        "                    for ii in range(yy, yy+3):\n",
        "                        block_list.append(self.m[ii][jj])\n",
        "                        \n",
        "                bats = occurs_once_in_sets(block_list)\n",
        "\n",
        "                for zz in self.m[i][j]: # loop through each number in the cell's set\n",
        "                    # if the current number only appears once in either its column, row, or 3x3 block,\n",
        "                    # then assign that number to the value of the cell and add that cell to\n",
        "                    # the newly_singleton set\n",
        "                    if zz in beans or zz in cool or zz in bats:\n",
        "                        self.m[i][j] = {zz}\n",
        "                        newly_singleton.update({(i, j)})\n",
        "    '''\n",
        "    ### Exercise: write where_can_it_go\n",
        "\n",
        "    # YOUR CODE HERE\n",
        "\n",
        "    for i in range(9):  # loop through each row\n",
        "        for j in range(9):  # loop through each column\n",
        "            if len(self.m[i][j]) > 1:  # check if the cell is a singleton or not, because if it is, then there is nothing to do\n",
        "                # create a list each for the column, row, and 3x3 block around cell (i, j)\n",
        "                column_list = []\n",
        "                block_list = []\n",
        "\n",
        "                first_occurrence = occurs_once_in_sets(self.m[i])\n",
        "\n",
        "                for ii in range(9):\n",
        "                    column_list.append(self.m[ii][j])\n",
        "\n",
        "                second_occurrence = occurs_once_in_sets(column_list)\n",
        "\n",
        "                xx = 3 * (j // 3)  # which is 3\n",
        "                yy = 3 * (i // 3)  # which is 0\n",
        "\n",
        "                for jj in range(xx, xx + 3):\n",
        "                    for ii in range(yy, yy + 3):\n",
        "                        block_list.append(self.m[ii][jj])\n",
        "\n",
        "                third_occurrence = occurs_once_in_sets(block_list)\n",
        "\n",
        "                for zz in self.m[i][j]:  \n",
        "                    if zz in first_occurrence or zz in second_occurrence or zz in third_occurrence:\n",
        "                        self.m[i][j] = {zz}\n",
        "                        newly_singleton.add((i, j))\n",
        "    # Returns the list of newly-singleton cells.\n",
        "    return newly_singleton\n",
        "\n",
        "Sudoku.where_can_it_go = sudoku_where_can_it_go"
      ]
    },
    {
      "cell_type": "code",
      "source": [
        ""
      ],
      "metadata": {
        "id": "6CODbj3kAp3F"
      },
      "execution_count": 24,
      "outputs": []
    },
    {
      "cell_type": "markdown",
      "metadata": {
        "deletable": false,
        "editable": false,
        "nbgrader": {
          "grade": false,
          "grade_id": "cell-79fb3cebd123a238",
          "locked": true,
          "schema_version": 3,
          "solution": false
        },
        "id": "uchXEfmPse7u"
      },
      "source": [
        "Let us test it.  We cannot test this code in one iteration only, since its result may depend on the order in which you apply the method to rows and columns. \n",
        "Rather, we apply the method until it can determine no more cell values."
      ]
    },
    {
      "cell_type": "code",
      "execution_count": 25,
      "metadata": {
        "deletable": false,
        "editable": false,
        "nbgrader": {
          "grade": true,
          "grade_id": "cell-40bbe8a1de8f1a40",
          "locked": true,
          "points": 10,
          "schema_version": 3,
          "solution": false
        },
        "colab": {
          "base_uri": "https://localhost:8080/"
        },
        "id": "2wIaz9KVse7u",
        "outputId": "ebbc37a1-58c3-484c-d2ae-c15a1cb595ed"
      },
      "outputs": [
        {
          "output_type": "stream",
          "name": "stdout",
          "text": [
            "Original:\n",
            "+-----------------------------+-----------------------------+-----------------------------+\n",
            "|____5____ __3______ 12_4_____|12___6___ ______7__ 12___6_8_|___4___89 12_4_____ _2_____8_|\n",
            "|_____6___ 1__4__7__ 12_4__7__|123______ ________9 ____5____|__34___8_ 12_4_____ _2____78_|\n",
            "|12_______ ________9 _______8_|123______ ___4_____ 12_______|__3_5____ _____6___ _2____7__|\n",
            "+-----------------------------+-----------------------------+-----------------------------+\n",
            "|_______8_ 1___5____ 1___5___9|1_____7_9 _____6___ 1__4__7_9|___45____ _2_45____ __3______|\n",
            "|___4_____ _2_______ _____6___|_______8_ ____5____ __3______|______7__ ________9 1________|\n",
            "|______7__ 1___5____ 1_3_5___9|1_______9 _2_______ 1__4____9|___45__8_ ___45____ _____6___|\n",
            "+-----------------------------+-----------------------------+-----------------------------+\n",
            "|1_______9 _____6___ 1___5_7_9|____5_7_9 __3______ ______7_9|_2_______ _______8_ ___4_____|\n",
            "|_2______9 ______78_ _2____7_9|___4_____ 1________ _2____7_9|_____6___ __3______ ____5____|\n",
            "|_23______ ___45____ _2345____|_2__56___ _______8_ _2___6___|1________ ______7__ ________9|\n",
            "+-----------------------------+-----------------------------+-----------------------------+\n",
            "After where can it go:\n",
            "+-----------------------------+-----------------------------+-----------------------------+\n",
            "|____5____ __3______ 12_4_____|_____6___ ______7__ _______8_|________9 12_4_____ _2_______|\n",
            "|_____6___ ______7__ 12_4__7__|123______ ________9 ____5____|__3______ 12_4_____ _______8_|\n",
            "|12_______ ________9 _______8_|__3______ ___4_____ 12_______|____5____ _____6___ ______7__|\n",
            "+-----------------------------+-----------------------------+-----------------------------+\n",
            "|_______8_ ____5____ ________9|1_____7_9 _____6___ 1__4__7_9|___4_____ _2_______ __3______|\n",
            "|___4_____ _2_______ _____6___|_______8_ ____5____ __3______|______7__ ________9 1________|\n",
            "|______7__ 1________ __3______|________9 _2_______ ___4_____|_______8_ ____5____ _____6___|\n",
            "+-----------------------------+-----------------------------+-----------------------------+\n",
            "|1_______9 _____6___ 1___5_7_9|____5_7_9 __3______ ______7_9|_2_______ _______8_ ___4_____|\n",
            "|_2______9 _______8_ _2____7_9|___4_____ 1________ _2____7_9|_____6___ __3______ ____5____|\n",
            "|__3______ ___4_____ _2345____|_2__56___ _______8_ _____6___|1________ ______7__ ________9|\n",
            "+-----------------------------+-----------------------------+-----------------------------+\n",
            "The above should be equal to:\n",
            "+-----------------------------+-----------------------------+-----------------------------+\n",
            "|____5____ __3______ 12_4_____|_____6___ ______7__ _______8_|________9 12_4_____ _2_______|\n",
            "|_____6___ ______7__ 12_4__7__|123______ ________9 ____5____|__3______ 12_4_____ _______8_|\n",
            "|12_______ ________9 _______8_|__3______ ___4_____ 12_______|____5____ _____6___ ______7__|\n",
            "+-----------------------------+-----------------------------+-----------------------------+\n",
            "|_______8_ ____5____ ________9|1_____7_9 _____6___ 1__4__7_9|___4_____ _2_______ __3______|\n",
            "|___4_____ _2_______ _____6___|_______8_ ____5____ __3______|______7__ ________9 1________|\n",
            "|______7__ 1________ __3______|________9 _2_______ ___4_____|_______8_ ____5____ _____6___|\n",
            "+-----------------------------+-----------------------------+-----------------------------+\n",
            "|1_______9 _____6___ 1___5_7_9|____5_7_9 __3______ ______7_9|_2_______ _______8_ ___4_____|\n",
            "|_2______9 _______8_ _2____7_9|___4_____ 1________ _2____7_9|_____6___ __3______ ____5____|\n",
            "|__3______ ___4_____ _2345____|_2__56___ _______8_ _____6___|1________ ______7__ ________9|\n",
            "+-----------------------------+-----------------------------+-----------------------------+\n",
            "Another Original:\n",
            "+-----------------------------+-----------------------------+-----------------------------+\n",
            "|123456789 123456789 123456789|_2_______ _____6___ 123456789|______7__ 123456789 1________|\n",
            "|_____6___ _______8_ 123456789|123456789 ______7__ 123456789|123456789 123456789 123456789|\n",
            "|1________ 123456789 123456789|123456789 123456789 ___4_____|____5____ 123456789 123456789|\n",
            "+-----------------------------+-----------------------------+-----------------------------+\n",
            "|_______8_ _2_______ 123456789|1________ 123456789 123456789|123456789 ___4_____ 123456789|\n",
            "|123456789 123456789 ___4_____|_____6___ 123456789 _2_______|123456789 123456789 123456789|\n",
            "|123456789 ____5____ 123456789|123456789 123456789 __3______|123456789 _2_______ _______8_|\n",
            "+-----------------------------+-----------------------------+-----------------------------+\n",
            "|123456789 123456789 123456789|__3______ 123456789 123456789|123456789 ______7__ ___4_____|\n",
            "|123456789 ___4_____ 123456789|123456789 ____5____ 123456789|123456789 __3______ _____6___|\n",
            "|______7__ 123456789 __3______|123456789 1________ _______8_|123456789 123456789 123456789|\n",
            "+-----------------------------+-----------------------------+-----------------------------+\n",
            "Propagate once:\n",
            "After where can it go:\n",
            "+-----------------------------+-----------------------------+-----------------------------+\n",
            "|___4_____ __3______ ____5____|_2_______ _____6___ ________9|______7__ _______8_ 1________|\n",
            "|_____6___ _______8_ _2_______|____5____ ______7__ 1________|___4_____ ________9 __3______|\n",
            "|1________ ________9 ______7__|_______8_ __3______ ___4_____|____5____ _____6___ _2_______|\n",
            "+-----------------------------+-----------------------------+-----------------------------+\n",
            "|_______8_ _2_______ _____6___|1________ ________9 ____5____|__3______ ___4_____ ______7__|\n",
            "|__3______ ______7__ ___4_____|_____6___ _______8_ _2_______|________9 1________ ____5____|\n",
            "|________9 ____5____ 1________|______7__ ___4_____ __3______|_____6___ _2_______ _______8_|\n",
            "+-----------------------------+-----------------------------+-----------------------------+\n",
            "|____5____ 1________ 12__56_89|__3______ _2_______ _____6___|12_____89 ______7__ ___4_____|\n",
            "|_2_______ ___4_____ 12_____89|________9 ____5____ ______7__|12_____89 __3______ _____6___|\n",
            "|______7__ _____6___ __3______|___4_____ 1________ _______8_|_2_______ ____5____ ________9|\n",
            "+-----------------------------+-----------------------------+-----------------------------+\n",
            "The above should be equal to:\n",
            "+-----------------------------+-----------------------------+-----------------------------+\n",
            "|___4_____ __3______ ____5____|_2_______ _____6___ ________9|______7__ _______8_ 1________|\n",
            "|_____6___ _______8_ _2_______|____5____ ______7__ 1________|___4_____ ________9 __3______|\n",
            "|1________ ________9 ______7__|_______8_ __3______ ___4_____|____5____ _____6___ _2_______|\n",
            "+-----------------------------+-----------------------------+-----------------------------+\n",
            "|_______8_ _2_______ _____6___|1________ ________9 ____5____|__3______ ___4_____ ______7__|\n",
            "|__3______ ______7__ ___4_____|_____6___ _______8_ _2_______|________9 1________ ____5____|\n",
            "|________9 ____5____ 1________|______7__ ___4_____ __3______|_____6___ _2_______ _______8_|\n",
            "+-----------------------------+-----------------------------+-----------------------------+\n",
            "|____5____ 1________ 12__56_89|__3______ _2_______ _____6___|12_____89 ______7__ ___4_____|\n",
            "|_2_______ ___4_____ 12_____89|________9 ____5____ ______7__|12_____89 __3______ _____6___|\n",
            "|______7__ _____6___ __3______|___4_____ 1________ _______8_|_2_______ ____5____ ________9|\n",
            "+-----------------------------+-----------------------------+-----------------------------+\n"
          ]
        }
      ],
      "source": [
        "### Tests for where can it go\n",
        "\n",
        "sd = Sudoku.from_string('[[[5], [3], [1, 2, 4], [1, 2, 6], [7], [1, 2, 6, 8], [4, 8, 9], [1, 2, 4], [2, 8]], [[6], [1, 4, 7], [1, 2, 4, 7], [1, 2, 3], [9], [5], [3, 4, 8], [1, 2, 4], [2, 7, 8]], [[1, 2], [9], [8], [1, 2, 3], [4], [1, 2], [3, 5], [6], [2, 7]], [[8], [1, 5], [1, 5, 9], [1, 7, 9], [6], [1, 4, 7, 9], [4, 5], [2, 4, 5], [3]], [[4], [2], [6], [8], [5], [3], [7], [9], [1]], [[7], [1, 5], [1, 3, 5, 9], [1, 9], [2], [1, 4, 9], [4, 5, 8], [4, 5], [6]], [[1, 9], [6], [1, 5, 7, 9], [5, 7, 9], [3], [7, 9], [2], [8], [4]], [[2, 9], [7, 8], [2, 7, 9], [4], [1], [2, 7, 9], [6], [3], [5]], [[2, 3], [4, 5], [2, 3, 4, 5], [2, 5, 6], [8], [2, 6], [1], [7], [9]]]')\n",
        "print(\"Original:\")\n",
        "sd.show(details=True)\n",
        "new_singletons = set()\n",
        "while True:\n",
        "    new_s = sd.where_can_it_go()\n",
        "    if len(new_s) == 0:\n",
        "        break\n",
        "    new_singletons |= new_s\n",
        "assert_equal(new_singletons,\n",
        "             {(3, 2), (2, 6), (7, 1), (5, 6), (2, 8), (8, 0), (0, 5), (1, 6),\n",
        "              (2, 3), (3, 7), (0, 3), (5, 1), (0, 8), (8, 5), (5, 3), (5, 5),\n",
        "              (8, 1), (5, 7), (3, 1), (0, 6), (1, 8), (3, 6), (5, 2), (1, 1)})\n",
        "print(\"After where can it go:\")\n",
        "sd.show(details=True)\n",
        "sdd = Sudoku.from_string('[[[5], [3], [1, 2, 4], [6], [7], [8], [9], [1, 2, 4], [2]], [[6], [7], [1, 2, 4, 7], [1, 2, 3], [9], [5], [3], [1, 2, 4], [8]], [[1, 2], [9], [8], [3], [4], [1, 2], [5], [6], [7]], [[8], [5], [9], [1, 9, 7], [6], [1, 4, 9, 7], [4], [2], [3]], [[4], [2], [6], [8], [5], [3], [7], [9], [1]], [[7], [1], [3], [9], [2], [4], [8], [5], [6]], [[1, 9], [6], [1, 5, 9, 7], [9, 5, 7], [3], [9, 7], [2], [8], [4]], [[9, 2], [8], [9, 2, 7], [4], [1], [9, 2, 7], [6], [3], [5]], [[3], [4], [2, 3, 4, 5], [2, 5, 6], [8], [6], [1], [7], [9]]]')\n",
        "print(\"The above should be equal to:\")\n",
        "sdd.show(details=True)\n",
        "assert_equal(sd, sdd)\n",
        "\n",
        "sd = Sudoku([\n",
        "    '___26_7_1',\n",
        "    '68__7____',\n",
        "    '1____45__',\n",
        "    '82_1___4_',\n",
        "    '__46_2___',\n",
        "    '_5___3_28',\n",
        "    '___3___74',\n",
        "    '_4__5__36',\n",
        "    '7_3_18___'\n",
        "])\n",
        "print(\"Another Original:\")\n",
        "sd.show(details=True)\n",
        "print(\"Propagate once:\")\n",
        "sd.propagate_all_cells_once()\n",
        "# sd.show(details=True)\n",
        "new_singletons = set()\n",
        "while True:\n",
        "    new_s = sd.where_can_it_go()\n",
        "    if len(new_s) == 0:\n",
        "        break\n",
        "    new_singletons |= new_s\n",
        "print(\"After where can it go:\")\n",
        "sd.show(details=True)\n",
        "sdd = Sudoku.from_string('[[[4], [3], [5], [2], [6], [9], [7], [8], [1]], [[6], [8], [2], [5], [7], [1], [4], [9], [3]], [[1], [9], [7], [8], [3], [4], [5], [6], [2]], [[8], [2], [6], [1], [9], [5], [3], [4], [7]], [[3], [7], [4], [6], [8], [2], [9], [1], [5]], [[9], [5], [1], [7], [4], [3], [6], [2], [8]], [[5], [1], [1, 2, 5, 6, 8, 9], [3], [2], [6], [1, 2, 8, 9], [7], [4]], [[2], [4], [1, 2, 8, 9], [9], [5], [7], [1, 2, 8, 9], [3], [6]], [[7], [6], [3], [4], [1], [8], [2], [5], [9]]]')\n",
        "print(\"The above should be equal to:\")\n",
        "sdd.show(details=True)\n",
        "assert_equal(sd, sdd)\n",
        "\n"
      ]
    },
    {
      "cell_type": "markdown",
      "metadata": {
        "deletable": false,
        "editable": false,
        "nbgrader": {
          "grade": false,
          "grade_id": "cell-669f11f941691312",
          "locked": true,
          "schema_version": 3,
          "solution": false
        },
        "id": "A9GKEmZNse7v"
      },
      "source": [
        "Let us try it now on a real probem. Note from before that this Sudoku instance could not be solved via propagate_cells alone:"
      ]
    },
    {
      "cell_type": "code",
      "execution_count": 26,
      "metadata": {
        "deletable": false,
        "editable": false,
        "nbgrader": {
          "grade": false,
          "grade_id": "cell-2951c287294816bd",
          "locked": true,
          "schema_version": 3,
          "solution": false
        },
        "id": "izng1s-Rse7v",
        "colab": {
          "base_uri": "https://localhost:8080/"
        },
        "outputId": "95121390-f2ce-4bdc-8be1-b3c02c067d95"
      },
      "outputs": [
        {
          "output_type": "stream",
          "name": "stdout",
          "text": [
            "Newly singleton: {(2, 6), (7, 1), (5, 6), (2, 8), (5, 7), (8, 0), (8, 5), (0, 6), (0, 5), (3, 7), (5, 2)}\n",
            "Resulting Sudoku:\n",
            "+-----------------------------+-----------------------------+-----------------------------+\n",
            "|____5____ __3______ 12_4_____|12___6___ ______7__ _______8_|________9 12_4_____ _2_____8_|\n",
            "|_____6___ 1__4__7__ 12_4__7__|123______ ________9 ____5____|__34___8_ 12_4_____ _2____78_|\n",
            "|12_______ ________9 _______8_|123______ ___4_____ 12_______|____5____ _____6___ ______7__|\n",
            "+-----------------------------+-----------------------------+-----------------------------+\n",
            "|_______8_ 1___5____ 1___5___9|1_____7_9 _____6___ 1__4__7_9|___45____ _2_______ __3______|\n",
            "|___4_____ _2_______ _____6___|_______8_ ____5____ __3______|______7__ ________9 1________|\n",
            "|______7__ 1___5____ __3______|1_______9 _2_______ 1__4____9|_______8_ ____5____ _____6___|\n",
            "+-----------------------------+-----------------------------+-----------------------------+\n",
            "|1_______9 _____6___ 1___5_7_9|____5_7_9 __3______ ______7_9|_2_______ _______8_ ___4_____|\n",
            "|_2______9 _______8_ _2____7_9|___4_____ 1________ _2____7_9|_____6___ __3______ ____5____|\n",
            "|__3______ ___45____ _2345____|_2__56___ _______8_ _____6___|1________ ______7__ ________9|\n",
            "+-----------------------------+-----------------------------+-----------------------------+\n"
          ]
        }
      ],
      "source": [
        "sd = Sudoku(sd_partially_solved)\n",
        "newly_singleton = sd.where_can_it_go()\n",
        "print(\"Newly singleton:\", newly_singleton)\n",
        "print(\"Resulting Sudoku:\")\n",
        "sd.show(details=True)\n"
      ]
    },
    {
      "cell_type": "markdown",
      "metadata": {
        "deletable": false,
        "editable": false,
        "nbgrader": {
          "grade": false,
          "grade_id": "cell-b591033fe9984309",
          "locked": true,
          "schema_version": 3,
          "solution": false
        },
        "id": "V6EKg4thse7v"
      },
      "source": [
        "As we can see, the heuristics led to substantial progress.   Let us incorporate it in the Sudoku solver. "
      ]
    },
    {
      "cell_type": "code",
      "execution_count": 27,
      "metadata": {
        "deletable": false,
        "editable": false,
        "nbgrader": {
          "grade": false,
          "grade_id": "cell-a595b3a22521626f",
          "locked": true,
          "schema_version": 3,
          "solution": false
        },
        "id": "-vCnezvvse7v"
      },
      "outputs": [],
      "source": [
        "Sudoku.full_propagation = sudoku_full_propagation_with_where_can_it_go\n"
      ]
    },
    {
      "cell_type": "markdown",
      "metadata": {
        "deletable": false,
        "editable": false,
        "nbgrader": {
          "grade": false,
          "grade_id": "cell-8eabe9249b400599",
          "locked": true,
          "schema_version": 3,
          "solution": false
        },
        "id": "sKU3WfqLse7v"
      },
      "source": [
        "Let us try again to solve a Sudoku example which, as we saw before, could not be solved by constrain propagation only (without using the _where can it go_ heuristics).  Can we solve it now via constraint propagation?"
      ]
    },
    {
      "cell_type": "code",
      "execution_count": 28,
      "metadata": {
        "deletable": false,
        "editable": false,
        "nbgrader": {
          "grade": false,
          "grade_id": "cell-f796cfdca4f6ecb6",
          "locked": true,
          "schema_version": 3,
          "solution": false
        },
        "id": "dXQKO27Vse7v",
        "colab": {
          "base_uri": "https://localhost:8080/"
        },
        "outputId": "1713bfae-c4e2-4c04-cda3-a07f684c7a23"
      },
      "outputs": [
        {
          "output_type": "stream",
          "name": "stdout",
          "text": [
            "Initial:\n",
            "+---+---+---+\n",
            "|53.|.7.|...|\n",
            "|6..|.95|...|\n",
            "|.98|...|.6.|\n",
            "+---+---+---+\n",
            "|8..|.6.|..3|\n",
            "|4..|8.3|..1|\n",
            "|7..|.2.|..6|\n",
            "+---+---+---+\n",
            "|.6.|...|28.|\n",
            "|...|41.|..5|\n",
            "|...|.8.|.79|\n",
            "+---+---+---+\n",
            "After full propagation with where can it go:\n",
            "+---+---+---+\n",
            "|53.|678|9.2|\n",
            "|67.|.95|3.8|\n",
            "|.98|34.|567|\n",
            "+---+---+---+\n",
            "|859|.6.|423|\n",
            "|426|853|791|\n",
            "|713|924|856|\n",
            "+---+---+---+\n",
            "|.6.|.3.|284|\n",
            "|.8.|41.|635|\n",
            "|34.|.86|179|\n",
            "+---+---+---+\n"
          ]
        }
      ],
      "source": [
        "sd = Sudoku([\n",
        "    '53__7____',\n",
        "    '6___95___',\n",
        "    '_98____6_',\n",
        "    '8___6___3',\n",
        "    '4__8_3__1',\n",
        "    '7___2___6',\n",
        "    '_6____28_',\n",
        "    '___41___5',\n",
        "    '____8__79'\n",
        "])\n",
        "print(\"Initial:\")\n",
        "sd.show()\n",
        "sd.full_propagation()\n",
        "print(\"After full propagation with where can it go:\")\n",
        "sd.show()\n"
      ]
    },
    {
      "cell_type": "markdown",
      "metadata": {
        "deletable": false,
        "editable": false,
        "nbgrader": {
          "grade": false,
          "grade_id": "cell-ba06185dfa60dd85",
          "locked": true,
          "schema_version": 3,
          "solution": false
        },
        "id": "8lb_jiFUse7v"
      },
      "source": [
        "No!  We still cannot! But if we compare the above with the previous attempt, we see that the heuristic led to much more progress; very few positions still remain to be determined via search. "
      ]
    },
    {
      "cell_type": "markdown",
      "metadata": {
        "deletable": false,
        "editable": false,
        "nbgrader": {
          "grade": false,
          "grade_id": "cell-e9e21f0df141c6fc",
          "locked": true,
          "schema_version": 3,
          "solution": false
        },
        "id": "vj1tPnTFse7v"
      },
      "source": [
        "## Question 6: Solving some problems from example sites\n",
        "\n",
        "Let us see how long it takes us to solve examples found around the Web. \n",
        "We consider a few from [this site](https://dingo.sbs.arizona.edu/~sandiway/sudoku/examples.html).\n",
        "You should be able to complete all of these tests in a short amount of time. "
      ]
    },
    {
      "cell_type": "code",
      "execution_count": 29,
      "metadata": {
        "deletable": false,
        "editable": false,
        "nbgrader": {
          "grade": false,
          "grade_id": "cell-caa200127c7de8e3",
          "locked": true,
          "schema_version": 3,
          "solution": false
        },
        "id": "UL-1sa9ose7v"
      },
      "outputs": [],
      "source": [
        "import time\n"
      ]
    },
    {
      "cell_type": "markdown",
      "metadata": {
        "deletable": false,
        "editable": false,
        "nbgrader": {
          "grade": false,
          "grade_id": "cell-df6877bf9ca6157e",
          "locked": true,
          "schema_version": 3,
          "solution": false
        },
        "id": "C5DO6C-zse7v"
      },
      "source": [
        "### Daily Telegraph January 19th \"Diabolical\"\n",
        "\n"
      ]
    },
    {
      "cell_type": "code",
      "execution_count": 30,
      "metadata": {
        "deletable": false,
        "editable": false,
        "nbgrader": {
          "grade": false,
          "grade_id": "cell-4d642f536afbbbe",
          "locked": true,
          "schema_version": 3,
          "solution": false
        },
        "id": "3Eter7X3se7v",
        "colab": {
          "base_uri": "https://localhost:8080/"
        },
        "outputId": "904a7d24-1fd1-486c-d3b4-5a84b5b598c3"
      },
      "outputs": [
        {
          "output_type": "stream",
          "name": "stdout",
          "text": [
            "We found a solution:\n",
            "+---+---+---+\n",
            "|123|678|945|\n",
            "|584|239|761|\n",
            "|967|145|328|\n",
            "+---+---+---+\n",
            "|372|461|589|\n",
            "|691|583|274|\n",
            "|458|792|613|\n",
            "+---+---+---+\n",
            "|836|924|157|\n",
            "|219|857|436|\n",
            "|745|316|892|\n",
            "+---+---+---+\n",
            "Solved in 0.03662371635437012 seconds\n"
          ]
        }
      ],
      "source": [
        "# 5 points: You need to do this in less than 5.\n",
        "\n",
        "sd = Sudoku([\n",
        "    '_2_6_8___',\n",
        "    '58___97__',\n",
        "    '____4____',\n",
        "    '37____5__',\n",
        "    '6_______4',\n",
        "    '__8____13',\n",
        "    '____2____',\n",
        "    '__98___36',\n",
        "    '___3_6_9_'\n",
        "])\n",
        "t = time.time()\n",
        "sd.solve()\n",
        "elapsed = time.time() - t\n",
        "print(\"Solved in\", elapsed, \"seconds\")\n",
        "\n",
        "assert elapsed < 5\n"
      ]
    },
    {
      "cell_type": "markdown",
      "metadata": {
        "deletable": false,
        "editable": false,
        "nbgrader": {
          "grade": false,
          "grade_id": "cell-8cea9515c432f3cf",
          "locked": true,
          "schema_version": 3,
          "solution": false
        },
        "id": "UsCYSNIXse7v"
      },
      "source": [
        "### Vegard Hanssen puzzle 2155141"
      ]
    },
    {
      "cell_type": "code",
      "execution_count": 31,
      "metadata": {
        "deletable": false,
        "editable": false,
        "nbgrader": {
          "grade": false,
          "grade_id": "cell-280eed087eadf3be",
          "locked": true,
          "schema_version": 3,
          "solution": false
        },
        "id": "7Zr9wep4se7v",
        "colab": {
          "base_uri": "https://localhost:8080/"
        },
        "outputId": "0d4137fa-7505-4111-fca4-3114d13cb6ac"
      },
      "outputs": [
        {
          "output_type": "stream",
          "name": "stdout",
          "text": [
            "We found a solution:\n",
            "+---+---+---+\n",
            "|581|672|439|\n",
            "|792|843|651|\n",
            "|364|591|782|\n",
            "+---+---+---+\n",
            "|438|957|216|\n",
            "|256|184|973|\n",
            "|179|326|845|\n",
            "+---+---+---+\n",
            "|845|219|367|\n",
            "|913|768|524|\n",
            "|627|435|198|\n",
            "+---+---+---+\n",
            "Solved in 0.07822585105895996 seconds\n"
          ]
        }
      ],
      "source": [
        "# 5 points: you need to do this in less than 5 seconds.\n",
        "\n",
        "sd = Sudoku([\n",
        "    '___6__4__',\n",
        "    '7____36__',\n",
        "    '____91_8_',\n",
        "    '_________',\n",
        "    '_5_18___3',\n",
        "    '___3_6_45',\n",
        "    '_4_2___6_',\n",
        "    '9_3______',\n",
        "    '_2____1__'\n",
        "])\n",
        "t = time.time()\n",
        "sd.solve()\n",
        "elapsed = time.time() - t\n",
        "print(\"Solved in\", elapsed, \"seconds\")\n",
        "assert elapsed < 5\n"
      ]
    },
    {
      "cell_type": "markdown",
      "metadata": {
        "deletable": false,
        "editable": false,
        "nbgrader": {
          "grade": false,
          "grade_id": "cell-d003437ac9fe6141",
          "locked": true,
          "schema_version": 3,
          "solution": false
        },
        "id": "R0uhqJiJse7w"
      },
      "source": [
        "### A supposedly even harder one\n",
        "\n",
        "[source](http://www.sudokuwiki.org/Weekly_Sudoku.asp?puz=28)"
      ]
    },
    {
      "cell_type": "code",
      "execution_count": 32,
      "metadata": {
        "deletable": false,
        "editable": false,
        "nbgrader": {
          "grade": false,
          "grade_id": "cell-8b6b33f24346ca6d",
          "locked": true,
          "schema_version": 3,
          "solution": false
        },
        "id": "l0lilZJgse7w",
        "colab": {
          "base_uri": "https://localhost:8080/"
        },
        "outputId": "19518149-dc5b-4995-b16f-245c3c77f844"
      },
      "outputs": [
        {
          "output_type": "stream",
          "name": "stdout",
          "text": [
            "We found a solution:\n",
            "+---+---+---+\n",
            "|625|178|943|\n",
            "|948|326|157|\n",
            "|371|945|862|\n",
            "+---+---+---+\n",
            "|257|619|384|\n",
            "|463|587|291|\n",
            "|189|432|576|\n",
            "+---+---+---+\n",
            "|792|863|415|\n",
            "|516|294|738|\n",
            "|834|751|629|\n",
            "+---+---+---+\n",
            "Solved in 1.248521089553833 seconds\n"
          ]
        }
      ],
      "source": [
        "# 5 points: you need to do this in less than 10 seconds.\n",
        "\n",
        "sd = Sudoku([\n",
        "    '6____894_',\n",
        "    '9____61__',\n",
        "    '_7__4____',\n",
        "    '2__61____',\n",
        "    '______2__',\n",
        "    '_89__2___',\n",
        "    '____6___5',\n",
        "    '_______3_',\n",
        "    '8____16__'\n",
        "])\n",
        "t = time.time()\n",
        "sd.solve()\n",
        "elapsed = time.time() - t\n",
        "print(\"Solved in\", elapsed, \"seconds\")\n",
        "assert elapsed < 10\n"
      ]
    },
    {
      "cell_type": "markdown",
      "metadata": {
        "deletable": false,
        "editable": false,
        "nbgrader": {
          "grade": false,
          "grade_id": "cell-febb45d2e1119d2c",
          "locked": true,
          "schema_version": 3,
          "solution": false
        },
        "id": "nr0dRsbkse7w"
      },
      "source": [
        "## Trying puzzles in bulk\n",
        "\n",
        "Let us try the puzzles found at [https://raw.githubusercontent.com/shadaj/sudoku/master/sudoku17.txt](https://raw.githubusercontent.com/shadaj/sudoku/master/sudoku17.txt); apparently lines 517 and 6361 are very hard). "
      ]
    },
    {
      "cell_type": "code",
      "execution_count": 33,
      "metadata": {
        "deletable": false,
        "editable": false,
        "nbgrader": {
          "grade": false,
          "grade_id": "cell-c0e215bf4dc172df",
          "locked": true,
          "schema_version": 3,
          "solution": false
        },
        "id": "GAT3Dj3lse7w"
      },
      "outputs": [],
      "source": [
        "import requests\n",
        "\n",
        "r = requests.get(\"https://raw.githubusercontent.com/shadaj/sudoku/master/sudoku17.txt\")\n",
        "puzzles = r.text.split()\n"
      ]
    },
    {
      "cell_type": "markdown",
      "metadata": {
        "deletable": false,
        "editable": false,
        "nbgrader": {
          "grade": false,
          "grade_id": "cell-ea811b7151fe6329",
          "locked": true,
          "schema_version": 3,
          "solution": false
        },
        "id": "2ITaF1yEse7w"
      },
      "source": [
        "Let us convert these puzzles to our format."
      ]
    },
    {
      "cell_type": "code",
      "execution_count": 34,
      "metadata": {
        "deletable": false,
        "editable": false,
        "nbgrader": {
          "grade": false,
          "grade_id": "cell-cddd89b4012dd393",
          "locked": true,
          "schema_version": 3,
          "solution": false
        },
        "id": "UX7n9D3Bse7w"
      },
      "outputs": [],
      "source": [
        "def convert_to_our_format(s):\n",
        "    t = s.replace('0', '_')\n",
        "    r = []\n",
        "    for i in range(9):\n",
        "        r.append(t[i * 9: (i + 1) * 9])\n",
        "    return r\n"
      ]
    },
    {
      "cell_type": "markdown",
      "metadata": {
        "deletable": false,
        "editable": false,
        "nbgrader": {
          "grade": false,
          "grade_id": "cell-a793134dd77ba5dd",
          "locked": true,
          "schema_version": 3,
          "solution": false
        },
        "id": "9VPzsVesse7w"
      },
      "source": [
        "You need to solve these tests efficiently."
      ]
    },
    {
      "cell_type": "code",
      "execution_count": 35,
      "metadata": {
        "deletable": false,
        "editable": false,
        "nbgrader": {
          "grade": false,
          "grade_id": "cell-3f8f7121408e1d16",
          "locked": true,
          "schema_version": 3,
          "solution": false
        },
        "id": "0dR3sKhZse7w",
        "colab": {
          "base_uri": "https://localhost:8080/"
        },
        "outputId": "fc422cc9-921c-48f1-dbef-a2988962c1fc"
      },
      "outputs": [
        {
          "output_type": "stream",
          "name": "stdout",
          "text": [
            "It took you 21.552308797836304 to solve the first 1000 Sudokus.\n"
          ]
        }
      ],
      "source": [
        "# 5 points: you need to solve the first 1000 Sudokus in less than 30 seconds.\n",
        "\n",
        "t = 0\n",
        "max_d = 0.\n",
        "max_i = None\n",
        "t = time.time()\n",
        "for i, s in enumerate(puzzles[:1000]):\n",
        "    p = convert_to_our_format(puzzles[i])\n",
        "    sd = Sudoku(p)\n",
        "    sd.solve(do_print=False)\n",
        "elapsed = time.time() - t\n",
        "print(\"It took you\", elapsed, \"to solve the first 1000 Sudokus.\")\n",
        "assert elapsed < 30\n"
      ]
    }
  ],
  "metadata": {
    "colab": {
      "collapsed_sections": [],
      "name": "Homework_14_test.ipynb",
      "provenance": [],
      "toc_visible": true
    },
    "kernelspec": {
      "display_name": "Python 3",
      "language": "python",
      "name": "python3"
    },
    "language_info": {
      "codemirror_mode": {
        "name": "ipython",
        "version": 3
      },
      "file_extension": ".py",
      "mimetype": "text/x-python",
      "name": "python",
      "nbconvert_exporter": "python",
      "pygments_lexer": "ipython3",
      "version": "3.8.10"
    },
    "test_info": {
      "id": "6ff63c5258989883179bb4fb555dc9c6560fa10c"
    }
  },
  "nbformat": 4,
  "nbformat_minor": 0
}
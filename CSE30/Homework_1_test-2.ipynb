{
  "cells": [
    {
      "cell_type": "markdown",
      "metadata": {
        "id": "5FUsMvnWKBz2"
      },
      "source": [
        "Before you turn this problem in, make sure everything runs as expected. First, **restart the kernel** (in the menubar, select Kernel$\\rightarrow$Restart) and then **run all cells** (in the menubar, select Cell$\\rightarrow$Run All).\n",
        "\n",
        "Make sure you fill in any place that says `YOUR CODE HERE` or \"YOUR ANSWER HERE\", as well as your name and collaborators below:"
      ],
      "id": "5FUsMvnWKBz2"
    },
    {
      "cell_type": "code",
      "execution_count": null,
      "metadata": {
        "id": "qpPkEj7RKBz4"
      },
      "outputs": [],
      "source": [
        "NAME = \"\"\n",
        "COLLABORATORS = \"\""
      ],
      "id": "qpPkEj7RKBz4"
    },
    {
      "cell_type": "markdown",
      "metadata": {
        "id": "wLa0jpSjKBz5"
      },
      "source": [
        "---"
      ],
      "id": "wLa0jpSjKBz5"
    },
    {
      "cell_type": "markdown",
      "metadata": {
        "deletable": false,
        "editable": false,
        "nbgrader": {
          "cell_type": "markdown",
          "checksum": "d0c4d513bb3598a923e35c0726bde214",
          "grade": false,
          "grade_id": "cell-7a55a9bb35c5b282",
          "locked": true,
          "schema_version": 3,
          "solution": false
        },
        "id": "dhBAQzkyKBz5"
      },
      "source": [
        "# CSE 30 Winter 2022 - Homework 1\n",
        "\n",
        "\n",
        "### Instructions\n",
        "\n",
        "Please disregard the YOUR NAME and COLLABORATORS above.  They are put there atomatically by the grading tool.\n",
        "You can find instructions on how to work on a homework on Canvas.  Here is a short summary: \n",
        "\n",
        "### Submitting your work\n",
        "\n",
        "To submit your work: \n",
        "\n",
        "* First, click on \"Runtime > Restart and run all\", and check that you get no errors.  This enables you to catch any error you might have introduced, and not noticed, due to your running cells out of order. \n",
        "* Second, download the notebook in .ipynb format (File > Download .ipynb) and upload the .ipynb file to [this form](https://docs.google.com/forms/d/e/1FAIpQLScptxNfsFWuWFHzCXq17OUnf7xI7yTDvX2gNsd8avuhaPZ2AA/viewform?usp=sf_link). \n",
        "\n",
        "You can submit multiple times; the last submission before the deadline is the one that counts.\n",
        "\n",
        "### Homework format\n",
        "\n",
        "For each question in this notebook, there is: \n",
        "\n",
        "* A text description of the problem. \n",
        "* One or more places where you have to insert your solution.  You need to complete every place marked: \n",
        "\n",
        "    `# YOUR CODE HERE`\n",
        "    \n",
        "    and you should not modify any other place. \n",
        "* One or more test cells.  Each cell is worth some number of points, marked at the top.  You should not modify these tests cells.  The tests pass if no error is printed out: when there is a statement that says, for instance: \n",
        "\n",
        "    `assert x == 2`\n",
        "    \n",
        "    then the test passes if `x` has value 2, and fails otherwise.  You can insert a `print(x)` (for this case!) somewhere if you want to debug your work; it is up to you.  \n",
        "    \n",
        "### Notes:\n",
        "\n",
        "* Your code will be tested both according to the tests you can see (the `assert` statements you can see), _and_ additional tests.  This prevents you from hard-coding the answer to the particular questions posed.  Your code should solve the _general_ intended case, not hard-code the particular answer for the values used in the tests. \n",
        "\n",
        "* **Please do not delete or add cells!** The test is autograded, and if you modify the test by adding or deleting cells, even if you re-add cells you delete, you may not receive credit. \n",
        "\n",
        "* **Please do not import modules that are not part of the [standard library](https://docs.python.org/3/library/index.html).** You do not need any, and they will likely not available in the grading environment, leading your code to fail. \n",
        "\n",
        "* **If you are inactive too long, your notebook might get disconnected from the back-end.** Your work is never lost, but you have to re-run all the cells before you continue. \n",
        "\n",
        "* You can write out print statements in your code, to help you test/debug it. But remember: the code is graded on the basis of what it outputs or returns, not on the basis of what it prints.\n",
        "\n",
        "* **TAs and tutors have access to this notebook,** so if you let them know you need their help, they can look at your work and give you advice. \n",
        "\n",
        "### Grading\n",
        "\n",
        "Each cell where there are tests is worth a certain number of points.  You get the points allocated to a cell only if you pass _all_ the tests in the cell. \n",
        "\n",
        "The tests in a cell include both the tests you can see, and other, similar, tests that are used for grading only.  Therefore, you cannot hard-code the solutions: you really have to solve the essence of the problem, to receive the points in a cell. \n",
        "\n",
        "### Code of Conduct\n",
        "\n",
        "* Work on the test yourself, alone. \n",
        "* You can search documentation on the web, on sites such as the Python documentation sites, Stackoverflow, and similar, and you can use the results. \n",
        "* You cannot share your work with others or solicit their help.\n"
      ],
      "id": "dhBAQzkyKBz5"
    },
    {
      "cell_type": "markdown",
      "metadata": {
        "deletable": false,
        "editable": false,
        "nbgrader": {
          "cell_type": "markdown",
          "checksum": "465a80f1f8ebfc1591e3c984c23a0f96",
          "grade": false,
          "grade_id": "cell-da1839e2d14367e0",
          "locked": true,
          "schema_version": 3,
          "solution": false
        },
        "id": "AkcDMg-uKBz6"
      },
      "source": [
        "## Question 1: Encoding and Decoding Text\n",
        "\n",
        "We will write simple functions to encode and decode text.  \n",
        "\n",
        "### The decoding function\n",
        "\n",
        "The decoding function takes as input a list of $n$ words $[w_0, w_1, \\ldots, w_{n-1}]$, and a list of $m$ integers $[k_0, k_1, \\ldots, k_{m-1}]$, where each integer is in the range $[0, \\ldots, n-1]$. \n",
        "\n",
        "The function must output the string $w_{k_0} \\; w_{k_1} \\; w_{k_2} \\; \\ldots w_{k_m}$, where each number has been replaced with the word in the corresponding position in the list, and words are joined by spaces. \n",
        "\n",
        "For example, assume the function is called with: \n",
        "\n",
        "    textdecode([\"a\", \"bird\", \"seed\", \"eats\"], [0, 1, 3, 0, 2])\n",
        "    \n",
        "Then the output should be \n",
        "\n",
        "    \"a bird eats a seed\"\n",
        "    \n",
        "because word 0 in the list is \"a\", word 1 is \"bird\", word 3 is \"eats\", word 0 is \"a\", and word 2 is \"seed\". \n",
        "\n",
        "Here, we remind you that if you have a list of word, you can join them using spaces to form a string like this: \n",
        "\n",
        "    \" \".join([\"coffee\", \"is\", \"good\"])\n",
        "    \n",
        "which produces\n",
        "\n",
        "    \"coffee is good\"\n",
        "\n",
        "You have to write the decode function."
      ],
      "id": "AkcDMg-uKBz6"
    },
    {
      "cell_type": "code",
      "execution_count": 24,
      "metadata": {
        "deletable": false,
        "nbgrader": {
          "cell_type": "code",
          "checksum": "d398f2f90ca096dfe22909bb00f10264",
          "grade": false,
          "grade_id": "cell-225e3b1fe703e89c",
          "locked": false,
          "schema_version": 3,
          "solution": true
        },
        "id": "phZy2ICJKBz7"
      },
      "outputs": [],
      "source": [
        "def textdecode(words, indices):\n",
        "    \"\"\"Decodes, producing a sentence in which each index is replaced\n",
        "    by the word in the corresponding position in words, and the words\n",
        "    are joined via spaces.\"\"\"\n",
        "    # YOUR CODE HERE\n",
        "    # return \" \".join([words[i] for i in indices])\n",
        "    \n",
        "    answer = []\n",
        "    for i in indices:\n",
        "      answer.append(words[i]) \n",
        "    return \" \".join(answer)\n",
        "      \n",
        "\n",
        "\n"
      ],
      "id": "phZy2ICJKBz7"
    },
    {
      "cell_type": "code",
      "execution_count": 25,
      "metadata": {
        "deletable": false,
        "nbgrader": {
          "cell_type": "code",
          "checksum": "30c9b6c81668ef572c6351c1f3020e2c",
          "grade": false,
          "grade_id": "cell-bfe06ccc19ce8838",
          "locked": false,
          "schema_version": 3,
          "solution": true
        },
        "id": "enUM2yFKKBz7",
        "colab": {
          "base_uri": "https://localhost:8080/"
        },
        "outputId": "03495000-78d9-4cb9-d2e6-2e2a69f6ab24"
      },
      "outputs": [
        {
          "output_type": "stream",
          "name": "stdout",
          "text": [
            "Harsh Harsh Harsh eats\n"
          ]
        }
      ],
      "source": [
        "# You can use this cell to test your code.\n",
        "print(textdecode([\"Harsh\", \"eats\"], [0, 0, 0, 1]))\n",
        "# YOUR CODE HERE\n"
      ],
      "id": "enUM2yFKKBz7"
    },
    {
      "cell_type": "code",
      "execution_count": 26,
      "metadata": {
        "deletable": false,
        "editable": false,
        "nbgrader": {
          "cell_type": "code",
          "checksum": "c9a7f5c929d3f0f708fcda57ddd57090",
          "grade": true,
          "grade_id": "cell-bc62aef112c5c296",
          "locked": true,
          "points": 10,
          "schema_version": 3,
          "solution": false
        },
        "id": "RFrHx_WoKBz8"
      },
      "outputs": [],
      "source": [
        "# 3 points: decoding function.\n",
        "\n",
        "assert textdecode([\"a\", \"bird\", \"seed\", \"eats\"], [0, 1, 3, 0, 2]) == \"a bird eats a seed\"\n",
        "assert textdecode([\"ha\"], [0, 0, 0]) == \"ha ha ha\"\n",
        "assert textdecode([\"be\", \"to\", \"not\", \"or\"], [1, 0, 3, 2, 1, 0]) == \"to be or not to be\"\n",
        "\n",
        "### BEGIN HIDDEN TESTS\n",
        "assert textdecode([\"is\", \"this\", \"right\", \"wrong\", \"or\"], [0, 1, 2, 4, 0, 1, 3]) == \"is this right or is this wrong\"\n",
        "### END HIDDEN TESTS\n",
        "\n"
      ],
      "id": "RFrHx_WoKBz8"
    },
    {
      "cell_type": "markdown",
      "metadata": {
        "deletable": false,
        "editable": false,
        "nbgrader": {
          "cell_type": "markdown",
          "checksum": "b3ffeb0119de3ba57ce11c75f277fb43",
          "grade": false,
          "grade_id": "cell-3f177608dfd68bf9",
          "locked": true,
          "schema_version": 3,
          "solution": false
        },
        "id": "L2Tuv5EIKBz8"
      },
      "source": [
        "### Encoding function\n",
        "\n",
        "The encoding function works in the opposite way.  Given a sentence `s`, it first splits `s` according to spaces, via `s.split()`, obtaining a list of words.  It then removes duplicates from this list of words, and returns: \n",
        "\n",
        "* The list of words, with duplicates removed; \n",
        "* A list obtained by replacing each word with the index of the word in the above list. \n",
        "\n",
        "For instance, if the input is: \n",
        "\n",
        "    \"i need a coffee\"\n",
        "    \n",
        "then the words are `\"i\"`, `\"need\"`, `\"a\"`, `\"coffee\"`, and there are no duplicates.  The output will then be: \n",
        "\n",
        "    [\"i\", \"need\", \"a\", \"coffee\"], [0, 1, 2, 3]\n",
        "    \n",
        "If the [input is](https://www.youtube.com/watch?v=98luuj8ymoQ) \n",
        "\n",
        "    \"yo ho ho and a bottle of rum\"\n",
        "    \n",
        "the output can be \n",
        "\n",
        "    [\"yo\", \"ho\", \"and\", \"a\", \"bottle\", \"of\", \"rum\"], [0, 1, 1, 2, 3, 4, 5, 6]\n",
        "    \n",
        "or if you prefer, \n",
        "\n",
        "    [\"a\", \"bottle\", \"of\", \"rum\", \"and\", \"yo\", \"ho\"], [5, 6, 6, 4, 1, 2, 3]\n",
        "    \n",
        "which would decode to the same string.  \n",
        "You have to write the encode function. "
      ],
      "id": "L2Tuv5EIKBz8"
    },
    {
      "cell_type": "code",
      "execution_count": null,
      "metadata": {
        "deletable": false,
        "nbgrader": {
          "cell_type": "code",
          "checksum": "f271cb7eaf637a5ab812eb0a2160e822",
          "grade": false,
          "grade_id": "cell-95825014dab51078",
          "locked": false,
          "schema_version": 3,
          "solution": true
        },
        "id": "PTvC2GswKBz8"
      },
      "outputs": [],
      "source": [
        "def textencode(s):\n",
        "    \"\"\"Encode the string s, dividing it into words, and returning a list\n",
        "    of unique words, and the list of indices of each word of s in the word list,\n",
        "    in order.\"\"\"\n",
        "\n",
        "    # YOUR CODE HERE\n",
        "    words = s.split(\" \")\n",
        "    list = []\n",
        "\n",
        "    for i in words:\n",
        "      if i not in list:\n",
        "        list.append(i)\n",
        "        \n",
        "    indices = []\n",
        "\n",
        "    for i in words:\n",
        "      indices.append(list.index(i))\n",
        "\n",
        "    return list, indices\n"
      ],
      "id": "PTvC2GswKBz8"
    },
    {
      "cell_type": "code",
      "execution_count": null,
      "metadata": {
        "deletable": false,
        "nbgrader": {
          "cell_type": "code",
          "checksum": "2534ac7b82ef8055ab5a5ddbcfd3e28d",
          "grade": false,
          "grade_id": "cell-5e9efc10e0aac6a9",
          "locked": false,
          "schema_version": 3,
          "solution": true
        },
        "id": "miXDZsVBKBz9",
        "colab": {
          "base_uri": "https://localhost:8080/"
        },
        "outputId": "1e9286e7-a350-4df8-eccd-da1a379c1eaf"
      },
      "outputs": [
        {
          "output_type": "stream",
          "name": "stdout",
          "text": [
            "(['a'], [0])\n"
          ]
        }
      ],
      "source": [
        "# You can use this cell to test your code.\n",
        "print(textencode(\"a\"))\n",
        "# YOUR CODE HERE\n"
      ],
      "id": "miXDZsVBKBz9"
    },
    {
      "cell_type": "code",
      "execution_count": null,
      "metadata": {
        "deletable": false,
        "editable": false,
        "nbgrader": {
          "cell_type": "code",
          "checksum": "b9200f1b609842cd5cf0bac5d6f35bf7",
          "grade": false,
          "grade_id": "cell-60b2fec903052434",
          "locked": true,
          "schema_version": 3,
          "solution": false
        },
        "id": "td2yjeFJKBz9"
      },
      "outputs": [],
      "source": [
        "# 4 point: simple tests\n",
        "\n",
        "assert textencode(\"a\") == ([\"a\"], [0])\n",
        "assert textencode(\"ho ho ho\") == ([\"ho\"], [0, 0, 0])\n"
      ],
      "id": "td2yjeFJKBz9"
    },
    {
      "cell_type": "code",
      "execution_count": 27,
      "metadata": {
        "deletable": false,
        "editable": false,
        "nbgrader": {
          "cell_type": "code",
          "checksum": "422e18b25e376c8075a9caf8bd98b54f",
          "grade": true,
          "grade_id": "cell-b5f3cc0323848bd",
          "locked": true,
          "points": 10,
          "schema_version": 3,
          "solution": false
        },
        "id": "O8cYk_myKBz9",
        "outputId": "23ce3758-05ff-43da-80b7-06abe9d97452",
        "colab": {
          "base_uri": "https://localhost:8080/",
          "height": 232
        }
      },
      "outputs": [
        {
          "output_type": "error",
          "ename": "AssertionError",
          "evalue": "ignored",
          "traceback": [
            "\u001b[0;31m---------------------------------------------------------------------------\u001b[0m",
            "\u001b[0;31mAssertionError\u001b[0m                            Traceback (most recent call last)",
            "\u001b[0;32m<ipython-input-27-0aaf67ad5253>\u001b[0m in \u001b[0;36m<module>\u001b[0;34m()\u001b[0m\n\u001b[1;32m     18\u001b[0m     \u001b[0ms\u001b[0m \u001b[0;34m=\u001b[0m \u001b[0;34m\" \"\u001b[0m\u001b[0;34m.\u001b[0m\u001b[0mjoin\u001b[0m\u001b[0;34m(\u001b[0m\u001b[0mrandom\u001b[0m\u001b[0;34m.\u001b[0m\u001b[0mchoices\u001b[0m\u001b[0;34m(\u001b[0m\u001b[0mwords\u001b[0m\u001b[0;34m,\u001b[0m \u001b[0mk\u001b[0m\u001b[0;34m=\u001b[0m\u001b[0mk\u001b[0m\u001b[0;34m)\u001b[0m\u001b[0;34m)\u001b[0m\u001b[0;34m\u001b[0m\u001b[0;34m\u001b[0m\u001b[0m\n\u001b[1;32m     19\u001b[0m     \u001b[0mws\u001b[0m\u001b[0;34m,\u001b[0m \u001b[0mix\u001b[0m \u001b[0;34m=\u001b[0m \u001b[0mtextencode\u001b[0m\u001b[0;34m(\u001b[0m\u001b[0ms\u001b[0m\u001b[0;34m)\u001b[0m\u001b[0;34m\u001b[0m\u001b[0;34m\u001b[0m\u001b[0m\n\u001b[0;32m---> 20\u001b[0;31m     \u001b[0;32massert\u001b[0m \u001b[0mlen\u001b[0m\u001b[0;34m(\u001b[0m\u001b[0mws\u001b[0m\u001b[0;34m)\u001b[0m \u001b[0;34m==\u001b[0m \u001b[0mlen\u001b[0m\u001b[0;34m(\u001b[0m\u001b[0mset\u001b[0m\u001b[0;34m(\u001b[0m\u001b[0ms\u001b[0m\u001b[0;34m.\u001b[0m\u001b[0msplit\u001b[0m\u001b[0;34m(\u001b[0m\u001b[0;34m)\u001b[0m\u001b[0;34m)\u001b[0m\u001b[0;34m)\u001b[0m\u001b[0;34m\u001b[0m\u001b[0;34m\u001b[0m\u001b[0m\n\u001b[0m\u001b[1;32m     21\u001b[0m     \u001b[0mt\u001b[0m \u001b[0;34m=\u001b[0m \u001b[0mtextdecode\u001b[0m\u001b[0;34m(\u001b[0m\u001b[0mws\u001b[0m\u001b[0;34m,\u001b[0m \u001b[0mix\u001b[0m\u001b[0;34m)\u001b[0m\u001b[0;34m\u001b[0m\u001b[0;34m\u001b[0m\u001b[0m\n\u001b[1;32m     22\u001b[0m     \u001b[0;32massert\u001b[0m \u001b[0ms\u001b[0m \u001b[0;34m==\u001b[0m \u001b[0mt\u001b[0m\u001b[0;34m\u001b[0m\u001b[0;34m\u001b[0m\u001b[0m\n",
            "\u001b[0;31mAssertionError\u001b[0m: "
          ]
        }
      ],
      "source": [
        "# 3 points: encoding / decoding tests\n",
        "\n",
        "import random\n",
        "\n",
        "words = [\"a\", \"bi\", \"ci\", \"di\", \"e\", \"effe\", \"gi\"]\n",
        "for _ in range(1000):\n",
        "    k = random.randint(0, 10)\n",
        "    s = \" \".join(random.choices(words, k=k))\n",
        "    ws, ix = textencode(s)\n",
        "    assert len(set(ws)) == len(set(ix))\n",
        "    t = textdecode(ws, ix)\n",
        "    assert s == t\n",
        "\n",
        "    ### BEGIN HIDDEN TESTS\n",
        "words = [\"a\", \"bi\", \"ci\", \"di\", \"e\", \"effe\", \"gi\"]\n",
        "for _ in range(1000):\n",
        "    k = random.randint(0, 20)\n",
        "    s = \" \".join(random.choices(words, k=k))\n",
        "    ws, ix = textencode(s)\n",
        "    assert len(ws) == len(set(s.split()))\n",
        "    t = textdecode(ws, ix)\n",
        "    assert s == t\n",
        "### END HIDDEN TESTS\n",
        "\n"
      ],
      "id": "O8cYk_myKBz9"
    },
    {
      "cell_type": "markdown",
      "metadata": {
        "deletable": false,
        "editable": false,
        "nbgrader": {
          "cell_type": "markdown",
          "checksum": "c0c4247536c56a183477c8df6bd59774",
          "grade": false,
          "grade_id": "cell-468fd567d431afc1",
          "locked": true,
          "schema_version": 3,
          "solution": false
        },
        "id": "AfR8x7IjKBz9"
      },
      "source": [
        "## Question 2: Numerical Dictionaries\n",
        "\n",
        "This question considers _numerical dictionaries_, which map keys to integers (rather than to arbitrary values).  These dictionaries can be used to count occurrences; for instance, the dictionary {'a': 1, 'b': 3} indicates that 'a' occurred once, and 'b' three times. \n",
        "\n",
        "Write a function `add_dicts` that, given two numerical dictionaries, computes the numerical dictionary resulting from their sum.  For instance, `add_dict({'a': 1, 'b': 3}, {'b': 2, 'c': 3})` should give `{'a': 1, 'b': 5, 'c': 3}` as result."
      ],
      "id": "AfR8x7IjKBz9"
    },
    {
      "cell_type": "code",
      "execution_count": 9,
      "metadata": {
        "deletable": false,
        "nbgrader": {
          "cell_type": "code",
          "checksum": "e0855e47ab25aab5bfd6f280b7999354",
          "grade": false,
          "grade_id": "cell-ac45612bc8e2de6d",
          "locked": false,
          "schema_version": 3,
          "solution": true
        },
        "id": "Njy3SDiPKBz-"
      },
      "outputs": [],
      "source": [
        "def add_dicts(d1, d2):\n",
        "    # YOUR CODE HERE \n",
        "    d = {}\n",
        "    # search for == keys in both dict\n",
        "\n",
        "    for key in d1:\n",
        "        if key in d2:\n",
        "            d[key] = d1[key] + d2[key]\n",
        "        else:\n",
        "            d[key] = d1[key]\n",
        "\n",
        "    #check remaining keys\n",
        "    \n",
        "    for key in d2:\n",
        "        if key not in d:\n",
        "            d[key] = d2[key]\n",
        "\n",
        "    return d\n"
      ],
      "id": "Njy3SDiPKBz-"
    },
    {
      "cell_type": "code",
      "execution_count": 10,
      "metadata": {
        "deletable": false,
        "nbgrader": {
          "cell_type": "code",
          "checksum": "11b748dcc396d348914c535426c8fe47",
          "grade": false,
          "grade_id": "cell-ac1594a07ea59058",
          "locked": false,
          "schema_version": 3,
          "solution": true
        },
        "id": "fgDaWMiLKBz-",
        "colab": {
          "base_uri": "https://localhost:8080/"
        },
        "outputId": "797da433-4fbf-410d-90c3-c94a20671f61"
      },
      "outputs": [
        {
          "output_type": "stream",
          "name": "stdout",
          "text": [
            "{'a': 4, 'b': 3}\n"
          ]
        }
      ],
      "source": [
        "# You can use this cell to test your code.\n",
        "# YOUR CODE HERE\n",
        "print(add_dicts({'a': 1, 'b': 2}, {'a': 3, 'b': 1}))"
      ],
      "id": "fgDaWMiLKBz-"
    },
    {
      "cell_type": "code",
      "execution_count": 11,
      "metadata": {
        "deletable": false,
        "editable": false,
        "nbgrader": {
          "cell_type": "code",
          "checksum": "e8835edd6513c2cd82d7a2e5d6a30cff",
          "grade": true,
          "grade_id": "cell-12b166f64b007413",
          "locked": true,
          "points": 10,
          "schema_version": 3,
          "solution": false
        },
        "id": "x3QzTG7WKBz-"
      },
      "outputs": [],
      "source": [
        "# 4 points: When the keys are the same.\n",
        "\n",
        "assert add_dicts({'a': 1, 'b': 2}, {'a': 3, 'b': 1}) == {'a': 4, 'b': 3}\n",
        "# And empty.\n",
        "assert add_dicts({}, {}) == {}\n",
        "\n"
      ],
      "id": "x3QzTG7WKBz-"
    },
    {
      "cell_type": "code",
      "execution_count": 12,
      "metadata": {
        "deletable": false,
        "editable": false,
        "nbgrader": {
          "cell_type": "code",
          "checksum": "731a1dbf09e8bf6a97c631cb9c7bff94",
          "grade": true,
          "grade_id": "cell-60755dc1eb1adba3",
          "locked": true,
          "points": 10,
          "schema_version": 3,
          "solution": false
        },
        "id": "Q6ukBajKKBz-"
      },
      "outputs": [],
      "source": [
        "# 6 points: When the keys are different.\n",
        "\n",
        "assert add_dicts({'a': 1, 'c': 2}, {'a': 3, 'b': 1}) == {'a': 4, 'b': 1, 'c': 2}\n",
        "assert add_dicts({'a': 3, 'b': 1}, {'a': 1, 'c': 2}) == {'a': 4, 'b': 1, 'c': 2}\n",
        "\n"
      ],
      "id": "Q6ukBajKKBz-"
    },
    {
      "cell_type": "markdown",
      "metadata": {
        "deletable": false,
        "editable": false,
        "nbgrader": {
          "cell_type": "markdown",
          "checksum": "fc426aa6563e667110d58b71db1560b3",
          "grade": false,
          "grade_id": "cell-bcccb7995a599f50",
          "locked": true,
          "schema_version": 3,
          "solution": false
        },
        "id": "N5FUicEMKBz-"
      },
      "source": [
        "## Question 3\n",
        "\n",
        "Implement a function `ordered_substring` that takes as input two strings, s and t. \n",
        "The function returns True if and only if the characters of s can be found, in the order in which they are in s, as characters of t. In other words, the function returns True if and only if it is possible to remove some characters from t, so that the remaining ones  form the string s. \n",
        "\n",
        "For example:\n",
        "\n",
        "* `ordered_substring(\"abc\", \"a123b4b523bc\")` should return True, because `\"a123b4b523bc\"` contains the characters `\"abc\"` in that order, taking its 1st, 5th, and last character.\n",
        "* Instead, `ordered_substring(\"abc\", \"a123c4b523b\")` should return False, because `\"a123c4b523b\"` does not contain a \"c\" after a \"b\". \n",
        "* `ordered_substring(\"abb\", \"a123c4b523f\")` should also return False, because there is no `\"b\"` after the first `\"b\"` in `\"a123c4b523f\"`. \n"
      ],
      "id": "N5FUicEMKBz-"
    },
    {
      "cell_type": "code",
      "execution_count": 13,
      "metadata": {
        "deletable": false,
        "nbgrader": {
          "cell_type": "code",
          "checksum": "8d0d0ccbf6a0236da34f4ce4efda419a",
          "grade": false,
          "grade_id": "cell-3b60bbed4f3aa1a0",
          "locked": false,
          "schema_version": 3,
          "solution": true
        },
        "id": "VmIs7Y8RKBz-"
      },
      "outputs": [],
      "source": [
        "def ordered_substring(s, t):\n",
        "    \"\"\"Returns True if s is an ordered substring of t, and False otherwise.\"\"\"\n",
        "    # YOUR CODE HERE\n",
        "    x = len(s) #index of str1\n",
        "    y = len(t) #index of str2\n",
        "\n",
        "    j = 0\n",
        "    i = 0 \n",
        "\n",
        "    # Traverse both str1 and str2\n",
        "    # Compare current character of str2 with\n",
        "    # first unmatched character of str1\n",
        "    # If matched, then move ahead in str1\n",
        "\n",
        "    while j < x and i < y:\n",
        "        if s[j] == t[i]:\n",
        "            j = j + 1\n",
        "        i = i + 1\n",
        "        \n",
        "    # If all characters of str1 matched,\n",
        "    # then j is equal to m\n",
        "    return j == x\n"
      ],
      "id": "VmIs7Y8RKBz-"
    },
    {
      "cell_type": "code",
      "execution_count": 15,
      "metadata": {
        "deletable": false,
        "nbgrader": {
          "cell_type": "code",
          "checksum": "4a2bbf2355aef6d6e713e9d121c3b79f",
          "grade": false,
          "grade_id": "cell-1029c6c4e0367cc1",
          "locked": false,
          "schema_version": 3,
          "solution": true
        },
        "id": "YDP4qL-rKBz_",
        "colab": {
          "base_uri": "https://localhost:8080/"
        },
        "outputId": "ba787373-676d-471a-ee79-6da0986a743a"
      },
      "outputs": [
        {
          "output_type": "stream",
          "name": "stdout",
          "text": [
            "True\n"
          ]
        }
      ],
      "source": [
        "# You can use this cell to test your code.\n",
        "print(ordered_substring('ac', 'abcd'))\n",
        "# YOUR CODE HERE\n"
      ],
      "id": "YDP4qL-rKBz_"
    },
    {
      "cell_type": "code",
      "execution_count": 14,
      "metadata": {
        "deletable": false,
        "editable": false,
        "nbgrader": {
          "cell_type": "code",
          "checksum": "2b86bcc325c62d2f1277085acee2d0b7",
          "grade": true,
          "grade_id": "cell-232a4debb2b904e3",
          "locked": true,
          "points": 10,
          "schema_version": 3,
          "solution": false
        },
        "id": "1r6upgeTKBz_"
      },
      "outputs": [],
      "source": [
        "# 2 points: Let us first test that the code works for empty and one-character strings s.\n",
        "\n",
        "assert ordered_substring('', 'abc')\n",
        "assert ordered_substring('a', 'cabd')\n",
        "assert ordered_substring('d', 'cabd')\n",
        "assert not ordered_substring('f', 'cabd')\n",
        "assert not ordered_substring('a', '')\n",
        "assert ordered_substring('', '')\n",
        "\n"
      ],
      "id": "1r6upgeTKBz_"
    },
    {
      "cell_type": "code",
      "execution_count": 16,
      "metadata": {
        "deletable": false,
        "editable": false,
        "nbgrader": {
          "cell_type": "code",
          "checksum": "e90c4bca8d6794768bcfc451e6f0b45f",
          "grade": true,
          "grade_id": "cell-84eb0ee8432206d6",
          "locked": true,
          "points": 10,
          "schema_version": 3,
          "solution": false
        },
        "id": "PXif9iAYKBz_"
      },
      "outputs": [],
      "source": [
        "# 2 points: Some other simple cases.\n",
        "\n",
        "assert ordered_substring('ab', 'abcd')\n",
        "assert ordered_substring('ac', 'abcd')\n",
        "assert ordered_substring('bd', 'abcd')\n",
        "assert not ordered_substring('ba', 'abcd')\n",
        "assert not ordered_substring('af', 'abcd')\n",
        "assert ordered_substring('123', '12345')\n",
        "\n"
      ],
      "id": "PXif9iAYKBz_"
    },
    {
      "cell_type": "code",
      "execution_count": 17,
      "metadata": {
        "deletable": false,
        "editable": false,
        "nbgrader": {
          "cell_type": "code",
          "checksum": "2941bb5e4a37c9239ae6bb557417bfb8",
          "grade": true,
          "grade_id": "cell-80b2c02749e237d1",
          "locked": true,
          "points": 10,
          "schema_version": 3,
          "solution": false
        },
        "id": "oEnQfZyYKBz_"
      },
      "outputs": [],
      "source": [
        "# 6 points: General cases.\n",
        "\n",
        "assert ordered_substring('abc', 'abbbeec')\n",
        "assert not ordered_substring('abbc', 'abc')\n",
        "assert ordered_substring('aa', 'bacad')\n",
        "assert ordered_substring('aaba', 'ababa')\n",
        "\n"
      ],
      "id": "oEnQfZyYKBz_"
    },
    {
      "cell_type": "markdown",
      "metadata": {
        "deletable": false,
        "editable": false,
        "nbgrader": {
          "cell_type": "markdown",
          "checksum": "8440f0fe4b2dca29f3ae90d4b4ab3105",
          "grade": false,
          "grade_id": "cell-74bf8bb56d9a1a1b",
          "locked": true,
          "schema_version": 3,
          "solution": false
        },
        "id": "14J_9_FVKBz_"
      },
      "source": [
        "## Question 4: Elections\n",
        "\n",
        "Write an `Election` class, used to record votes.  The class has the following methods: \n",
        "\n",
        "* `vote(c)`: records a vote for candidate `c`. \n",
        "* `total_votes()`: returns the total number of votes. \n",
        "* `winner()`: returns the set of candidates with maximal votes.  Normally there is only one, but there could be a tie, in which case you return the set of tied candidates.  Return `None` if no votes have been cast.\n",
        "* `margin()`: returns the margin of victory, that is, the number of votes separating the fist from the second candidate.  This can be 0, in case of a tie.  If there is only one candidate, you can answer with the number of votes for the candidate.  If no votes have been cast, return `None`. \n",
        "\n",
        "We provide the initializer method; the idea is to store the election status as a dictionary mapping candidate name to number of votes received."
      ],
      "id": "14J_9_FVKBz_"
    },
    {
      "cell_type": "code",
      "execution_count": 18,
      "metadata": {
        "deletable": false,
        "nbgrader": {
          "cell_type": "code",
          "checksum": "0569dc93c84f238e3282d842ef714fdf",
          "grade": false,
          "grade_id": "cell-bfcf866db9473b20",
          "locked": false,
          "schema_version": 3,
          "solution": true
        },
        "id": "XP2ZKqk0KBz_"
      },
      "outputs": [],
      "source": [
        "# You can use this cell to test your code. \n",
        "class Election(object):\n",
        "    \"\"\"Implements the election class.\"\"\"\n",
        "\n",
        "    def __init__(self):\n",
        "        # Dictionary mapping voters to the number of votes received.\n",
        "        self.votes = {}\n",
        "\n",
        "    def vote(self, c):\n",
        "\n",
        "        i = self.votes.get(c, 0)\n",
        "        self.votes[c] = i + 1\n",
        "\n",
        "    def total_votes(self):\n",
        "        total = 0 \n",
        "        \n",
        "        for i in self.votes.values():\n",
        "            total += i\n",
        "\n",
        "        return total \n",
        "\n",
        "    def winner(self):\n",
        "        \n",
        "        result = set()\n",
        "        if not self.votes:\n",
        "            return None\n",
        "\n",
        "       \n",
        "        mx = 0\n",
        "        for c, i in self.votes.items():\n",
        "            if mx < i:\n",
        "                result = set([c])\n",
        "                mx = i\n",
        "            elif self.votes[c] == mx:\n",
        "                result.add(c)\n",
        "        return result\n",
        "        \n",
        "        \n",
        "    def margin(self):\n",
        "\n",
        "        if not self.votes:\n",
        "            return \n",
        "\n",
        "        sec = 0\n",
        "        i = 0\n",
        "\n",
        "        # result = self.winner()\n",
        "\n",
        "        for c in self.votes:\n",
        "            if self.votes[c] > sec:\n",
        "                i = sec\n",
        "                sec = self.votes[c]\n",
        "            elif self.votes[c] > i:\n",
        "                i = self.votes[c]\n",
        "        \n",
        "        return sec - i\n",
        "        \n",
        "        \n",
        "    \n",
        "\n",
        "    \n",
        "# YOUR CODE HERE"
      ],
      "id": "XP2ZKqk0KBz_"
    },
    {
      "cell_type": "code",
      "execution_count": 19,
      "metadata": {
        "deletable": false,
        "nbgrader": {
          "cell_type": "code",
          "checksum": "6b035fa95045331635cf2b9f759167b2",
          "grade": false,
          "grade_id": "cell-1137c79477128260",
          "locked": false,
          "schema_version": 3,
          "solution": true
        },
        "id": "Bcei6YWHKB0A",
        "colab": {
          "base_uri": "https://localhost:8080/"
        },
        "outputId": "0bab089e-d499-40ee-e765-714ef156df13"
      },
      "outputs": [
        {
          "output_type": "stream",
          "name": "stdout",
          "text": [
            "Total votes:  7\n",
            "Winner: {'Alison'}\n",
            "Margin: 2 \n",
            "\n"
          ]
        }
      ],
      "source": [
        "# You can use this cell to test your code.\n",
        "e = Election()\n",
        "\n",
        "e.vote('Alison')\n",
        "e.vote('sam')\n",
        "e.vote('Alison')\n",
        "e.vote('John')\n",
        "e.vote('Alison')\n",
        "e.vote('Kevin')\n",
        "#e.vote('Alison')\n",
        "e.vote('Grace')\n",
        "\n",
        "\n",
        "print(\"Total votes: \", e.total_votes())\n",
        "print(\"Winner:\", e.winner())\n",
        "\n",
        "print(\"Margin:\", e.margin(),'\\n')\n",
        "# print(e.margin()) \n",
        "# YOUR CODE HERE\n"
      ],
      "id": "Bcei6YWHKB0A"
    },
    {
      "cell_type": "code",
      "execution_count": 20,
      "metadata": {
        "deletable": false,
        "editable": false,
        "nbgrader": {
          "cell_type": "code",
          "checksum": "d7d14035dd6849af37a9e7b4e8e468aa",
          "grade": true,
          "grade_id": "cell-3f8d0ee072e63921",
          "locked": true,
          "points": 10,
          "schema_version": 3,
          "solution": false
        },
        "id": "TKuwVd-aKB0A"
      },
      "outputs": [],
      "source": [
        "# 5 points: Tests for total_votes method.\n",
        "\n",
        "e = Election()\n",
        "assert e.total_votes() == 0\n",
        "\n",
        "e.vote('a')\n",
        "e.vote('b')\n",
        "e.vote('a')\n",
        "assert e.total_votes() == 3\n",
        "\n",
        "e.vote('c')\n",
        "e.vote('b')\n",
        "assert e.total_votes(), 5\n",
        "\n"
      ],
      "id": "TKuwVd-aKB0A"
    },
    {
      "cell_type": "code",
      "execution_count": 21,
      "metadata": {
        "deletable": false,
        "editable": false,
        "nbgrader": {
          "cell_type": "code",
          "checksum": "f4d78421e9a7aeaedc40002eb9dac4ab",
          "grade": true,
          "grade_id": "cell-a4ace4e3503adcc4",
          "locked": true,
          "points": 10,
          "schema_version": 3,
          "solution": false
        },
        "id": "zSgButh5KB0A"
      },
      "outputs": [],
      "source": [
        "# 5 points: Tests for winner method.\n",
        "\n",
        "e = Election()\n",
        "assert e.winner() == None\n",
        "\n",
        "e.vote('a')\n",
        "e.vote('b')\n",
        "e.vote('a')\n",
        "assert set(e.winner()) == {'a'}\n",
        "\n",
        "e.vote('c')\n",
        "e.vote('b')\n",
        "assert set(e.winner()) == {'a', 'b'}\n",
        "\n"
      ],
      "id": "zSgButh5KB0A"
    },
    {
      "cell_type": "code",
      "execution_count": 22,
      "metadata": {
        "deletable": false,
        "editable": false,
        "nbgrader": {
          "cell_type": "code",
          "checksum": "711765850fa4f8ebb1a42d2358a24d04",
          "grade": true,
          "grade_id": "cell-fea3bbe9b633ae87",
          "locked": true,
          "points": 10,
          "schema_version": 3,
          "solution": false
        },
        "id": "dtJJCwFKKB0A"
      },
      "outputs": [],
      "source": [
        "# 5 points: Tests for margin method.\n",
        "\n",
        "e = Election()\n",
        "assert e.margin() == None\n",
        "\n",
        "e.vote('a')\n",
        "e.vote('b')\n",
        "e.vote('a')\n",
        "assert e.margin() == 1\n",
        "\n",
        "e.vote('c')\n",
        "e.vote('b')\n",
        "assert e.margin() == 0\n",
        "\n"
      ],
      "id": "dtJJCwFKKB0A"
    },
    {
      "cell_type": "code",
      "execution_count": null,
      "metadata": {
        "deletable": false,
        "editable": false,
        "nbgrader": {
          "cell_type": "code",
          "checksum": "896d87b3274b0e3d8f564e0a170ecde1",
          "grade": false,
          "grade_id": "cell-c9a76dcbd4e3c688",
          "locked": true,
          "schema_version": 3,
          "solution": false
        },
        "id": "I7hnathuKB0A"
      },
      "outputs": [],
      "source": [
        ""
      ],
      "id": "I7hnathuKB0A"
    }
  ],
  "metadata": {
    "kernelspec": {
      "display_name": "Python 3",
      "language": "python",
      "name": "python3"
    },
    "language_info": {
      "codemirror_mode": {
        "name": "ipython",
        "version": 3
      },
      "file_extension": ".py",
      "mimetype": "text/x-python",
      "name": "python",
      "nbconvert_exporter": "python",
      "pygments_lexer": "ipython3",
      "version": "3.8.10"
    },
    "test_info": {
      "id": "6ff63c5258989883179bb4fb555dc9c6560fa10c"
    },
    "colab": {
      "name": "Homework_1_test.ipynb",
      "provenance": []
    }
  },
  "nbformat": 4,
  "nbformat_minor": 5
}